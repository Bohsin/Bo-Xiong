{
 "cells": [
  {
   "cell_type": "code",
   "execution_count": 43,
   "metadata": {},
   "outputs": [],
   "source": [
    "import numpy as np\n",
    "import pandas as pd\n",
    "import matplotlib.pyplot as plt\n",
    "from sklearn.pipeline import Pipeline"
   ]
  },
  {
   "cell_type": "code",
   "execution_count": 12,
   "metadata": {},
   "outputs": [],
   "source": [
    "###feature extraction\n",
    "###feature creation\n",
    "###feature selection\n",
    "## we focus on feature selection in this note.\n",
    "## there are three main methods for feature selection:\n",
    "## filter"
   ]
  },
  {
   "cell_type": "code",
   "execution_count": 13,
   "metadata": {},
   "outputs": [],
   "source": [
    "rdata = pd.read_csv(r\"E:\\machine learning\\Preprocessing and feature selection\\digit recognizer.csv\")"
   ]
  },
  {
   "cell_type": "code",
   "execution_count": 14,
   "metadata": {},
   "outputs": [
    {
     "name": "stdout",
     "output_type": "stream",
     "text": [
      "<class 'pandas.core.frame.DataFrame'>\n",
      "RangeIndex: 42000 entries, 0 to 41999\n",
      "Columns: 785 entries, label to pixel783\n",
      "dtypes: int64(785)\n",
      "memory usage: 251.5 MB\n"
     ]
    }
   ],
   "source": [
    "rdata.info()"
   ]
  },
  {
   "cell_type": "code",
   "execution_count": 15,
   "metadata": {
    "scrolled": true
   },
   "outputs": [
    {
     "data": {
      "text/html": [
       "<div>\n",
       "<style scoped>\n",
       "    .dataframe tbody tr th:only-of-type {\n",
       "        vertical-align: middle;\n",
       "    }\n",
       "\n",
       "    .dataframe tbody tr th {\n",
       "        vertical-align: top;\n",
       "    }\n",
       "\n",
       "    .dataframe thead th {\n",
       "        text-align: right;\n",
       "    }\n",
       "</style>\n",
       "<table border=\"1\" class=\"dataframe\">\n",
       "  <thead>\n",
       "    <tr style=\"text-align: right;\">\n",
       "      <th></th>\n",
       "      <th>label</th>\n",
       "      <th>pixel0</th>\n",
       "      <th>pixel1</th>\n",
       "      <th>pixel2</th>\n",
       "      <th>pixel3</th>\n",
       "      <th>pixel4</th>\n",
       "      <th>pixel5</th>\n",
       "      <th>pixel6</th>\n",
       "      <th>pixel7</th>\n",
       "      <th>pixel8</th>\n",
       "      <th>...</th>\n",
       "      <th>pixel774</th>\n",
       "      <th>pixel775</th>\n",
       "      <th>pixel776</th>\n",
       "      <th>pixel777</th>\n",
       "      <th>pixel778</th>\n",
       "      <th>pixel779</th>\n",
       "      <th>pixel780</th>\n",
       "      <th>pixel781</th>\n",
       "      <th>pixel782</th>\n",
       "      <th>pixel783</th>\n",
       "    </tr>\n",
       "  </thead>\n",
       "  <tbody>\n",
       "    <tr>\n",
       "      <td>0</td>\n",
       "      <td>1</td>\n",
       "      <td>0</td>\n",
       "      <td>0</td>\n",
       "      <td>0</td>\n",
       "      <td>0</td>\n",
       "      <td>0</td>\n",
       "      <td>0</td>\n",
       "      <td>0</td>\n",
       "      <td>0</td>\n",
       "      <td>0</td>\n",
       "      <td>...</td>\n",
       "      <td>0</td>\n",
       "      <td>0</td>\n",
       "      <td>0</td>\n",
       "      <td>0</td>\n",
       "      <td>0</td>\n",
       "      <td>0</td>\n",
       "      <td>0</td>\n",
       "      <td>0</td>\n",
       "      <td>0</td>\n",
       "      <td>0</td>\n",
       "    </tr>\n",
       "    <tr>\n",
       "      <td>1</td>\n",
       "      <td>0</td>\n",
       "      <td>0</td>\n",
       "      <td>0</td>\n",
       "      <td>0</td>\n",
       "      <td>0</td>\n",
       "      <td>0</td>\n",
       "      <td>0</td>\n",
       "      <td>0</td>\n",
       "      <td>0</td>\n",
       "      <td>0</td>\n",
       "      <td>...</td>\n",
       "      <td>0</td>\n",
       "      <td>0</td>\n",
       "      <td>0</td>\n",
       "      <td>0</td>\n",
       "      <td>0</td>\n",
       "      <td>0</td>\n",
       "      <td>0</td>\n",
       "      <td>0</td>\n",
       "      <td>0</td>\n",
       "      <td>0</td>\n",
       "    </tr>\n",
       "    <tr>\n",
       "      <td>2</td>\n",
       "      <td>1</td>\n",
       "      <td>0</td>\n",
       "      <td>0</td>\n",
       "      <td>0</td>\n",
       "      <td>0</td>\n",
       "      <td>0</td>\n",
       "      <td>0</td>\n",
       "      <td>0</td>\n",
       "      <td>0</td>\n",
       "      <td>0</td>\n",
       "      <td>...</td>\n",
       "      <td>0</td>\n",
       "      <td>0</td>\n",
       "      <td>0</td>\n",
       "      <td>0</td>\n",
       "      <td>0</td>\n",
       "      <td>0</td>\n",
       "      <td>0</td>\n",
       "      <td>0</td>\n",
       "      <td>0</td>\n",
       "      <td>0</td>\n",
       "    </tr>\n",
       "    <tr>\n",
       "      <td>3</td>\n",
       "      <td>4</td>\n",
       "      <td>0</td>\n",
       "      <td>0</td>\n",
       "      <td>0</td>\n",
       "      <td>0</td>\n",
       "      <td>0</td>\n",
       "      <td>0</td>\n",
       "      <td>0</td>\n",
       "      <td>0</td>\n",
       "      <td>0</td>\n",
       "      <td>...</td>\n",
       "      <td>0</td>\n",
       "      <td>0</td>\n",
       "      <td>0</td>\n",
       "      <td>0</td>\n",
       "      <td>0</td>\n",
       "      <td>0</td>\n",
       "      <td>0</td>\n",
       "      <td>0</td>\n",
       "      <td>0</td>\n",
       "      <td>0</td>\n",
       "    </tr>\n",
       "    <tr>\n",
       "      <td>4</td>\n",
       "      <td>0</td>\n",
       "      <td>0</td>\n",
       "      <td>0</td>\n",
       "      <td>0</td>\n",
       "      <td>0</td>\n",
       "      <td>0</td>\n",
       "      <td>0</td>\n",
       "      <td>0</td>\n",
       "      <td>0</td>\n",
       "      <td>0</td>\n",
       "      <td>...</td>\n",
       "      <td>0</td>\n",
       "      <td>0</td>\n",
       "      <td>0</td>\n",
       "      <td>0</td>\n",
       "      <td>0</td>\n",
       "      <td>0</td>\n",
       "      <td>0</td>\n",
       "      <td>0</td>\n",
       "      <td>0</td>\n",
       "      <td>0</td>\n",
       "    </tr>\n",
       "  </tbody>\n",
       "</table>\n",
       "<p>5 rows × 785 columns</p>\n",
       "</div>"
      ],
      "text/plain": [
       "   label  pixel0  pixel1  pixel2  pixel3  pixel4  pixel5  pixel6  pixel7  \\\n",
       "0      1       0       0       0       0       0       0       0       0   \n",
       "1      0       0       0       0       0       0       0       0       0   \n",
       "2      1       0       0       0       0       0       0       0       0   \n",
       "3      4       0       0       0       0       0       0       0       0   \n",
       "4      0       0       0       0       0       0       0       0       0   \n",
       "\n",
       "   pixel8  ...  pixel774  pixel775  pixel776  pixel777  pixel778  pixel779  \\\n",
       "0       0  ...         0         0         0         0         0         0   \n",
       "1       0  ...         0         0         0         0         0         0   \n",
       "2       0  ...         0         0         0         0         0         0   \n",
       "3       0  ...         0         0         0         0         0         0   \n",
       "4       0  ...         0         0         0         0         0         0   \n",
       "\n",
       "   pixel780  pixel781  pixel782  pixel783  \n",
       "0         0         0         0         0  \n",
       "1         0         0         0         0  \n",
       "2         0         0         0         0  \n",
       "3         0         0         0         0  \n",
       "4         0         0         0         0  \n",
       "\n",
       "[5 rows x 785 columns]"
      ]
     },
     "execution_count": 15,
     "metadata": {},
     "output_type": "execute_result"
    }
   ],
   "source": [
    "rdata.head()"
   ]
  },
  {
   "cell_type": "code",
   "execution_count": 16,
   "metadata": {},
   "outputs": [],
   "source": [
    "x = rdata.iloc[:,1:]\n",
    "y = rdata.iloc[:,0]"
   ]
  },
  {
   "cell_type": "code",
   "execution_count": 34,
   "metadata": {},
   "outputs": [
    {
     "data": {
      "text/plain": [
       "{0, 1, 2, 3, 4, 5, 6, 7, 8, 9}"
      ]
     },
     "execution_count": 34,
     "metadata": {},
     "output_type": "execute_result"
    }
   ],
   "source": [
    "set(y.values)"
   ]
  },
  {
   "cell_type": "code",
   "execution_count": 17,
   "metadata": {},
   "outputs": [
    {
     "data": {
      "text/plain": [
       "(42000, 784)"
      ]
     },
     "execution_count": 17,
     "metadata": {},
     "output_type": "execute_result"
    }
   ],
   "source": [
    "x.shape"
   ]
  },
  {
   "cell_type": "code",
   "execution_count": 20,
   "metadata": {},
   "outputs": [
    {
     "data": {
      "text/html": [
       "<div>\n",
       "<style scoped>\n",
       "    .dataframe tbody tr th:only-of-type {\n",
       "        vertical-align: middle;\n",
       "    }\n",
       "\n",
       "    .dataframe tbody tr th {\n",
       "        vertical-align: top;\n",
       "    }\n",
       "\n",
       "    .dataframe thead th {\n",
       "        text-align: right;\n",
       "    }\n",
       "</style>\n",
       "<table border=\"1\" class=\"dataframe\">\n",
       "  <thead>\n",
       "    <tr style=\"text-align: right;\">\n",
       "      <th></th>\n",
       "      <th>pixel0</th>\n",
       "      <th>pixel1</th>\n",
       "      <th>pixel2</th>\n",
       "      <th>pixel3</th>\n",
       "      <th>pixel4</th>\n",
       "      <th>pixel5</th>\n",
       "      <th>pixel6</th>\n",
       "      <th>pixel7</th>\n",
       "      <th>pixel8</th>\n",
       "      <th>pixel9</th>\n",
       "      <th>...</th>\n",
       "      <th>pixel774</th>\n",
       "      <th>pixel775</th>\n",
       "      <th>pixel776</th>\n",
       "      <th>pixel777</th>\n",
       "      <th>pixel778</th>\n",
       "      <th>pixel779</th>\n",
       "      <th>pixel780</th>\n",
       "      <th>pixel781</th>\n",
       "      <th>pixel782</th>\n",
       "      <th>pixel783</th>\n",
       "    </tr>\n",
       "  </thead>\n",
       "  <tbody>\n",
       "    <tr>\n",
       "      <td>count</td>\n",
       "      <td>42000.0</td>\n",
       "      <td>42000.0</td>\n",
       "      <td>42000.0</td>\n",
       "      <td>42000.0</td>\n",
       "      <td>42000.0</td>\n",
       "      <td>42000.0</td>\n",
       "      <td>42000.0</td>\n",
       "      <td>42000.0</td>\n",
       "      <td>42000.0</td>\n",
       "      <td>42000.0</td>\n",
       "      <td>...</td>\n",
       "      <td>42000.000000</td>\n",
       "      <td>42000.000000</td>\n",
       "      <td>42000.000000</td>\n",
       "      <td>42000.00000</td>\n",
       "      <td>42000.000000</td>\n",
       "      <td>42000.000000</td>\n",
       "      <td>42000.0</td>\n",
       "      <td>42000.0</td>\n",
       "      <td>42000.0</td>\n",
       "      <td>42000.0</td>\n",
       "    </tr>\n",
       "    <tr>\n",
       "      <td>mean</td>\n",
       "      <td>0.0</td>\n",
       "      <td>0.0</td>\n",
       "      <td>0.0</td>\n",
       "      <td>0.0</td>\n",
       "      <td>0.0</td>\n",
       "      <td>0.0</td>\n",
       "      <td>0.0</td>\n",
       "      <td>0.0</td>\n",
       "      <td>0.0</td>\n",
       "      <td>0.0</td>\n",
       "      <td>...</td>\n",
       "      <td>0.219286</td>\n",
       "      <td>0.117095</td>\n",
       "      <td>0.059024</td>\n",
       "      <td>0.02019</td>\n",
       "      <td>0.017238</td>\n",
       "      <td>0.002857</td>\n",
       "      <td>0.0</td>\n",
       "      <td>0.0</td>\n",
       "      <td>0.0</td>\n",
       "      <td>0.0</td>\n",
       "    </tr>\n",
       "    <tr>\n",
       "      <td>std</td>\n",
       "      <td>0.0</td>\n",
       "      <td>0.0</td>\n",
       "      <td>0.0</td>\n",
       "      <td>0.0</td>\n",
       "      <td>0.0</td>\n",
       "      <td>0.0</td>\n",
       "      <td>0.0</td>\n",
       "      <td>0.0</td>\n",
       "      <td>0.0</td>\n",
       "      <td>0.0</td>\n",
       "      <td>...</td>\n",
       "      <td>6.312890</td>\n",
       "      <td>4.633819</td>\n",
       "      <td>3.274488</td>\n",
       "      <td>1.75987</td>\n",
       "      <td>1.894498</td>\n",
       "      <td>0.414264</td>\n",
       "      <td>0.0</td>\n",
       "      <td>0.0</td>\n",
       "      <td>0.0</td>\n",
       "      <td>0.0</td>\n",
       "    </tr>\n",
       "    <tr>\n",
       "      <td>min</td>\n",
       "      <td>0.0</td>\n",
       "      <td>0.0</td>\n",
       "      <td>0.0</td>\n",
       "      <td>0.0</td>\n",
       "      <td>0.0</td>\n",
       "      <td>0.0</td>\n",
       "      <td>0.0</td>\n",
       "      <td>0.0</td>\n",
       "      <td>0.0</td>\n",
       "      <td>0.0</td>\n",
       "      <td>...</td>\n",
       "      <td>0.000000</td>\n",
       "      <td>0.000000</td>\n",
       "      <td>0.000000</td>\n",
       "      <td>0.00000</td>\n",
       "      <td>0.000000</td>\n",
       "      <td>0.000000</td>\n",
       "      <td>0.0</td>\n",
       "      <td>0.0</td>\n",
       "      <td>0.0</td>\n",
       "      <td>0.0</td>\n",
       "    </tr>\n",
       "    <tr>\n",
       "      <td>25%</td>\n",
       "      <td>0.0</td>\n",
       "      <td>0.0</td>\n",
       "      <td>0.0</td>\n",
       "      <td>0.0</td>\n",
       "      <td>0.0</td>\n",
       "      <td>0.0</td>\n",
       "      <td>0.0</td>\n",
       "      <td>0.0</td>\n",
       "      <td>0.0</td>\n",
       "      <td>0.0</td>\n",
       "      <td>...</td>\n",
       "      <td>0.000000</td>\n",
       "      <td>0.000000</td>\n",
       "      <td>0.000000</td>\n",
       "      <td>0.00000</td>\n",
       "      <td>0.000000</td>\n",
       "      <td>0.000000</td>\n",
       "      <td>0.0</td>\n",
       "      <td>0.0</td>\n",
       "      <td>0.0</td>\n",
       "      <td>0.0</td>\n",
       "    </tr>\n",
       "    <tr>\n",
       "      <td>50%</td>\n",
       "      <td>0.0</td>\n",
       "      <td>0.0</td>\n",
       "      <td>0.0</td>\n",
       "      <td>0.0</td>\n",
       "      <td>0.0</td>\n",
       "      <td>0.0</td>\n",
       "      <td>0.0</td>\n",
       "      <td>0.0</td>\n",
       "      <td>0.0</td>\n",
       "      <td>0.0</td>\n",
       "      <td>...</td>\n",
       "      <td>0.000000</td>\n",
       "      <td>0.000000</td>\n",
       "      <td>0.000000</td>\n",
       "      <td>0.00000</td>\n",
       "      <td>0.000000</td>\n",
       "      <td>0.000000</td>\n",
       "      <td>0.0</td>\n",
       "      <td>0.0</td>\n",
       "      <td>0.0</td>\n",
       "      <td>0.0</td>\n",
       "    </tr>\n",
       "    <tr>\n",
       "      <td>75%</td>\n",
       "      <td>0.0</td>\n",
       "      <td>0.0</td>\n",
       "      <td>0.0</td>\n",
       "      <td>0.0</td>\n",
       "      <td>0.0</td>\n",
       "      <td>0.0</td>\n",
       "      <td>0.0</td>\n",
       "      <td>0.0</td>\n",
       "      <td>0.0</td>\n",
       "      <td>0.0</td>\n",
       "      <td>...</td>\n",
       "      <td>0.000000</td>\n",
       "      <td>0.000000</td>\n",
       "      <td>0.000000</td>\n",
       "      <td>0.00000</td>\n",
       "      <td>0.000000</td>\n",
       "      <td>0.000000</td>\n",
       "      <td>0.0</td>\n",
       "      <td>0.0</td>\n",
       "      <td>0.0</td>\n",
       "      <td>0.0</td>\n",
       "    </tr>\n",
       "    <tr>\n",
       "      <td>max</td>\n",
       "      <td>0.0</td>\n",
       "      <td>0.0</td>\n",
       "      <td>0.0</td>\n",
       "      <td>0.0</td>\n",
       "      <td>0.0</td>\n",
       "      <td>0.0</td>\n",
       "      <td>0.0</td>\n",
       "      <td>0.0</td>\n",
       "      <td>0.0</td>\n",
       "      <td>0.0</td>\n",
       "      <td>...</td>\n",
       "      <td>254.000000</td>\n",
       "      <td>254.000000</td>\n",
       "      <td>253.000000</td>\n",
       "      <td>253.00000</td>\n",
       "      <td>254.000000</td>\n",
       "      <td>62.000000</td>\n",
       "      <td>0.0</td>\n",
       "      <td>0.0</td>\n",
       "      <td>0.0</td>\n",
       "      <td>0.0</td>\n",
       "    </tr>\n",
       "  </tbody>\n",
       "</table>\n",
       "<p>8 rows × 784 columns</p>\n",
       "</div>"
      ],
      "text/plain": [
       "        pixel0   pixel1   pixel2   pixel3   pixel4   pixel5   pixel6   pixel7  \\\n",
       "count  42000.0  42000.0  42000.0  42000.0  42000.0  42000.0  42000.0  42000.0   \n",
       "mean       0.0      0.0      0.0      0.0      0.0      0.0      0.0      0.0   \n",
       "std        0.0      0.0      0.0      0.0      0.0      0.0      0.0      0.0   \n",
       "min        0.0      0.0      0.0      0.0      0.0      0.0      0.0      0.0   \n",
       "25%        0.0      0.0      0.0      0.0      0.0      0.0      0.0      0.0   \n",
       "50%        0.0      0.0      0.0      0.0      0.0      0.0      0.0      0.0   \n",
       "75%        0.0      0.0      0.0      0.0      0.0      0.0      0.0      0.0   \n",
       "max        0.0      0.0      0.0      0.0      0.0      0.0      0.0      0.0   \n",
       "\n",
       "        pixel8   pixel9  ...      pixel774      pixel775      pixel776  \\\n",
       "count  42000.0  42000.0  ...  42000.000000  42000.000000  42000.000000   \n",
       "mean       0.0      0.0  ...      0.219286      0.117095      0.059024   \n",
       "std        0.0      0.0  ...      6.312890      4.633819      3.274488   \n",
       "min        0.0      0.0  ...      0.000000      0.000000      0.000000   \n",
       "25%        0.0      0.0  ...      0.000000      0.000000      0.000000   \n",
       "50%        0.0      0.0  ...      0.000000      0.000000      0.000000   \n",
       "75%        0.0      0.0  ...      0.000000      0.000000      0.000000   \n",
       "max        0.0      0.0  ...    254.000000    254.000000    253.000000   \n",
       "\n",
       "          pixel777      pixel778      pixel779  pixel780  pixel781  pixel782  \\\n",
       "count  42000.00000  42000.000000  42000.000000   42000.0   42000.0   42000.0   \n",
       "mean       0.02019      0.017238      0.002857       0.0       0.0       0.0   \n",
       "std        1.75987      1.894498      0.414264       0.0       0.0       0.0   \n",
       "min        0.00000      0.000000      0.000000       0.0       0.0       0.0   \n",
       "25%        0.00000      0.000000      0.000000       0.0       0.0       0.0   \n",
       "50%        0.00000      0.000000      0.000000       0.0       0.0       0.0   \n",
       "75%        0.00000      0.000000      0.000000       0.0       0.0       0.0   \n",
       "max      253.00000    254.000000     62.000000       0.0       0.0       0.0   \n",
       "\n",
       "       pixel783  \n",
       "count   42000.0  \n",
       "mean        0.0  \n",
       "std         0.0  \n",
       "min         0.0  \n",
       "25%         0.0  \n",
       "50%         0.0  \n",
       "75%         0.0  \n",
       "max         0.0  \n",
       "\n",
       "[8 rows x 784 columns]"
      ]
     },
     "execution_count": 20,
     "metadata": {},
     "output_type": "execute_result"
    }
   ],
   "source": [
    "xdes = x.describe()\n",
    "xdes"
   ]
  },
  {
   "cell_type": "code",
   "execution_count": 24,
   "metadata": {},
   "outputs": [
    {
     "data": {
      "text/plain": [
       "Index(['pixel0', 'pixel1', 'pixel2', 'pixel3', 'pixel4', 'pixel5', 'pixel6',\n",
       "       'pixel7', 'pixel8', 'pixel9', 'pixel10', 'pixel11', 'pixel16',\n",
       "       'pixel17', 'pixel18', 'pixel19', 'pixel20', 'pixel21', 'pixel22',\n",
       "       'pixel23', 'pixel24', 'pixel25', 'pixel26', 'pixel27', 'pixel28',\n",
       "       'pixel29', 'pixel30', 'pixel31', 'pixel52', 'pixel53', 'pixel54',\n",
       "       'pixel55', 'pixel56', 'pixel57', 'pixel82', 'pixel83', 'pixel84',\n",
       "       'pixel85', 'pixel111', 'pixel112', 'pixel139', 'pixel140', 'pixel141',\n",
       "       'pixel168', 'pixel196', 'pixel392', 'pixel420', 'pixel421', 'pixel448',\n",
       "       'pixel476', 'pixel532', 'pixel560', 'pixel644', 'pixel645', 'pixel671',\n",
       "       'pixel672', 'pixel673', 'pixel699', 'pixel700', 'pixel701', 'pixel727',\n",
       "       'pixel728', 'pixel729', 'pixel730', 'pixel731', 'pixel754', 'pixel755',\n",
       "       'pixel756', 'pixel757', 'pixel758', 'pixel759', 'pixel760', 'pixel780',\n",
       "       'pixel781', 'pixel782', 'pixel783'],\n",
       "      dtype='object')"
      ]
     },
     "execution_count": 24,
     "metadata": {},
     "output_type": "execute_result"
    }
   ],
   "source": [
    "xdes.loc['std',:].loc[xdes.loc['std',:]==0].index"
   ]
  },
  {
   "cell_type": "code",
   "execution_count": 25,
   "metadata": {},
   "outputs": [],
   "source": [
    "##filtration - VarianceThreshold\n",
    "from sklearn.feature_selection import VarianceThreshold"
   ]
  },
  {
   "cell_type": "code",
   "execution_count": 26,
   "metadata": {},
   "outputs": [],
   "source": [
    "x_var0 = VarianceThreshold(threshold=0).fit_transform(x)"
   ]
  },
  {
   "cell_type": "code",
   "execution_count": 27,
   "metadata": {},
   "outputs": [
    {
     "data": {
      "text/plain": [
       "(42000, 708)"
      ]
     },
     "execution_count": 27,
     "metadata": {},
     "output_type": "execute_result"
    }
   ],
   "source": [
    "pd.DataFrame(x_var0).shape"
   ]
  },
  {
   "cell_type": "code",
   "execution_count": 35,
   "metadata": {},
   "outputs": [
    {
     "data": {
      "text/plain": [
       "1352.286703180131"
      ]
     },
     "execution_count": 35,
     "metadata": {},
     "output_type": "execute_result"
    }
   ],
   "source": [
    "np.median(x.var(axis=0).values)"
   ]
  },
  {
   "cell_type": "code",
   "execution_count": 32,
   "metadata": {},
   "outputs": [
    {
     "data": {
      "text/plain": [
       "(42000, 392)"
      ]
     },
     "execution_count": 32,
     "metadata": {},
     "output_type": "execute_result"
    }
   ],
   "source": [
    "x_varmed = VarianceThreshold(threshold=np.median(x.var(axis=0).values)).fit_transform(x)\n",
    "x_varmed.shape"
   ]
  },
  {
   "cell_type": "code",
   "execution_count": 33,
   "metadata": {},
   "outputs": [
    {
     "data": {
      "text/plain": [
       "(42000, 685)"
      ]
     },
     "execution_count": 33,
     "metadata": {},
     "output_type": "execute_result"
    }
   ],
   "source": [
    "#for Bernouli distribution with probability p, variance is p*(1-p)\n",
    "x_var8 = VarianceThreshold(threshold=0.8*(1-0.8)).fit_transform(x)\n",
    "x_var8.shape"
   ]
  },
  {
   "cell_type": "code",
   "execution_count": 37,
   "metadata": {},
   "outputs": [],
   "source": [
    "## filtration - chi squared (for classification problem)\n",
    "# ONLY works for non-negative features \n",
    "from sklearn.ensemble import RandomForestClassifier as RFC\n",
    "from sklearn.model_selection import cross_val_score\n",
    "from sklearn.feature_selection import chi2\n",
    "from sklearn.feature_selection import SelectKBest"
   ]
  },
  {
   "cell_type": "code",
   "execution_count": 38,
   "metadata": {},
   "outputs": [
    {
     "data": {
      "text/plain": [
       "(42000, 300)"
      ]
     },
     "execution_count": 38,
     "metadata": {},
     "output_type": "execute_result"
    }
   ],
   "source": [
    "x_fschi = SelectKBest(chi2,k=300).fit_transform(x_var0,y)\n",
    "x_fschi.shape"
   ]
  },
  {
   "cell_type": "code",
   "execution_count": 40,
   "metadata": {},
   "outputs": [
    {
     "data": {
      "text/plain": [
       "0.933476037387245"
      ]
     },
     "execution_count": 40,
     "metadata": {},
     "output_type": "execute_result"
    }
   ],
   "source": [
    "cross_val_score(RFC(n_estimators=10,random_state=0),x_fschi,y,cv=5,n_jobs=-1).mean()"
   ]
  },
  {
   "cell_type": "code",
   "execution_count": 41,
   "metadata": {},
   "outputs": [],
   "source": [
    "%matplotlib inline"
   ]
  },
  {
   "cell_type": "code",
   "execution_count": 53,
   "metadata": {},
   "outputs": [
    {
     "data": {
      "image/png": "[encoded data removed]",
      "text/plain": [
       "<Figure size 432x288 with 1 Axes>"
      ]
     },
     "metadata": {
      "needs_background": "light"
     },
     "output_type": "display_data"
    }
   ],
   "source": [
    "scores = []\n",
    "for i in range(200,390,10):\n",
    "    x_fschi = SelectKBest(chi2,k=i).fit_transform(x_var0,y)\n",
    "    scores.append(cross_val_score(RFC(n_estimators=10,random_state=0),x_fschi,y,cv=5,n_jobs=-1).mean())\n",
    "plt.plot(range(200,390,10),scores)\n",
    "plt.show()"
   ]
  },
  {
   "cell_type": "code",
   "execution_count": 56,
   "metadata": {},
   "outputs": [],
   "source": [
    "chivalues, pvalues_chi = chi2(x_var0,y)"
   ]
  },
  {
   "cell_type": "code",
   "execution_count": 57,
   "metadata": {},
   "outputs": [
    {
     "data": {
      "text/plain": [
       "708"
      ]
     },
     "execution_count": 57,
     "metadata": {},
     "output_type": "execute_result"
    }
   ],
   "source": [
    "# we can choose k according to p-values \n",
    "# p-value <= threshold(0.05 or 0.01) --> important feature\n",
    "k = (pvalues_chi <= 0.05).sum()\n",
    "k"
   ]
  },
  {
   "cell_type": "code",
   "execution_count": 63,
   "metadata": {},
   "outputs": [],
   "source": [
    "## F-test: test the LINEAR depence between features and label\n",
    "#.feature_selection.f_classif -- for classification problem\n",
    "#.feature_selection.f_regression -- for regression problem\n",
    "# work best for data satisified Normal distribution\n",
    "from sklearn.feature_selection import f_classif"
   ]
  },
  {
   "cell_type": "code",
   "execution_count": 61,
   "metadata": {},
   "outputs": [
    {
     "data": {
      "text/plain": [
       "660"
      ]
     },
     "execution_count": 61,
     "metadata": {},
     "output_type": "execute_result"
    }
   ],
   "source": [
    "F, pvalues_f = f_classif(x_var0,y)\n",
    "k = (pvalues_f<=0.05).sum()\n",
    "k"
   ]
  },
  {
   "cell_type": "code",
   "execution_count": 62,
   "metadata": {},
   "outputs": [
    {
     "data": {
      "text/plain": [
       "0.9382381812931359"
      ]
     },
     "execution_count": 62,
     "metadata": {},
     "output_type": "execute_result"
    }
   ],
   "source": [
    "x_fschi = SelectKBest(f_classif,k=k).fit_transform(x_var0,y)\n",
    "cross_val_score(RFC(n_estimators=10,random_state=0),x_fschi,y,cv=5,n_jobs=-1).mean()"
   ]
  },
  {
   "cell_type": "code",
   "execution_count": 64,
   "metadata": {},
   "outputs": [],
   "source": [
    "## mutual info\n",
    "#.feature_selection.mutual_info_classif\n",
    "#.feature_selection.mutual_info_regression\n",
    "from sklearn.feature_selection import mutual_info_classif as MIC"
   ]
  },
  {
   "cell_type": "code",
   "execution_count": 65,
   "metadata": {},
   "outputs": [],
   "source": [
    "mf = MIC(x_var0,y)"
   ]
  },
  {
   "cell_type": "code",
   "execution_count": 66,
   "metadata": {},
   "outputs": [
    {
     "data": {
      "text/plain": [
       "array([0.00000000e+00, 2.51946423e-03, 1.52928504e-03, 7.88286697e-03,\n",
       "       3.77141675e-03, 0.00000000e+00, 1.25610246e-03, 0.00000000e+00,\n",
       "       1.74347043e-03, 4.69385277e-03, 4.21586965e-03, 5.94507438e-03,\n",
       "       2.09525235e-03, 7.46478545e-03, 8.85938254e-03, 9.58777117e-03,\n",
       "       1.52672393e-03, 0.00000000e+00, 0.00000000e+00, 7.50909695e-03,\n",
       "       0.00000000e+00, 4.12557597e-04, 0.00000000e+00, 0.00000000e+00,\n",
       "       1.42913686e-03, 0.00000000e+00, 1.65193074e-04, 1.54125255e-03,\n",
       "       5.08646791e-03, 6.05926019e-03, 8.34487032e-05, 6.85537550e-03,\n",
       "       6.31379404e-03, 1.74445151e-02, 2.82220238e-02, 3.65833348e-02,\n",
       "       4.56577690e-02, 5.12663953e-02, 5.09107186e-02, 4.84553958e-02,\n",
       "       3.95473946e-02, 2.75110356e-02, 1.94100277e-02, 8.54570658e-03,\n",
       "       6.99420710e-03, 6.09494748e-03, 2.21100696e-04, 1.60179043e-03,\n",
       "       3.60177299e-03, 2.51068548e-03, 0.00000000e+00, 1.95753837e-03,\n",
       "       4.87504320e-03, 9.25001531e-03, 1.37554222e-02, 2.46128854e-02,\n",
       "       3.41974642e-02, 4.58567061e-02, 6.90977412e-02, 9.36481474e-02,\n",
       "       9.96315075e-02, 1.11365832e-01, 1.21920459e-01, 1.04224095e-01,\n",
       "       8.36148784e-02, 6.02662155e-02, 3.22496470e-02, 2.54542302e-02,\n",
       "       7.81606986e-03, 5.31597913e-04, 7.17790755e-03, 5.35074525e-03,\n",
       "       0.00000000e+00, 1.74611782e-03, 4.33415558e-03, 2.43603821e-03,\n",
       "       7.63933126e-03, 0.00000000e+00, 5.40577349e-03, 1.53290644e-02,\n",
       "       3.51937391e-02, 5.59660750e-02, 7.37353556e-02, 1.03242253e-01,\n",
       "       1.16260078e-01, 1.41370665e-01, 1.58761932e-01, 1.65075781e-01,\n",
       "       1.58358711e-01, 1.29831800e-01, 9.03832179e-02, 6.37766275e-02,\n",
       "       3.99167201e-02, 2.24789497e-02, 1.24947922e-02, 1.64778997e-02,\n",
       "       5.23026163e-03, 0.00000000e+00, 0.00000000e+00, 6.13613687e-04,\n",
       "       2.52446724e-03, 6.83802130e-03, 5.23730096e-03, 2.27535309e-02,\n",
       "       4.47671044e-02, 6.95490783e-02, 9.96211676e-02, 1.22429848e-01,\n",
       "       1.51149496e-01, 1.77990543e-01, 2.04170927e-01, 2.24894456e-01,\n",
       "       2.32542085e-01, 2.19749483e-01, 1.78472375e-01, 1.42257572e-01,\n",
       "       1.00740944e-01, 7.98561520e-02, 6.40283533e-02, 3.99468053e-02,\n",
       "       4.40379873e-02, 2.43210362e-02, 1.21764073e-02, 0.00000000e+00,\n",
       "       2.27573793e-03, 6.88052390e-05, 0.00000000e+00, 9.07646450e-03,\n",
       "       2.68098395e-03, 1.66934416e-02, 4.11928394e-02, 6.03570144e-02,\n",
       "       8.08144693e-02, 1.00884687e-01, 1.20289590e-01, 1.41143090e-01,\n",
       "       1.54051909e-01, 1.69608810e-01, 1.79644974e-01, 1.85583423e-01,\n",
       "       1.81014298e-01, 1.55898469e-01, 1.33155425e-01, 1.18458806e-01,\n",
       "       9.39205820e-02, 7.76753912e-02, 7.22478934e-02, 5.85440495e-02,\n",
       "       4.50045785e-02, 1.65064039e-02, 5.53816472e-03, 0.00000000e+00,\n",
       "       0.00000000e+00, 2.59671605e-03, 2.53747264e-03, 1.53663504e-02,\n",
       "       3.16502624e-02, 4.77317050e-02, 6.30604579e-02, 7.44502383e-02,\n",
       "       8.87666085e-02, 9.51686918e-02, 1.03809556e-01, 1.09416087e-01,\n",
       "       1.08359891e-01, 1.17351190e-01, 1.16708469e-01, 1.21493955e-01,\n",
       "       1.10685120e-01, 1.11611476e-01, 1.13313083e-01, 1.03885949e-01,\n",
       "       9.39064292e-02, 7.44591288e-02, 7.25629245e-02, 5.48254346e-02,\n",
       "       3.30992897e-02, 7.69039714e-03, 0.00000000e+00, 0.00000000e+00,\n",
       "       6.39727942e-03, 6.77765469e-03, 1.83253865e-02, 2.42859484e-02,\n",
       "       4.47449071e-02, 4.81764715e-02, 6.12040893e-02, 7.54452989e-02,\n",
       "       9.95328256e-02, 1.21955784e-01, 1.49044991e-01, 1.46200863e-01,\n",
       "       1.21764792e-01, 1.05163648e-01, 1.14845903e-01, 1.10204547e-01,\n",
       "       1.10735501e-01, 1.26601823e-01, 1.32736411e-01, 1.21253175e-01,\n",
       "       1.04173273e-01, 8.35510991e-02, 7.30544266e-02, 5.93116434e-02,\n",
       "       3.03304802e-02, 6.13859775e-03, 7.91401140e-04, 0.00000000e+00,\n",
       "       6.13683956e-03, 1.45576111e-02, 2.15548567e-02, 3.35332040e-02,\n",
       "       4.82959877e-02, 5.44301845e-02, 6.75727597e-02, 9.82097918e-02,\n",
       "       1.37206867e-01, 1.83736351e-01, 2.02945333e-01, 1.57198230e-01,\n",
       "       1.08370751e-01, 1.03786766e-01, 1.27947745e-01, 1.23146197e-01,\n",
       "       1.28005887e-01, 1.37871589e-01, 1.52203295e-01, 1.41218147e-01,\n",
       "       1.19747754e-01, 9.58677478e-02, 7.02253912e-02, 3.88349560e-02,\n",
       "       1.82276402e-02, 6.61576370e-03, 6.17412173e-03, 7.58551110e-04,\n",
       "       0.00000000e+00, 6.79363212e-03, 6.26458568e-03, 2.63582634e-02,\n",
       "       3.87070157e-02, 5.39707828e-02, 7.74150937e-02, 1.24355682e-01,\n",
       "       1.73158080e-01, 2.14508862e-01, 1.97135576e-01, 1.28368112e-01,\n",
       "       6.31517560e-02, 1.08479597e-01, 1.45935546e-01, 1.26166323e-01,\n",
       "       1.25282884e-01, 1.60892487e-01, 1.62155775e-01, 1.45545450e-01,\n",
       "       1.30960364e-01, 9.57833912e-02, 7.51575218e-02, 3.45414203e-02,\n",
       "       1.08777451e-02, 6.31999766e-04, 0.00000000e+00, 5.07211396e-03,\n",
       "       0.00000000e+00, 8.85604166e-03, 1.65877583e-02, 1.91134981e-02,\n",
       "       3.08197835e-02, 5.25871863e-02, 9.66443664e-02, 1.59698900e-01,\n",
       "       2.09317487e-01, 2.10910183e-01, 1.81177917e-01, 1.17333689e-01,\n",
       "       1.09586966e-01, 1.81884107e-01, 1.84041252e-01, 1.21209828e-01,\n",
       "       1.51442529e-01, 1.83273254e-01, 1.51081519e-01, 1.33994037e-01,\n",
       "       1.35736202e-01, 1.16407578e-01, 8.59156032e-02, 2.76467914e-02,\n",
       "       6.97938802e-03, 0.00000000e+00, 0.00000000e+00, 1.29960019e-03,\n",
       "       0.00000000e+00, 0.00000000e+00, 8.92982881e-03, 1.29113122e-02,\n",
       "       3.28513582e-02, 7.20183863e-02, 1.22510001e-01, 1.84588828e-01,\n",
       "       2.26256359e-01, 2.21408782e-01, 1.95706947e-01, 1.66922813e-01,\n",
       "       1.91120217e-01, 2.60804556e-01, 2.19286052e-01, 1.37289740e-01,\n",
       "       1.75266656e-01, 1.79900647e-01, 1.35163823e-01, 1.32514369e-01,\n",
       "       1.47953966e-01, 1.39235761e-01, 9.86016074e-02, 2.94669331e-02,\n",
       "       6.93464689e-03, 5.70038178e-03, 0.00000000e+00, 0.00000000e+00,\n",
       "       0.00000000e+00, 1.63047133e-03, 2.75524489e-03, 1.96711658e-02,\n",
       "       4.34569678e-02, 8.35109867e-02, 1.50386900e-01, 2.10807911e-01,\n",
       "       2.28180760e-01, 2.12870474e-01, 2.00950714e-01, 2.02989064e-01,\n",
       "       2.49474965e-01, 2.81653811e-01, 2.09260169e-01, 1.76609128e-01,\n",
       "       2.21141621e-01, 1.80542176e-01, 1.20953207e-01, 1.15758395e-01,\n",
       "       1.48071009e-01, 1.42122990e-01, 9.35751942e-02, 4.85896959e-02,\n",
       "       6.70584127e-03, 4.65839000e-04, 6.40561803e-04, 0.00000000e+00,\n",
       "       0.00000000e+00, 5.23187248e-03, 1.60136544e-02, 5.14534161e-02,\n",
       "       1.16233337e-01, 1.80886925e-01, 2.18736283e-01, 2.26946299e-01,\n",
       "       1.97481647e-01, 1.76379552e-01, 1.81449875e-01, 2.50425683e-01,\n",
       "       2.79281121e-01, 2.08694127e-01, 2.07764085e-01, 2.53547384e-01,\n",
       "       1.75185714e-01, 1.33464586e-01, 1.32171400e-01, 1.56915052e-01,\n",
       "       1.36060068e-01, 9.93447463e-02, 4.00770365e-02, 3.07842509e-03,\n",
       "       9.75480040e-03, 0.00000000e+00, 0.00000000e+00, 8.26608354e-03,\n",
       "       1.26703533e-02, 6.97087015e-02, 1.37448659e-01, 1.96631359e-01,\n",
       "       2.24951400e-01, 2.17569316e-01, 1.91771276e-01, 1.69473056e-01,\n",
       "       1.93809096e-01, 2.58123790e-01, 2.74381192e-01, 1.99024719e-01,\n",
       "       2.31587280e-01, 2.32867911e-01, 1.58888638e-01, 1.30534257e-01,\n",
       "       1.46231868e-01, 1.62791900e-01, 1.30438793e-01, 8.25442854e-02,\n",
       "       4.22401290e-02, 6.51966074e-03, 2.08467930e-03, 1.66791642e-03,\n",
       "       0.00000000e+00, 4.51851880e-03, 6.56110921e-03, 2.26574493e-02,\n",
       "       7.49663884e-02, 1.39734406e-01, 1.84037868e-01, 2.11772566e-01,\n",
       "       2.00104344e-01, 1.84595800e-01, 1.86610578e-01, 2.15461067e-01,\n",
       "       2.68874435e-01, 2.52579302e-01, 1.79191002e-01, 2.09627148e-01,\n",
       "       1.83347329e-01, 1.32798033e-01, 1.48158233e-01, 1.67276673e-01,\n",
       "       1.52166582e-01, 1.18428698e-01, 7.30687838e-02, 2.68951297e-02,\n",
       "       1.03908882e-02, 5.82136341e-03, 0.00000000e+00, 0.00000000e+00,\n",
       "       2.16060212e-03, 1.61937813e-02, 3.46484545e-02, 8.97765119e-02,\n",
       "       1.41738178e-01, 1.80525237e-01, 1.97014322e-01, 1.84843944e-01,\n",
       "       1.89939607e-01, 2.00606107e-01, 2.20126246e-01, 2.46311363e-01,\n",
       "       1.97037339e-01, 1.57568895e-01, 1.50719942e-01, 1.24284262e-01,\n",
       "       1.24079619e-01, 1.67945533e-01, 1.83638056e-01, 1.48761419e-01,\n",
       "       1.01171815e-01, 5.58146990e-02, 3.36016208e-02, 1.38819959e-02,\n",
       "       7.24709914e-04, 0.00000000e+00, 1.32597638e-03, 0.00000000e+00,\n",
       "       4.74254263e-03, 1.83930792e-02, 4.30459341e-02, 9.59848574e-02,\n",
       "       1.44616146e-01, 1.84728311e-01, 1.92146191e-01, 1.97411481e-01,\n",
       "       2.11735028e-01, 2.15827868e-01, 2.02647796e-01, 1.99057672e-01,\n",
       "       1.41332332e-01, 9.86693645e-02, 1.00308100e-01, 1.14909415e-01,\n",
       "       1.52885989e-01, 1.94331359e-01, 1.73499786e-01, 1.22712657e-01,\n",
       "       9.17591727e-02, 5.46391574e-02, 2.88623654e-02, 1.50811685e-02,\n",
       "       3.41941686e-03, 0.00000000e+00, 7.36764756e-03, 4.64063428e-03,\n",
       "       1.57079806e-02, 5.16943808e-02, 1.09858974e-01, 1.63021479e-01,\n",
       "       2.02469297e-01, 2.15995420e-01, 2.19492820e-01, 2.21756457e-01,\n",
       "       1.94642551e-01, 1.72990044e-01, 1.42977990e-01, 8.88462994e-02,\n",
       "       6.63833153e-02, 9.10512199e-02, 1.42189641e-01, 1.86316929e-01,\n",
       "       1.85412193e-01, 1.47880070e-01, 1.13884972e-01, 7.85191937e-02,\n",
       "       5.51966104e-02, 3.68211536e-02, 1.64658500e-02, 1.68613665e-03,\n",
       "       0.00000000e+00, 0.00000000e+00, 6.63491524e-03, 2.15688917e-02,\n",
       "       5.22891501e-02, 1.10121388e-01, 1.66240277e-01, 2.13250236e-01,\n",
       "       2.46593262e-01, 2.31630304e-01, 2.14634112e-01, 1.79010747e-01,\n",
       "       1.42331285e-01, 1.04075320e-01, 7.29737575e-02, 6.83690700e-02,\n",
       "       1.01760562e-01, 1.40226547e-01, 1.61006048e-01, 1.46863209e-01,\n",
       "       1.11265486e-01, 9.15043645e-02, 6.63138141e-02, 4.25897449e-02,\n",
       "       2.72151938e-02, 1.13250312e-02, 6.58971177e-03, 7.24603718e-03,\n",
       "       0.00000000e+00, 0.00000000e+00, 2.54374151e-03, 1.85286052e-02,\n",
       "       4.61291629e-02, 9.26884479e-02, 1.49251859e-01, 2.01416908e-01,\n",
       "       2.31665660e-01, 2.34300745e-01, 1.90564312e-01, 1.39997004e-01,\n",
       "       9.53551333e-02, 7.67575180e-02, 6.92355001e-02, 7.91846059e-02,\n",
       "       1.03808300e-01, 1.20012329e-01, 1.12469907e-01, 9.53025525e-02,\n",
       "       7.57565217e-02, 5.67226141e-02, 4.54654149e-02, 3.76091731e-02,\n",
       "       1.63200382e-02, 5.44176382e-03, 0.00000000e+00, 0.00000000e+00,\n",
       "       0.00000000e+00, 0.00000000e+00, 0.00000000e+00, 1.46817865e-02,\n",
       "       3.14438049e-02, 6.15135426e-02, 1.02702423e-01, 1.51836696e-01,\n",
       "       1.87407061e-01, 1.96206062e-01, 1.94230610e-01, 1.61387448e-01,\n",
       "       1.37202871e-01, 1.19321152e-01, 1.10270944e-01, 1.07375215e-01,\n",
       "       9.82987580e-02, 8.60368267e-02, 7.54672307e-02, 5.98188299e-02,\n",
       "       5.04554166e-02, 2.36920577e-02, 2.63755271e-02, 1.33040581e-02,\n",
       "       5.32578669e-03, 5.20660923e-03, 1.24233658e-03, 2.12791034e-03,\n",
       "       0.00000000e+00, 9.25435541e-03, 1.48981268e-02, 2.88620809e-02,\n",
       "       5.64268884e-02, 7.76943548e-02, 1.06225441e-01, 1.33116818e-01,\n",
       "       1.58390211e-01, 1.73570475e-01, 1.83251717e-01, 1.80844081e-01,\n",
       "       1.51810260e-01, 1.21913826e-01, 9.86784555e-02, 6.97812558e-02,\n",
       "       5.90035899e-02, 3.02910240e-02, 1.91905555e-02, 2.08966738e-02,\n",
       "       1.00840779e-02, 7.69839669e-03, 3.17522906e-03, 1.47380695e-03,\n",
       "       0.00000000e+00, 0.00000000e+00, 3.07321429e-03, 4.58373766e-03,\n",
       "       9.17250999e-03, 1.81532959e-02, 2.58519566e-02, 4.23273617e-02,\n",
       "       6.16714354e-02, 7.97170642e-02, 1.07405772e-01, 1.23778208e-01,\n",
       "       1.19920710e-01, 1.08392966e-01, 9.02226628e-02, 7.32614614e-02,\n",
       "       6.15887997e-02, 4.67120185e-02, 3.14974275e-02, 1.90125563e-02,\n",
       "       1.34588823e-02, 1.00493485e-02, 0.00000000e+00, 5.49355335e-04,\n",
       "       0.00000000e+00, 0.00000000e+00, 0.00000000e+00, 1.87360033e-03,\n",
       "       0.00000000e+00, 8.32863852e-03, 9.09644341e-03, 2.12034967e-02,\n",
       "       3.79884355e-02, 5.94931278e-02, 8.97634674e-02, 1.04959426e-01,\n",
       "       1.20729523e-01, 1.14498370e-01, 1.01185624e-01, 9.35568358e-02,\n",
       "       7.04923759e-02, 5.54036990e-02, 3.45214195e-02, 2.69605198e-02,\n",
       "       1.15665166e-02, 3.59042418e-03, 6.12284061e-03, 2.32372595e-03,\n",
       "       0.00000000e+00, 0.00000000e+00, 0.00000000e+00, 4.51300340e-04,\n",
       "       2.91998095e-03, 7.66238067e-03, 1.62022091e-02, 2.48929516e-02,\n",
       "       3.93234013e-02, 4.49688772e-02, 7.05843323e-02, 7.61516170e-02,\n",
       "       7.86833281e-02, 6.53813382e-02, 6.17880652e-02, 4.87281900e-02,\n",
       "       2.91789006e-02, 1.89302179e-02, 7.25539867e-03, 2.78886965e-03,\n",
       "       1.07672958e-02, 1.11235676e-03, 4.43460918e-03, 3.27550180e-03,\n",
       "       0.00000000e+00, 6.41983051e-05, 0.00000000e+00, 0.00000000e+00,\n",
       "       0.00000000e+00, 1.80101366e-03, 2.55700201e-03, 6.52904410e-03,\n",
       "       1.00827443e-02, 8.44847283e-03, 1.01174693e-02, 8.24037716e-03,\n",
       "       9.46934149e-03, 2.06206380e-03, 3.17818417e-03, 3.65455147e-03,\n",
       "       0.00000000e+00, 0.00000000e+00, 0.00000000e+00, 7.73741803e-03])"
      ]
     },
     "execution_count": 66,
     "metadata": {},
     "output_type": "execute_result"
    }
   ],
   "source": [
    "mf"
   ]
  },
  {
   "cell_type": "code",
   "execution_count": 67,
   "metadata": {},
   "outputs": [
    {
     "data": {
      "text/plain": [
       "(708,)"
      ]
     },
     "execution_count": 67,
     "metadata": {},
     "output_type": "execute_result"
    }
   ],
   "source": [
    "mf.shape"
   ]
  },
  {
   "cell_type": "code",
   "execution_count": 68,
   "metadata": {},
   "outputs": [
    {
     "data": {
      "text/html": [
       "<div>\n",
       "<style scoped>\n",
       "    .dataframe tbody tr th:only-of-type {\n",
       "        vertical-align: middle;\n",
       "    }\n",
       "\n",
       "    .dataframe tbody tr th {\n",
       "        vertical-align: top;\n",
       "    }\n",
       "\n",
       "    .dataframe thead th {\n",
       "        text-align: right;\n",
       "    }\n",
       "</style>\n",
       "<table border=\"1\" class=\"dataframe\">\n",
       "  <thead>\n",
       "    <tr style=\"text-align: right;\">\n",
       "      <th></th>\n",
       "      <th>0</th>\n",
       "    </tr>\n",
       "  </thead>\n",
       "  <tbody>\n",
       "    <tr>\n",
       "      <td>count</td>\n",
       "      <td>708.000000</td>\n",
       "    </tr>\n",
       "    <tr>\n",
       "      <td>mean</td>\n",
       "      <td>0.079420</td>\n",
       "    </tr>\n",
       "    <tr>\n",
       "      <td>std</td>\n",
       "      <td>0.074663</td>\n",
       "    </tr>\n",
       "    <tr>\n",
       "      <td>min</td>\n",
       "      <td>0.000000</td>\n",
       "    </tr>\n",
       "    <tr>\n",
       "      <td>25%</td>\n",
       "      <td>0.006991</td>\n",
       "    </tr>\n",
       "    <tr>\n",
       "      <td>50%</td>\n",
       "      <td>0.061630</td>\n",
       "    </tr>\n",
       "    <tr>\n",
       "      <td>75%</td>\n",
       "      <td>0.137228</td>\n",
       "    </tr>\n",
       "    <tr>\n",
       "      <td>max</td>\n",
       "      <td>0.281654</td>\n",
       "    </tr>\n",
       "  </tbody>\n",
       "</table>\n",
       "</div>"
      ],
      "text/plain": [
       "                0\n",
       "count  708.000000\n",
       "mean     0.079420\n",
       "std      0.074663\n",
       "min      0.000000\n",
       "25%      0.006991\n",
       "50%      0.061630\n",
       "75%      0.137228\n",
       "max      0.281654"
      ]
     },
     "execution_count": 68,
     "metadata": {},
     "output_type": "execute_result"
    }
   ],
   "source": [
    "pd.DataFrame(mf).describe()"
   ]
  },
  {
   "cell_type": "code",
   "execution_count": null,
   "metadata": {},
   "outputs": [],
   "source": [
    "#x_fschi = SelectKBest(MIC,k=k).fit_transform(x_var0,y)\n",
    "#cross_val_score(RFC(n_estimators=10,random_state=0),x_fschi,y,cv=5,n_jobs=-1).mean()"
   ]
  },
  {
   "cell_type": "code",
   "execution_count": 69,
   "metadata": {},
   "outputs": [],
   "source": [
    "###Embedded\n",
    "### like feature_importances in DecisionTree\n",
    "### computationally expensive\n",
    "#.feature_selection.SelectFromModel\n",
    "#import parameters:\n",
    "#estimator\n",
    "#threshold\n",
    "from sklearn.feature_selection import SelectFromModel"
   ]
  },
  {
   "cell_type": "code",
   "execution_count": 70,
   "metadata": {},
   "outputs": [],
   "source": [
    "RFC_ = RFC(n_estimators=10,random_state=0)\n",
    "x_embedded = SelectFromModel(RFC_,threshold=0.001).fit_transform(x,y)"
   ]
  },
  {
   "cell_type": "code",
   "execution_count": 71,
   "metadata": {},
   "outputs": [
    {
     "data": {
      "text/plain": [
       "(42000, 279)"
      ]
     },
     "execution_count": 71,
     "metadata": {},
     "output_type": "execute_result"
    }
   ],
   "source": [
    "x_embedded.shape"
   ]
  },
  {
   "cell_type": "code",
   "execution_count": 72,
   "metadata": {},
   "outputs": [
    {
     "data": {
      "text/plain": [
       "(42000, 784)"
      ]
     },
     "execution_count": 72,
     "metadata": {},
     "output_type": "execute_result"
    }
   ],
   "source": [
    "x.shape"
   ]
  },
  {
   "cell_type": "code",
   "execution_count": 73,
   "metadata": {},
   "outputs": [],
   "source": [
    "### Wrapper = filtration + embedded\n",
    "### feature_selection.RFE\n",
    "#parameters:\n",
    "#estimator\n",
    "#n_features_to_select\n",
    "#step\n",
    "#.support_\n",
    "#.ranking_\n",
    "from sklearn.feature_selection import RFE"
   ]
  },
  {
   "cell_type": "code",
   "execution_count": 74,
   "metadata": {},
   "outputs": [],
   "source": [
    "RFC_ = RFC(n_estimators=10,random_state=0)"
   ]
  },
  {
   "cell_type": "code",
   "execution_count": 75,
   "metadata": {},
   "outputs": [],
   "source": [
    "selector = RFE(RFC_, n_features_to_select=340,step=50).fit(x,y)"
   ]
  },
  {
   "cell_type": "code",
   "execution_count": 77,
   "metadata": {},
   "outputs": [
    {
     "data": {
      "text/plain": [
       "array([False, False, False, False, False, False, False, False, False,\n",
       "       False, False, False, False, False, False, False, False, False,\n",
       "       False, False, False, False, False, False, False, False, False,\n",
       "       False, False, False, False, False, False, False, False, False,\n",
       "       False, False, False, False, False, False, False, False, False,\n",
       "       False, False, False, False, False, False, False, False, False,\n",
       "       False, False, False, False, False, False, False, False, False,\n",
       "       False, False, False, False, False, False, False, False, False,\n",
       "       False, False, False, False, False, False, False, False, False,\n",
       "       False, False, False, False, False, False, False, False, False,\n",
       "       False, False, False, False,  True, False, False, False,  True,\n",
       "        True,  True,  True,  True, False, False, False, False, False,\n",
       "       False, False, False, False, False, False, False, False, False,\n",
       "       False, False, False, False, False,  True,  True,  True,  True,\n",
       "        True,  True,  True,  True,  True,  True, False, False, False,\n",
       "       False, False, False, False, False, False, False, False, False,\n",
       "       False, False, False, False,  True,  True,  True,  True,  True,\n",
       "        True,  True,  True,  True,  True,  True,  True,  True,  True,\n",
       "       False, False, False, False, False, False, False, False, False,\n",
       "       False, False, False, False,  True,  True,  True,  True,  True,\n",
       "        True,  True,  True,  True,  True,  True,  True,  True,  True,\n",
       "        True,  True,  True, False, False, False, False, False, False,\n",
       "       False, False, False, False, False, False,  True,  True,  True,\n",
       "        True,  True,  True,  True,  True,  True,  True,  True,  True,\n",
       "        True,  True,  True,  True, False, False, False, False, False,\n",
       "       False, False, False, False, False, False,  True,  True,  True,\n",
       "        True,  True,  True,  True,  True,  True,  True,  True,  True,\n",
       "        True,  True,  True,  True,  True,  True, False, False, False,\n",
       "       False, False, False, False, False, False, False,  True,  True,\n",
       "        True,  True,  True,  True,  True,  True,  True,  True,  True,\n",
       "        True,  True,  True,  True, False,  True, False, False, False,\n",
       "       False, False, False, False, False, False, False,  True,  True,\n",
       "        True,  True,  True,  True,  True,  True,  True,  True,  True,\n",
       "        True,  True,  True,  True,  True,  True, False, False, False,\n",
       "       False, False, False, False, False, False, False, False, False,\n",
       "        True,  True,  True,  True,  True,  True,  True,  True,  True,\n",
       "        True,  True,  True,  True,  True,  True,  True, False, False,\n",
       "       False, False, False, False, False, False, False, False,  True,\n",
       "        True,  True,  True,  True,  True,  True,  True,  True,  True,\n",
       "        True,  True,  True,  True,  True,  True,  True,  True,  True,\n",
       "       False, False, False, False, False, False, False, False, False,\n",
       "        True, False,  True,  True,  True,  True,  True,  True,  True,\n",
       "        True,  True,  True,  True,  True,  True,  True,  True,  True,\n",
       "        True, False, False, False, False, False, False, False, False,\n",
       "       False, False,  True,  True,  True,  True,  True,  True,  True,\n",
       "        True,  True,  True,  True,  True,  True,  True,  True,  True,\n",
       "        True, False, False, False, False, False, False, False, False,\n",
       "       False, False, False,  True,  True,  True,  True,  True,  True,\n",
       "        True,  True,  True,  True,  True,  True,  True,  True,  True,\n",
       "        True,  True, False, False, False, False, False, False, False,\n",
       "       False, False, False,  True,  True,  True,  True,  True,  True,\n",
       "        True,  True,  True,  True,  True,  True,  True,  True,  True,\n",
       "        True,  True,  True, False, False, False, False, False, False,\n",
       "       False, False, False, False,  True,  True,  True,  True,  True,\n",
       "        True,  True,  True,  True,  True,  True,  True,  True,  True,\n",
       "        True,  True,  True,  True, False, False, False, False, False,\n",
       "       False, False, False, False, False, False,  True,  True,  True,\n",
       "        True,  True,  True,  True,  True,  True,  True,  True,  True,\n",
       "        True,  True,  True,  True, False, False, False, False, False,\n",
       "       False, False, False, False, False, False,  True,  True,  True,\n",
       "        True,  True,  True,  True,  True,  True,  True,  True,  True,\n",
       "        True,  True,  True,  True,  True,  True, False, False, False,\n",
       "       False, False, False, False, False, False, False,  True,  True,\n",
       "        True,  True,  True,  True,  True,  True,  True,  True,  True,\n",
       "        True,  True,  True,  True,  True,  True,  True, False, False,\n",
       "       False, False, False, False, False, False, False, False, False,\n",
       "        True,  True,  True,  True,  True,  True,  True,  True,  True,\n",
       "        True,  True,  True,  True,  True,  True, False, False, False,\n",
       "       False, False, False, False, False, False, False, False, False,\n",
       "       False, False,  True,  True,  True,  True,  True,  True,  True,\n",
       "        True,  True,  True,  True,  True, False, False, False, False,\n",
       "       False, False, False, False, False, False, False, False, False,\n",
       "       False, False, False,  True,  True,  True,  True,  True,  True,\n",
       "        True,  True,  True,  True,  True,  True, False, False, False,\n",
       "       False, False, False, False, False, False, False, False, False,\n",
       "       False, False, False, False, False,  True,  True,  True,  True,\n",
       "        True, False,  True,  True,  True,  True, False, False, False,\n",
       "       False, False, False, False, False, False, False, False, False,\n",
       "       False, False, False, False, False, False, False,  True,  True,\n",
       "       False, False,  True, False, False, False, False, False, False,\n",
       "       False, False, False, False, False, False, False, False, False,\n",
       "       False, False, False, False, False, False, False, False, False,\n",
       "       False, False, False, False, False, False, False, False, False,\n",
       "       False, False, False, False, False, False, False, False, False,\n",
       "       False, False, False, False, False, False, False, False, False,\n",
       "       False, False, False, False, False, False, False, False, False,\n",
       "       False, False, False, False, False, False, False, False, False,\n",
       "       False])"
      ]
     },
     "execution_count": 77,
     "metadata": {},
     "output_type": "execute_result"
    }
   ],
   "source": [
    "selector.support_"
   ]
  },
  {
   "cell_type": "code",
   "execution_count": 78,
   "metadata": {},
   "outputs": [
    {
     "data": {
      "text/plain": [
       "array([10,  9,  8,  7,  6,  6,  6,  6,  6,  6,  6,  6,  6,  6,  6,  6,  6,\n",
       "        6,  6,  6,  6,  6,  6,  6,  6,  6,  6,  6,  6,  6,  7,  7,  6,  6,\n",
       "        5,  6,  5,  6,  6,  6,  6,  6,  6,  6,  6,  6,  6,  7,  6,  7,  7,\n",
       "        7,  7,  7,  7,  7,  7,  7,  7,  7,  7,  7,  7,  7,  6,  6,  5,  4,\n",
       "        4,  5,  3,  4,  4,  4,  5,  4,  5,  7,  6,  7,  7,  7,  8,  8,  8,\n",
       "        8,  8,  8,  8,  8,  6,  7,  4,  3,  1,  2,  3,  3,  1,  1,  1,  1,\n",
       "        1,  3,  3,  4,  5,  5,  5,  8,  8,  9,  9,  9,  9,  8,  9,  9,  4,\n",
       "        4,  3,  2,  1,  1,  1,  1,  1,  1,  1,  1,  1,  1,  2,  3,  3,  4,\n",
       "        5,  5,  9,  9, 10, 10, 10, 10,  7,  4,  4,  3,  1,  1,  1,  1,  1,\n",
       "        1,  1,  1,  1,  1,  1,  1,  1,  1,  2,  3,  3,  5,  8, 10, 10, 10,\n",
       "       10,  9,  4,  4,  3,  1,  1,  1,  1,  1,  1,  1,  1,  1,  1,  1,  1,\n",
       "        1,  1,  1,  1,  1,  3,  4, 10, 10, 10, 10,  9,  7,  4,  3,  2,  2,\n",
       "        1,  1,  1,  1,  1,  1,  1,  1,  1,  1,  1,  1,  1,  1,  1,  1,  2,\n",
       "        4,  4, 10,  9, 10,  6,  6,  4,  2,  3,  1,  1,  1,  1,  1,  1,  1,\n",
       "        1,  1,  1,  1,  1,  1,  1,  1,  1,  1,  1,  3,  5,  9, 10,  8,  7,\n",
       "        4,  5,  3,  2,  1,  1,  1,  1,  1,  1,  1,  1,  1,  1,  1,  1,  1,\n",
       "        1,  1,  2,  1,  2,  4, 10, 10, 10,  9,  7,  5,  3,  3,  1,  1,  1,\n",
       "        1,  1,  1,  1,  1,  1,  1,  1,  1,  1,  1,  1,  1,  1,  3,  3,  5,\n",
       "        5,  9,  9,  9,  7,  5,  5,  3,  2,  1,  1,  1,  1,  1,  1,  1,  1,\n",
       "        1,  1,  1,  1,  1,  1,  1,  1,  2,  4,  5,  9,  9,  9,  9,  9,  5,\n",
       "        4,  1,  1,  1,  1,  1,  1,  1,  1,  1,  1,  1,  1,  1,  1,  1,  1,\n",
       "        1,  1,  1,  4,  5,  7, 10, 10,  9, 10,  9,  4,  1,  2,  1,  1,  1,\n",
       "        1,  1,  1,  1,  1,  1,  1,  1,  1,  1,  1,  1,  1,  1,  3,  5, 10,\n",
       "        9, 10, 10,  9,  7,  4,  2,  1,  1,  1,  1,  1,  1,  1,  1,  1,  1,\n",
       "        1,  1,  1,  1,  1,  1,  1,  2,  2,  4,  8,  9, 10, 10, 10,  5,  4,\n",
       "        2,  1,  1,  1,  1,  1,  1,  1,  1,  1,  1,  1,  1,  1,  1,  1,  1,\n",
       "        1,  2,  3,  5, 10, 10, 10, 10,  9,  5,  4,  1,  1,  1,  1,  1,  1,\n",
       "        1,  1,  1,  1,  1,  1,  1,  1,  1,  1,  1,  1,  3,  3,  4,  5,  9,\n",
       "       10, 10, 10,  5,  3,  1,  1,  1,  1,  1,  1,  1,  1,  1,  1,  1,  1,\n",
       "        1,  1,  1,  1,  1,  1,  3,  3,  4,  8,  8, 10, 10,  9,  5,  3,  3,\n",
       "        1,  1,  1,  1,  1,  1,  1,  1,  1,  1,  1,  1,  1,  1,  1,  1,  2,\n",
       "        3,  3,  4, 10, 10, 10, 10,  8,  4,  3,  1,  1,  1,  1,  1,  1,  1,\n",
       "        1,  1,  1,  1,  1,  1,  1,  1,  1,  1,  1,  2,  4,  5,  8, 10, 10,\n",
       "       10, 10,  5,  2,  1,  1,  1,  1,  1,  1,  1,  1,  1,  1,  1,  1,  1,\n",
       "        1,  1,  1,  1,  1,  2,  4,  7, 10, 10, 10, 10,  8,  5,  3,  2,  1,\n",
       "        1,  1,  1,  1,  1,  1,  1,  1,  1,  1,  1,  1,  1,  1,  2,  3,  3,\n",
       "        5,  5,  7,  9,  9,  9,  9,  5,  5,  2,  2,  1,  1,  1,  1,  1,  1,\n",
       "        1,  1,  1,  1,  1,  1,  2,  2,  2,  3,  4,  5,  5,  8,  9,  9,  9,\n",
       "        9,  7,  4,  4,  2,  1,  1,  1,  1,  1,  1,  1,  1,  1,  1,  1,  1,\n",
       "        3,  3,  3,  5,  5,  9,  8,  9,  9,  9,  9,  9,  5,  4,  4,  2,  2,\n",
       "        1,  1,  1,  1,  1,  2,  1,  1,  1,  1,  2,  2,  3,  4,  5,  5,  9,\n",
       "        8,  8,  8,  8,  8,  8,  7,  8,  6,  4,  2,  2,  1,  1,  2,  2,  1,\n",
       "        2,  2,  3,  2,  2,  4,  4,  5,  5,  8,  8,  8,  7,  7,  7,  7,  7,\n",
       "        7,  7,  5,  5,  4,  5,  4,  3,  3,  3,  4,  3,  3,  4,  3,  4,  5,\n",
       "        5,  6,  7,  7,  7,  6,  7,  8,  8,  8,  9,  9,  9,  9,  6,  8,  8,\n",
       "        8,  7,  8,  8,  8,  7,  8,  8,  8,  8,  8,  7,  8,  8,  8,  8,  9,\n",
       "       10,  7])"
      ]
     },
     "execution_count": 78,
     "metadata": {},
     "output_type": "execute_result"
    }
   ],
   "source": [
    "# 1 is the most important feature, 10 is the most unimportant feature\n",
    "selector.ranking_"
   ]
  },
  {
   "cell_type": "code",
   "execution_count": 79,
   "metadata": {},
   "outputs": [],
   "source": [
    "x_wrapper = selector.transform(x)"
   ]
  },
  {
   "cell_type": "code",
   "execution_count": 82,
   "metadata": {},
   "outputs": [
    {
     "data": {
      "text/plain": [
       "0.9389522459432109"
      ]
     },
     "execution_count": 82,
     "metadata": {},
     "output_type": "execute_result"
    }
   ],
   "source": [
    "cross_val_score(RFC_,x_wrapper,y,cv=5).mean()"
   ]
  },
  {
   "cell_type": "code",
   "execution_count": null,
   "metadata": {},
   "outputs": [],
   "source": [
    "#again, we can plot learning curve to optimize n_features_to_select"
   ]
  }
 ],
 "metadata": {
  "kernelspec": {
   "display_name": "Python 3",
   "language": "python",
   "name": "python3"
  },
  "language_info": {
   "codemirror_mode": {
    "name": "ipython",
    "version": 3
   },
   "file_extension": ".py",
   "mimetype": "text/x-python",
   "name": "python",
   "nbconvert_exporter": "python",
   "pygments_lexer": "ipython3",
   "version": "3.7.4"
  }
 },
 "nbformat": 4,
 "nbformat_minor": 2
}
