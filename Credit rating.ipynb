{
 "cells": [
  {
   "cell_type": "code",
   "execution_count": 93,
   "metadata": {},
   "outputs": [],
   "source": [
    "import numpy as np\n",
    "import pandas as pd\n",
    "import scipy\n",
    "import matplotlib.pyplot as plt\n",
    "from sklearn.linear_model import LogisticRegression as LR\n",
    "from sklearn.impute import SimpleImputer\n",
    "from sklearn.ensemble import RandomForestRegressor\n",
    "from sklearn.ensemble import RandomForestClassifier"
   ]
  },
  {
   "cell_type": "code",
   "execution_count": 94,
   "metadata": {},
   "outputs": [],
   "source": [
    "data_train = pd.read_csv(r\".\\cs-training.csv\")\n",
    "data_test = pd.read_csv(r\".\\cs-test.csv\")"
   ]
  },
  {
   "cell_type": "code",
   "execution_count": 95,
   "metadata": {},
   "outputs": [
    {
     "data": {
      "text/html": [
       "<div>\n",
       "<style scoped>\n",
       "    .dataframe tbody tr th:only-of-type {\n",
       "        vertical-align: middle;\n",
       "    }\n",
       "\n",
       "    .dataframe tbody tr th {\n",
       "        vertical-align: top;\n",
       "    }\n",
       "\n",
       "    .dataframe thead th {\n",
       "        text-align: right;\n",
       "    }\n",
       "</style>\n",
       "<table border=\"1\" class=\"dataframe\">\n",
       "  <thead>\n",
       "    <tr style=\"text-align: right;\">\n",
       "      <th></th>\n",
       "      <th>Unnamed: 0</th>\n",
       "      <th>SeriousDlqin2yrs</th>\n",
       "      <th>RevolvingUtilizationOfUnsecuredLines</th>\n",
       "      <th>age</th>\n",
       "      <th>NumberOfTime30-59DaysPastDueNotWorse</th>\n",
       "      <th>DebtRatio</th>\n",
       "      <th>MonthlyIncome</th>\n",
       "      <th>NumberOfOpenCreditLinesAndLoans</th>\n",
       "      <th>NumberOfTimes90DaysLate</th>\n",
       "      <th>NumberRealEstateLoansOrLines</th>\n",
       "      <th>NumberOfTime60-89DaysPastDueNotWorse</th>\n",
       "      <th>NumberOfDependents</th>\n",
       "    </tr>\n",
       "  </thead>\n",
       "  <tbody>\n",
       "    <tr>\n",
       "      <td>0</td>\n",
       "      <td>1</td>\n",
       "      <td>1</td>\n",
       "      <td>0.766127</td>\n",
       "      <td>45</td>\n",
       "      <td>2</td>\n",
       "      <td>0.802982</td>\n",
       "      <td>9120.0</td>\n",
       "      <td>13</td>\n",
       "      <td>0</td>\n",
       "      <td>6</td>\n",
       "      <td>0</td>\n",
       "      <td>2.0</td>\n",
       "    </tr>\n",
       "    <tr>\n",
       "      <td>1</td>\n",
       "      <td>2</td>\n",
       "      <td>0</td>\n",
       "      <td>0.957151</td>\n",
       "      <td>40</td>\n",
       "      <td>0</td>\n",
       "      <td>0.121876</td>\n",
       "      <td>2600.0</td>\n",
       "      <td>4</td>\n",
       "      <td>0</td>\n",
       "      <td>0</td>\n",
       "      <td>0</td>\n",
       "      <td>1.0</td>\n",
       "    </tr>\n",
       "    <tr>\n",
       "      <td>2</td>\n",
       "      <td>3</td>\n",
       "      <td>0</td>\n",
       "      <td>0.658180</td>\n",
       "      <td>38</td>\n",
       "      <td>1</td>\n",
       "      <td>0.085113</td>\n",
       "      <td>3042.0</td>\n",
       "      <td>2</td>\n",
       "      <td>1</td>\n",
       "      <td>0</td>\n",
       "      <td>0</td>\n",
       "      <td>0.0</td>\n",
       "    </tr>\n",
       "    <tr>\n",
       "      <td>3</td>\n",
       "      <td>4</td>\n",
       "      <td>0</td>\n",
       "      <td>0.233810</td>\n",
       "      <td>30</td>\n",
       "      <td>0</td>\n",
       "      <td>0.036050</td>\n",
       "      <td>3300.0</td>\n",
       "      <td>5</td>\n",
       "      <td>0</td>\n",
       "      <td>0</td>\n",
       "      <td>0</td>\n",
       "      <td>0.0</td>\n",
       "    </tr>\n",
       "    <tr>\n",
       "      <td>4</td>\n",
       "      <td>5</td>\n",
       "      <td>0</td>\n",
       "      <td>0.907239</td>\n",
       "      <td>49</td>\n",
       "      <td>1</td>\n",
       "      <td>0.024926</td>\n",
       "      <td>63588.0</td>\n",
       "      <td>7</td>\n",
       "      <td>0</td>\n",
       "      <td>1</td>\n",
       "      <td>0</td>\n",
       "      <td>0.0</td>\n",
       "    </tr>\n",
       "  </tbody>\n",
       "</table>\n",
       "</div>"
      ],
      "text/plain": [
       "   Unnamed: 0  SeriousDlqin2yrs  RevolvingUtilizationOfUnsecuredLines  age  \\\n",
       "0           1                 1                              0.766127   45   \n",
       "1           2                 0                              0.957151   40   \n",
       "2           3                 0                              0.658180   38   \n",
       "3           4                 0                              0.233810   30   \n",
       "4           5                 0                              0.907239   49   \n",
       "\n",
       "   NumberOfTime30-59DaysPastDueNotWorse  DebtRatio  MonthlyIncome  \\\n",
       "0                                     2   0.802982         9120.0   \n",
       "1                                     0   0.121876         2600.0   \n",
       "2                                     1   0.085113         3042.0   \n",
       "3                                     0   0.036050         3300.0   \n",
       "4                                     1   0.024926        63588.0   \n",
       "\n",
       "   NumberOfOpenCreditLinesAndLoans  NumberOfTimes90DaysLate  \\\n",
       "0                               13                        0   \n",
       "1                                4                        0   \n",
       "2                                2                        1   \n",
       "3                                5                        0   \n",
       "4                                7                        0   \n",
       "\n",
       "   NumberRealEstateLoansOrLines  NumberOfTime60-89DaysPastDueNotWorse  \\\n",
       "0                             6                                     0   \n",
       "1                             0                                     0   \n",
       "2                             0                                     0   \n",
       "3                             0                                     0   \n",
       "4                             1                                     0   \n",
       "\n",
       "   NumberOfDependents  \n",
       "0                 2.0  \n",
       "1                 1.0  \n",
       "2                 0.0  \n",
       "3                 0.0  \n",
       "4                 0.0  "
      ]
     },
     "execution_count": 95,
     "metadata": {},
     "output_type": "execute_result"
    }
   ],
   "source": [
    "data_train.head()"
   ]
  },
  {
   "cell_type": "code",
   "execution_count": 96,
   "metadata": {},
   "outputs": [
    {
     "data": {
      "text/html": [
       "<div>\n",
       "<style scoped>\n",
       "    .dataframe tbody tr th:only-of-type {\n",
       "        vertical-align: middle;\n",
       "    }\n",
       "\n",
       "    .dataframe tbody tr th {\n",
       "        vertical-align: top;\n",
       "    }\n",
       "\n",
       "    .dataframe thead th {\n",
       "        text-align: right;\n",
       "    }\n",
       "</style>\n",
       "<table border=\"1\" class=\"dataframe\">\n",
       "  <thead>\n",
       "    <tr style=\"text-align: right;\">\n",
       "      <th></th>\n",
       "      <th>Unnamed: 0</th>\n",
       "      <th>SeriousDlqin2yrs</th>\n",
       "      <th>RevolvingUtilizationOfUnsecuredLines</th>\n",
       "      <th>age</th>\n",
       "      <th>NumberOfTime30-59DaysPastDueNotWorse</th>\n",
       "      <th>DebtRatio</th>\n",
       "      <th>MonthlyIncome</th>\n",
       "      <th>NumberOfOpenCreditLinesAndLoans</th>\n",
       "      <th>NumberOfTimes90DaysLate</th>\n",
       "      <th>NumberRealEstateLoansOrLines</th>\n",
       "      <th>NumberOfTime60-89DaysPastDueNotWorse</th>\n",
       "      <th>NumberOfDependents</th>\n",
       "    </tr>\n",
       "  </thead>\n",
       "  <tbody>\n",
       "    <tr>\n",
       "      <td>0</td>\n",
       "      <td>1</td>\n",
       "      <td>NaN</td>\n",
       "      <td>0.885519</td>\n",
       "      <td>43</td>\n",
       "      <td>0</td>\n",
       "      <td>0.177513</td>\n",
       "      <td>5700.0</td>\n",
       "      <td>4</td>\n",
       "      <td>0</td>\n",
       "      <td>0</td>\n",
       "      <td>0</td>\n",
       "      <td>0.0</td>\n",
       "    </tr>\n",
       "    <tr>\n",
       "      <td>1</td>\n",
       "      <td>2</td>\n",
       "      <td>NaN</td>\n",
       "      <td>0.463295</td>\n",
       "      <td>57</td>\n",
       "      <td>0</td>\n",
       "      <td>0.527237</td>\n",
       "      <td>9141.0</td>\n",
       "      <td>15</td>\n",
       "      <td>0</td>\n",
       "      <td>4</td>\n",
       "      <td>0</td>\n",
       "      <td>2.0</td>\n",
       "    </tr>\n",
       "    <tr>\n",
       "      <td>2</td>\n",
       "      <td>3</td>\n",
       "      <td>NaN</td>\n",
       "      <td>0.043275</td>\n",
       "      <td>59</td>\n",
       "      <td>0</td>\n",
       "      <td>0.687648</td>\n",
       "      <td>5083.0</td>\n",
       "      <td>12</td>\n",
       "      <td>0</td>\n",
       "      <td>1</td>\n",
       "      <td>0</td>\n",
       "      <td>2.0</td>\n",
       "    </tr>\n",
       "    <tr>\n",
       "      <td>3</td>\n",
       "      <td>4</td>\n",
       "      <td>NaN</td>\n",
       "      <td>0.280308</td>\n",
       "      <td>38</td>\n",
       "      <td>1</td>\n",
       "      <td>0.925961</td>\n",
       "      <td>3200.0</td>\n",
       "      <td>7</td>\n",
       "      <td>0</td>\n",
       "      <td>2</td>\n",
       "      <td>0</td>\n",
       "      <td>0.0</td>\n",
       "    </tr>\n",
       "    <tr>\n",
       "      <td>4</td>\n",
       "      <td>5</td>\n",
       "      <td>NaN</td>\n",
       "      <td>1.000000</td>\n",
       "      <td>27</td>\n",
       "      <td>0</td>\n",
       "      <td>0.019917</td>\n",
       "      <td>3865.0</td>\n",
       "      <td>4</td>\n",
       "      <td>0</td>\n",
       "      <td>0</td>\n",
       "      <td>0</td>\n",
       "      <td>1.0</td>\n",
       "    </tr>\n",
       "  </tbody>\n",
       "</table>\n",
       "</div>"
      ],
      "text/plain": [
       "   Unnamed: 0  SeriousDlqin2yrs  RevolvingUtilizationOfUnsecuredLines  age  \\\n",
       "0           1               NaN                              0.885519   43   \n",
       "1           2               NaN                              0.463295   57   \n",
       "2           3               NaN                              0.043275   59   \n",
       "3           4               NaN                              0.280308   38   \n",
       "4           5               NaN                              1.000000   27   \n",
       "\n",
       "   NumberOfTime30-59DaysPastDueNotWorse  DebtRatio  MonthlyIncome  \\\n",
       "0                                     0   0.177513         5700.0   \n",
       "1                                     0   0.527237         9141.0   \n",
       "2                                     0   0.687648         5083.0   \n",
       "3                                     1   0.925961         3200.0   \n",
       "4                                     0   0.019917         3865.0   \n",
       "\n",
       "   NumberOfOpenCreditLinesAndLoans  NumberOfTimes90DaysLate  \\\n",
       "0                                4                        0   \n",
       "1                               15                        0   \n",
       "2                               12                        0   \n",
       "3                                7                        0   \n",
       "4                                4                        0   \n",
       "\n",
       "   NumberRealEstateLoansOrLines  NumberOfTime60-89DaysPastDueNotWorse  \\\n",
       "0                             0                                     0   \n",
       "1                             4                                     0   \n",
       "2                             1                                     0   \n",
       "3                             2                                     0   \n",
       "4                             0                                     0   \n",
       "\n",
       "   NumberOfDependents  \n",
       "0                 0.0  \n",
       "1                 2.0  \n",
       "2                 2.0  \n",
       "3                 0.0  \n",
       "4                 1.0  "
      ]
     },
     "execution_count": 96,
     "metadata": {},
     "output_type": "execute_result"
    }
   ],
   "source": [
    "data_test.head()"
   ]
  },
  {
   "cell_type": "code",
   "execution_count": 97,
   "metadata": {
    "scrolled": true
   },
   "outputs": [
    {
     "data": {
      "text/plain": [
       "Index(['Unnamed: 0', 'SeriousDlqin2yrs',\n",
       "       'RevolvingUtilizationOfUnsecuredLines', 'age',\n",
       "       'NumberOfTime30-59DaysPastDueNotWorse', 'DebtRatio', 'MonthlyIncome',\n",
       "       'NumberOfOpenCreditLinesAndLoans', 'NumberOfTimes90DaysLate',\n",
       "       'NumberRealEstateLoansOrLines', 'NumberOfTime60-89DaysPastDueNotWorse',\n",
       "       'NumberOfDependents'],\n",
       "      dtype='object')"
      ]
     },
     "execution_count": 97,
     "metadata": {},
     "output_type": "execute_result"
    }
   ],
   "source": [
    "data_train.columns"
   ]
  },
  {
   "cell_type": "code",
   "execution_count": 98,
   "metadata": {},
   "outputs": [
    {
     "data": {
      "text/plain": [
       "(150000, 12)"
      ]
     },
     "execution_count": 98,
     "metadata": {},
     "output_type": "execute_result"
    }
   ],
   "source": [
    "data_train.shape"
   ]
  },
  {
   "cell_type": "code",
   "execution_count": 99,
   "metadata": {},
   "outputs": [
    {
     "name": "stdout",
     "output_type": "stream",
     "text": [
      "<class 'pandas.core.frame.DataFrame'>\n",
      "RangeIndex: 150000 entries, 0 to 149999\n",
      "Data columns (total 12 columns):\n",
      "Unnamed: 0                              150000 non-null int64\n",
      "SeriousDlqin2yrs                        150000 non-null int64\n",
      "RevolvingUtilizationOfUnsecuredLines    150000 non-null float64\n",
      "age                                     150000 non-null int64\n",
      "NumberOfTime30-59DaysPastDueNotWorse    150000 non-null int64\n",
      "DebtRatio                               150000 non-null float64\n",
      "MonthlyIncome                           120269 non-null float64\n",
      "NumberOfOpenCreditLinesAndLoans         150000 non-null int64\n",
      "NumberOfTimes90DaysLate                 150000 non-null int64\n",
      "NumberRealEstateLoansOrLines            150000 non-null int64\n",
      "NumberOfTime60-89DaysPastDueNotWorse    150000 non-null int64\n",
      "NumberOfDependents                      146076 non-null float64\n",
      "dtypes: float64(4), int64(8)\n",
      "memory usage: 13.7 MB\n"
     ]
    }
   ],
   "source": [
    "data_train.info()"
   ]
  },
  {
   "cell_type": "code",
   "execution_count": 100,
   "metadata": {},
   "outputs": [],
   "source": [
    "data_train.drop(['Unnamed: 0'],axis=1,inplace=True)\n",
    "data_test.drop(['Unnamed: 0','SeriousDlqin2yrs'],axis=1,inplace=True)"
   ]
  },
  {
   "cell_type": "code",
   "execution_count": 101,
   "metadata": {},
   "outputs": [
    {
     "data": {
      "text/html": [
       "<div>\n",
       "<style scoped>\n",
       "    .dataframe tbody tr th:only-of-type {\n",
       "        vertical-align: middle;\n",
       "    }\n",
       "\n",
       "    .dataframe tbody tr th {\n",
       "        vertical-align: top;\n",
       "    }\n",
       "\n",
       "    .dataframe thead th {\n",
       "        text-align: right;\n",
       "    }\n",
       "</style>\n",
       "<table border=\"1\" class=\"dataframe\">\n",
       "  <thead>\n",
       "    <tr style=\"text-align: right;\">\n",
       "      <th></th>\n",
       "      <th>SeriousDlqin2yrs</th>\n",
       "      <th>RevolvingUtilizationOfUnsecuredLines</th>\n",
       "      <th>age</th>\n",
       "      <th>NumberOfTime30-59DaysPastDueNotWorse</th>\n",
       "      <th>DebtRatio</th>\n",
       "      <th>MonthlyIncome</th>\n",
       "      <th>NumberOfOpenCreditLinesAndLoans</th>\n",
       "      <th>NumberOfTimes90DaysLate</th>\n",
       "      <th>NumberRealEstateLoansOrLines</th>\n",
       "      <th>NumberOfTime60-89DaysPastDueNotWorse</th>\n",
       "      <th>NumberOfDependents</th>\n",
       "    </tr>\n",
       "  </thead>\n",
       "  <tbody>\n",
       "    <tr>\n",
       "      <td>0</td>\n",
       "      <td>1</td>\n",
       "      <td>0.766127</td>\n",
       "      <td>45</td>\n",
       "      <td>2</td>\n",
       "      <td>0.802982</td>\n",
       "      <td>9120.0</td>\n",
       "      <td>13</td>\n",
       "      <td>0</td>\n",
       "      <td>6</td>\n",
       "      <td>0</td>\n",
       "      <td>2.0</td>\n",
       "    </tr>\n",
       "    <tr>\n",
       "      <td>1</td>\n",
       "      <td>0</td>\n",
       "      <td>0.957151</td>\n",
       "      <td>40</td>\n",
       "      <td>0</td>\n",
       "      <td>0.121876</td>\n",
       "      <td>2600.0</td>\n",
       "      <td>4</td>\n",
       "      <td>0</td>\n",
       "      <td>0</td>\n",
       "      <td>0</td>\n",
       "      <td>1.0</td>\n",
       "    </tr>\n",
       "    <tr>\n",
       "      <td>2</td>\n",
       "      <td>0</td>\n",
       "      <td>0.658180</td>\n",
       "      <td>38</td>\n",
       "      <td>1</td>\n",
       "      <td>0.085113</td>\n",
       "      <td>3042.0</td>\n",
       "      <td>2</td>\n",
       "      <td>1</td>\n",
       "      <td>0</td>\n",
       "      <td>0</td>\n",
       "      <td>0.0</td>\n",
       "    </tr>\n",
       "    <tr>\n",
       "      <td>3</td>\n",
       "      <td>0</td>\n",
       "      <td>0.233810</td>\n",
       "      <td>30</td>\n",
       "      <td>0</td>\n",
       "      <td>0.036050</td>\n",
       "      <td>3300.0</td>\n",
       "      <td>5</td>\n",
       "      <td>0</td>\n",
       "      <td>0</td>\n",
       "      <td>0</td>\n",
       "      <td>0.0</td>\n",
       "    </tr>\n",
       "    <tr>\n",
       "      <td>4</td>\n",
       "      <td>0</td>\n",
       "      <td>0.907239</td>\n",
       "      <td>49</td>\n",
       "      <td>1</td>\n",
       "      <td>0.024926</td>\n",
       "      <td>63588.0</td>\n",
       "      <td>7</td>\n",
       "      <td>0</td>\n",
       "      <td>1</td>\n",
       "      <td>0</td>\n",
       "      <td>0.0</td>\n",
       "    </tr>\n",
       "  </tbody>\n",
       "</table>\n",
       "</div>"
      ],
      "text/plain": [
       "   SeriousDlqin2yrs  RevolvingUtilizationOfUnsecuredLines  age  \\\n",
       "0                 1                              0.766127   45   \n",
       "1                 0                              0.957151   40   \n",
       "2                 0                              0.658180   38   \n",
       "3                 0                              0.233810   30   \n",
       "4                 0                              0.907239   49   \n",
       "\n",
       "   NumberOfTime30-59DaysPastDueNotWorse  DebtRatio  MonthlyIncome  \\\n",
       "0                                     2   0.802982         9120.0   \n",
       "1                                     0   0.121876         2600.0   \n",
       "2                                     1   0.085113         3042.0   \n",
       "3                                     0   0.036050         3300.0   \n",
       "4                                     1   0.024926        63588.0   \n",
       "\n",
       "   NumberOfOpenCreditLinesAndLoans  NumberOfTimes90DaysLate  \\\n",
       "0                               13                        0   \n",
       "1                                4                        0   \n",
       "2                                2                        1   \n",
       "3                                5                        0   \n",
       "4                                7                        0   \n",
       "\n",
       "   NumberRealEstateLoansOrLines  NumberOfTime60-89DaysPastDueNotWorse  \\\n",
       "0                             6                                     0   \n",
       "1                             0                                     0   \n",
       "2                             0                                     0   \n",
       "3                             0                                     0   \n",
       "4                             1                                     0   \n",
       "\n",
       "   NumberOfDependents  \n",
       "0                 2.0  \n",
       "1                 1.0  \n",
       "2                 0.0  \n",
       "3                 0.0  \n",
       "4                 0.0  "
      ]
     },
     "execution_count": 101,
     "metadata": {},
     "output_type": "execute_result"
    }
   ],
   "source": [
    "data_train.head()"
   ]
  },
  {
   "cell_type": "code",
   "execution_count": 102,
   "metadata": {},
   "outputs": [
    {
     "data": {
      "text/plain": [
       "array([10,  5], dtype=int64)"
      ]
     },
     "execution_count": 102,
     "metadata": {},
     "output_type": "execute_result"
    }
   ],
   "source": [
    "n_nan=np.isnan(data_train.values).sum(axis=0)\n",
    "np.sum(n_nan!=0)\n",
    "np.argsort(n_nan)[-np.sum(n_nan!=0):]\n",
    "#data_train.isnull().sum()\n",
    "#data_train.values.copy()\n"
   ]
  },
  {
   "cell_type": "code",
   "execution_count": 103,
   "metadata": {},
   "outputs": [
    {
     "data": {
      "text/html": [
       "<div>\n",
       "<style scoped>\n",
       "    .dataframe tbody tr th:only-of-type {\n",
       "        vertical-align: middle;\n",
       "    }\n",
       "\n",
       "    .dataframe tbody tr th {\n",
       "        vertical-align: top;\n",
       "    }\n",
       "\n",
       "    .dataframe thead th {\n",
       "        text-align: right;\n",
       "    }\n",
       "</style>\n",
       "<table border=\"1\" class=\"dataframe\">\n",
       "  <thead>\n",
       "    <tr style=\"text-align: right;\">\n",
       "      <th></th>\n",
       "      <th>RevolvingUtilizationOfUnsecuredLines</th>\n",
       "      <th>age</th>\n",
       "      <th>NumberOfTime30-59DaysPastDueNotWorse</th>\n",
       "      <th>DebtRatio</th>\n",
       "      <th>MonthlyIncome</th>\n",
       "      <th>NumberOfOpenCreditLinesAndLoans</th>\n",
       "      <th>NumberOfTimes90DaysLate</th>\n",
       "      <th>NumberRealEstateLoansOrLines</th>\n",
       "      <th>NumberOfTime60-89DaysPastDueNotWorse</th>\n",
       "      <th>NumberOfDependents</th>\n",
       "    </tr>\n",
       "  </thead>\n",
       "  <tbody>\n",
       "    <tr>\n",
       "      <td>0</td>\n",
       "      <td>0.885519</td>\n",
       "      <td>43</td>\n",
       "      <td>0</td>\n",
       "      <td>0.177513</td>\n",
       "      <td>5700.0</td>\n",
       "      <td>4</td>\n",
       "      <td>0</td>\n",
       "      <td>0</td>\n",
       "      <td>0</td>\n",
       "      <td>0.0</td>\n",
       "    </tr>\n",
       "    <tr>\n",
       "      <td>1</td>\n",
       "      <td>0.463295</td>\n",
       "      <td>57</td>\n",
       "      <td>0</td>\n",
       "      <td>0.527237</td>\n",
       "      <td>9141.0</td>\n",
       "      <td>15</td>\n",
       "      <td>0</td>\n",
       "      <td>4</td>\n",
       "      <td>0</td>\n",
       "      <td>2.0</td>\n",
       "    </tr>\n",
       "    <tr>\n",
       "      <td>2</td>\n",
       "      <td>0.043275</td>\n",
       "      <td>59</td>\n",
       "      <td>0</td>\n",
       "      <td>0.687648</td>\n",
       "      <td>5083.0</td>\n",
       "      <td>12</td>\n",
       "      <td>0</td>\n",
       "      <td>1</td>\n",
       "      <td>0</td>\n",
       "      <td>2.0</td>\n",
       "    </tr>\n",
       "    <tr>\n",
       "      <td>3</td>\n",
       "      <td>0.280308</td>\n",
       "      <td>38</td>\n",
       "      <td>1</td>\n",
       "      <td>0.925961</td>\n",
       "      <td>3200.0</td>\n",
       "      <td>7</td>\n",
       "      <td>0</td>\n",
       "      <td>2</td>\n",
       "      <td>0</td>\n",
       "      <td>0.0</td>\n",
       "    </tr>\n",
       "    <tr>\n",
       "      <td>4</td>\n",
       "      <td>1.000000</td>\n",
       "      <td>27</td>\n",
       "      <td>0</td>\n",
       "      <td>0.019917</td>\n",
       "      <td>3865.0</td>\n",
       "      <td>4</td>\n",
       "      <td>0</td>\n",
       "      <td>0</td>\n",
       "      <td>0</td>\n",
       "      <td>1.0</td>\n",
       "    </tr>\n",
       "  </tbody>\n",
       "</table>\n",
       "</div>"
      ],
      "text/plain": [
       "   RevolvingUtilizationOfUnsecuredLines  age  \\\n",
       "0                              0.885519   43   \n",
       "1                              0.463295   57   \n",
       "2                              0.043275   59   \n",
       "3                              0.280308   38   \n",
       "4                              1.000000   27   \n",
       "\n",
       "   NumberOfTime30-59DaysPastDueNotWorse  DebtRatio  MonthlyIncome  \\\n",
       "0                                     0   0.177513         5700.0   \n",
       "1                                     0   0.527237         9141.0   \n",
       "2                                     0   0.687648         5083.0   \n",
       "3                                     1   0.925961         3200.0   \n",
       "4                                     0   0.019917         3865.0   \n",
       "\n",
       "   NumberOfOpenCreditLinesAndLoans  NumberOfTimes90DaysLate  \\\n",
       "0                                4                        0   \n",
       "1                               15                        0   \n",
       "2                               12                        0   \n",
       "3                                7                        0   \n",
       "4                                4                        0   \n",
       "\n",
       "   NumberRealEstateLoansOrLines  NumberOfTime60-89DaysPastDueNotWorse  \\\n",
       "0                             0                                     0   \n",
       "1                             4                                     0   \n",
       "2                             1                                     0   \n",
       "3                             2                                     0   \n",
       "4                             0                                     0   \n",
       "\n",
       "   NumberOfDependents  \n",
       "0                 0.0  \n",
       "1                 2.0  \n",
       "2                 2.0  \n",
       "3                 0.0  \n",
       "4                 1.0  "
      ]
     },
     "execution_count": 103,
     "metadata": {},
     "output_type": "execute_result"
    }
   ],
   "source": [
    "data_test.head()"
   ]
  },
  {
   "cell_type": "code",
   "execution_count": 104,
   "metadata": {},
   "outputs": [
    {
     "name": "stdout",
     "output_type": "stream",
     "text": [
      "<class 'pandas.core.frame.DataFrame'>\n",
      "Int64Index: 149391 entries, 0 to 149999\n",
      "Data columns (total 11 columns):\n",
      "SeriousDlqin2yrs                        149391 non-null int64\n",
      "RevolvingUtilizationOfUnsecuredLines    149391 non-null float64\n",
      "age                                     149391 non-null int64\n",
      "NumberOfTime30-59DaysPastDueNotWorse    149391 non-null int64\n",
      "DebtRatio                               149391 non-null float64\n",
      "MonthlyIncome                           120170 non-null float64\n",
      "NumberOfOpenCreditLinesAndLoans         149391 non-null int64\n",
      "NumberOfTimes90DaysLate                 149391 non-null int64\n",
      "NumberRealEstateLoansOrLines            149391 non-null int64\n",
      "NumberOfTime60-89DaysPastDueNotWorse    149391 non-null int64\n",
      "NumberOfDependents                      145563 non-null float64\n",
      "dtypes: float64(4), int64(7)\n",
      "memory usage: 13.7 MB\n"
     ]
    }
   ],
   "source": [
    "#delete duplicates\n",
    "data_train.drop_duplicates(inplace=True)\n",
    "data_train.info()"
   ]
  },
  {
   "cell_type": "code",
   "execution_count": 105,
   "metadata": {},
   "outputs": [],
   "source": [
    "#reindex after deleting duplicates\n",
    "data_train.index = range(data_train.shape[0])"
   ]
  },
  {
   "cell_type": "code",
   "execution_count": 106,
   "metadata": {},
   "outputs": [],
   "source": [
    "# to fill missing values"
   ]
  },
  {
   "cell_type": "code",
   "execution_count": 107,
   "metadata": {},
   "outputs": [
    {
     "data": {
      "text/plain": [
       "SeriousDlqin2yrs                        0.000000\n",
       "RevolvingUtilizationOfUnsecuredLines    0.000000\n",
       "age                                     0.000000\n",
       "NumberOfTime30-59DaysPastDueNotWorse    0.000000\n",
       "DebtRatio                               0.000000\n",
       "MonthlyIncome                           0.195601\n",
       "NumberOfOpenCreditLinesAndLoans         0.000000\n",
       "NumberOfTimes90DaysLate                 0.000000\n",
       "NumberRealEstateLoansOrLines            0.000000\n",
       "NumberOfTime60-89DaysPastDueNotWorse    0.000000\n",
       "NumberOfDependents                      0.025624\n",
       "dtype: float64"
      ]
     },
     "execution_count": 107,
     "metadata": {},
     "output_type": "execute_result"
    }
   ],
   "source": [
    "#ratio of missing values\n",
    "data_train.isnull().sum(axis=0)/data_train.shape[0]"
   ]
  },
  {
   "cell_type": "code",
   "execution_count": 108,
   "metadata": {},
   "outputs": [
    {
     "data": {
      "text/plain": [
       "SeriousDlqin2yrs                        0.000000\n",
       "RevolvingUtilizationOfUnsecuredLines    0.000000\n",
       "age                                     0.000000\n",
       "NumberOfTime30-59DaysPastDueNotWorse    0.000000\n",
       "DebtRatio                               0.000000\n",
       "MonthlyIncome                           0.195601\n",
       "NumberOfOpenCreditLinesAndLoans         0.000000\n",
       "NumberOfTimes90DaysLate                 0.000000\n",
       "NumberRealEstateLoansOrLines            0.000000\n",
       "NumberOfTime60-89DaysPastDueNotWorse    0.000000\n",
       "NumberOfDependents                      0.025624\n",
       "dtype: float64"
      ]
     },
     "execution_count": 108,
     "metadata": {},
     "output_type": "execute_result"
    }
   ],
   "source": [
    "#or we do the following to get the ratio of missing values\n",
    "data_train.isnull().mean(axis=0)"
   ]
  },
  {
   "cell_type": "code",
   "execution_count": 109,
   "metadata": {},
   "outputs": [
    {
     "data": {
      "text/plain": [
       "count    145563.000000\n",
       "mean          0.759863\n",
       "std           1.116141\n",
       "min           0.000000\n",
       "25%           0.000000\n",
       "50%           0.000000\n",
       "75%           1.000000\n",
       "max          20.000000\n",
       "Name: NumberOfDependents, dtype: float64"
      ]
     },
     "execution_count": 109,
     "metadata": {},
     "output_type": "execute_result"
    }
   ],
   "source": [
    "data_train.loc[:,\"NumberOfDependents\"].describe()"
   ]
  },
  {
   "cell_type": "code",
   "execution_count": 110,
   "metadata": {},
   "outputs": [
    {
     "data": {
      "text/plain": [
       "array([86392, 26314, 19521,  9483,  2862,   746,   158,    51,    24,\n",
       "           5,     5,     0,     0,     1,     0,     0,     0,     0,\n",
       "           0,     0,     1], dtype=int64)"
      ]
     },
     "execution_count": 110,
     "metadata": {},
     "output_type": "execute_result"
    }
   ],
   "source": [
    "np.bincount(data_train.loc[:,\"NumberOfDependents\"].dropna().tolist())"
   ]
  },
  {
   "cell_type": "code",
   "execution_count": 111,
   "metadata": {},
   "outputs": [],
   "source": [
    "data_train.loc[:,\"NumberOfDependents\"].fillna(0,inplace=True)"
   ]
  },
  {
   "cell_type": "code",
   "execution_count": 112,
   "metadata": {},
   "outputs": [
    {
     "name": "stdout",
     "output_type": "stream",
     "text": [
      "<class 'pandas.core.frame.DataFrame'>\n",
      "RangeIndex: 149391 entries, 0 to 149390\n",
      "Data columns (total 11 columns):\n",
      "SeriousDlqin2yrs                        149391 non-null int64\n",
      "RevolvingUtilizationOfUnsecuredLines    149391 non-null float64\n",
      "age                                     149391 non-null int64\n",
      "NumberOfTime30-59DaysPastDueNotWorse    149391 non-null int64\n",
      "DebtRatio                               149391 non-null float64\n",
      "MonthlyIncome                           120170 non-null float64\n",
      "NumberOfOpenCreditLinesAndLoans         149391 non-null int64\n",
      "NumberOfTimes90DaysLate                 149391 non-null int64\n",
      "NumberRealEstateLoansOrLines            149391 non-null int64\n",
      "NumberOfTime60-89DaysPastDueNotWorse    149391 non-null int64\n",
      "NumberOfDependents                      149391 non-null float64\n",
      "dtypes: float64(4), int64(7)\n",
      "memory usage: 12.5 MB\n"
     ]
    }
   ],
   "source": [
    "data_train.info()"
   ]
  },
  {
   "cell_type": "code",
   "execution_count": 113,
   "metadata": {},
   "outputs": [],
   "source": [
    "noincome = data_train.loc[data_train.loc[:,\"MonthlyIncome\"].isnull(),:]"
   ]
  },
  {
   "cell_type": "code",
   "execution_count": 114,
   "metadata": {},
   "outputs": [
    {
     "data": {
      "text/plain": [
       "(29221, 11)"
      ]
     },
     "execution_count": 114,
     "metadata": {},
     "output_type": "execute_result"
    }
   ],
   "source": [
    "noincome.shape"
   ]
  },
  {
   "cell_type": "code",
   "execution_count": 115,
   "metadata": {},
   "outputs": [
    {
     "data": {
      "text/plain": [
       "(array([27567.,     0.,     0.,     0.,     0.,     0.,     0.,     0.,\n",
       "            0.,  1654.]),\n",
       " array([0. , 0.1, 0.2, 0.3, 0.4, 0.5, 0.6, 0.7, 0.8, 0.9, 1. ]),\n",
       " <a list of 10 Patch objects>)"
      ]
     },
     "execution_count": 115,
     "metadata": {},
     "output_type": "execute_result"
    },
    {
     "data": {
      "image/png": "[encoded data removed]",
      "text/plain": [
       "<Figure size 432x288 with 1 Axes>"
      ]
     },
     "metadata": {
      "needs_background": "light"
     },
     "output_type": "display_data"
    }
   ],
   "source": [
    "plt.hist(noincome.loc[:,\"SeriousDlqin2yrs\"].values)"
   ]
  },
  {
   "cell_type": "code",
   "execution_count": 116,
   "metadata": {},
   "outputs": [
    {
     "data": {
      "text/plain": [
       "0.056603127887478184"
      ]
     },
     "execution_count": 116,
     "metadata": {},
     "output_type": "execute_result"
    }
   ],
   "source": [
    "noincome.loc[:,\"SeriousDlqin2yrs\"].tolist().count(1)/noincome.loc[:,\"SeriousDlqin2yrs\"].shape[0]"
   ]
  },
  {
   "cell_type": "code",
   "execution_count": 117,
   "metadata": {},
   "outputs": [
    {
     "data": {
      "text/plain": [
       "0.06699868131279663"
      ]
     },
     "execution_count": 117,
     "metadata": {},
     "output_type": "execute_result"
    }
   ],
   "source": [
    "data_train.loc[:,\"SeriousDlqin2yrs\"].tolist().count(1)/data_train.loc[:,\"SeriousDlqin2yrs\"].shape[0]"
   ]
  },
  {
   "cell_type": "code",
   "execution_count": 118,
   "metadata": {},
   "outputs": [],
   "source": [
    "#using random forest to fill missing values of income\n",
    "def fill_missing_rf(x, y, continuous_var, to_fills=None, inplace=False):\n",
    "    '''\n",
    "    To fill missing values using random forest regressor or classifier\n",
    "    \n",
    "    need libs:\n",
    "    from sklearn.ensemble import RandomForestRegressor\n",
    "    from sklearn.ensemble import RandomForestClassifier\n",
    "    from sklearn.impute import SimpleImputer\n",
    "    \n",
    "    input:\n",
    "    x: (numpy.ndarray) feature matrix\n",
    "    y: (numpy.ndarray, 2d array) target \n",
    "    to_fills: (integer list) a list of columns to be filled \n",
    "    continuous_var: (boolian list, same size of n_columns of x) True if a feature(column) is a continuous variable;\n",
    "                    False if discret(categrical) variable \n",
    "    inplace: (Bool) False by default. if True, we fill the missing values in original x, \n",
    "             and don't return a new feature matrix\n",
    "    \n",
    "    return:\n",
    "    None: if inplace=False\n",
    "    x_reg: (numpy.ndarray) if inplace=True, we return a feature matrix with missing values filled\n",
    "    '''\n",
    "    n_columns = x.shape[1]\n",
    "    \n",
    "    # if inplace == True, generate a new feature matrix\n",
    "    if inplace:\n",
    "        x_reg = x\n",
    "    else:\n",
    "        x_reg = x.copy()\n",
    "    \n",
    "    # increasingly sort the columns(features) according to the number of missing values\n",
    "    if to_fills == None:\n",
    "        n_nan = np.isnan(x_reg).sum(axis=0)\n",
    "        sortindex = np.argsort(n_nan)[-np.sum(n_nan!=0):]\n",
    "    else:\n",
    "        n_nan = np.isnan(x_reg[:,to_fills]).sum(axis=0)\n",
    "        sortindex = np.argsort(n_nan)[-np.sum(n_nan!=0):]\n",
    "    \n",
    "    for i in sortindex:\n",
    "        tofillc = x_reg[:,i]\n",
    "        df = np.concatenate((x_reg[:,np.arange(n_columns)!=i], y),axis=1)\n",
    "        df_mean = SimpleImputer(missing_values=np.nan, strategy='mean').fit_transform(df)\n",
    "\n",
    "        ytrain = tofillc[~np.isnan(tofillc)]\n",
    "        #ytest = tofillc[np.isnan(tofillc)]\n",
    "        xtrain = df_mean[~np.isnan(tofillc),:]\n",
    "        xtest = df_mean[np.isnan(tofillc),:]\n",
    "        \n",
    "        if continuous_var[i]: \n",
    "            rfr = RandomForestRegressor(n_estimators=100,n_jobs=-1)\n",
    "            rfr.fit(xtrain,ytrain)\n",
    "            ypredict = rfr.predict(xtest)\n",
    "            x_reg[np.isnan(tofillc),i] = ypredict\n",
    "        else:\n",
    "            rfr = RandomForestClassifier(n_estimators=100,n_jobs=-1)\n",
    "            rfr.fit(xtrain,ytrain)\n",
    "            ypredict = rfr.predict(xtest)\n",
    "            x_reg[np.isnan(tofillc),i] = ypredict\n",
    "    \n",
    "    if inplace:\n",
    "        return None\n",
    "    else:\n",
    "        return x_reg"
   ]
  },
  {
   "cell_type": "code",
   "execution_count": 119,
   "metadata": {},
   "outputs": [
    {
     "data": {
      "text/plain": [
       "array([    0,     0,     0,     0, 29221,     0,     0,     0,     0,\n",
       "           0])"
      ]
     },
     "execution_count": 119,
     "metadata": {},
     "output_type": "execute_result"
    }
   ],
   "source": [
    "x = data_train.iloc[:,1:].values\n",
    "y = data_train.iloc[:,0].values.reshape(-1,1)\n",
    "np.isnan(x).sum(axis=0)"
   ]
  },
  {
   "cell_type": "code",
   "execution_count": 120,
   "metadata": {},
   "outputs": [],
   "source": [
    "#fig, axes= plt.subplots(2,5,figsize=[20,12])\n",
    "#labels=data_train.columns[1:]\n",
    "#for i in range(x.shape[1]):\n",
    "#    ax = axes.ravel()[i] \n",
    "#    ax.boxplot(x[:,i])\n",
    "#    ax.set_title(labels[i])\n",
    "#plt.show()"
   ]
  },
  {
   "cell_type": "code",
   "execution_count": 121,
   "metadata": {},
   "outputs": [
    {
     "data": {
      "text/plain": [
       "array([1., 1., 1., 1., 1., 1., 1., 1., 1., 1.])"
      ]
     },
     "execution_count": 121,
     "metadata": {},
     "output_type": "execute_result"
    }
   ],
   "source": [
    "continuous_var = np.arange(x.shape[1]).astype(float)\n",
    "continuous_var[:] = True\n",
    "continuous_var"
   ]
  },
  {
   "cell_type": "code",
   "execution_count": 122,
   "metadata": {},
   "outputs": [],
   "source": [
    "fill_missing_rf(x, y, continuous_var, to_fills=None, inplace=True)"
   ]
  },
  {
   "cell_type": "code",
   "execution_count": 123,
   "metadata": {},
   "outputs": [],
   "source": [
    "data_train = pd.DataFrame(np.concatenate((y,x),axis=1),columns=data_train.columns)"
   ]
  },
  {
   "cell_type": "code",
   "execution_count": 124,
   "metadata": {},
   "outputs": [
    {
     "data": {
      "text/plain": [
       "array([0, 0, 0, 0, 0, 0, 0, 0, 0, 0])"
      ]
     },
     "execution_count": 124,
     "metadata": {},
     "output_type": "execute_result"
    }
   ],
   "source": [
    "np.isnan(x).sum(axis=0)"
   ]
  },
  {
   "cell_type": "code",
   "execution_count": 125,
   "metadata": {},
   "outputs": [
    {
     "data": {
      "image/png": "[encoded data removed]",
      "text/plain": [
       "<Figure size 1440x864 with 10 Axes>"
      ]
     },
     "metadata": {
      "needs_background": "light"
     },
     "output_type": "display_data"
    }
   ],
   "source": [
    "# anomalous data\n",
    "fig, axes= plt.subplots(2,5,figsize=[20,12])\n",
    "labels=data_train.columns[1:]\n",
    "for i in range(x.shape[1]):\n",
    "    ax = axes.ravel()[i] \n",
    "    ax.boxplot(x[:,i])\n",
    "    ax.set_title(labels[i])\n",
    "plt.show()"
   ]
  },
  {
   "cell_type": "code",
   "execution_count": 126,
   "metadata": {},
   "outputs": [
    {
     "data": {
      "text/plain": [
       "3321"
      ]
     },
     "execution_count": 126,
     "metadata": {},
     "output_type": "execute_result"
    }
   ],
   "source": [
    "np.sum(x[:,0]>1)"
   ]
  },
  {
   "cell_type": "code",
   "execution_count": 127,
   "metadata": {},
   "outputs": [],
   "source": [
    "# delete the data out of the 3-sigma range\n",
    "def delete_outliers(x_original):\n",
    "    '''\n",
    "    input: \n",
    "    x_original: (np.ndarray)\n",
    "    \n",
    "    output:\n",
    "    x:(np.ndarray)\n",
    "    '''\n",
    "    x = x_original.copy()\n",
    "    n_col =x.shape[1]\n",
    "    for i in np.arange(n_col):\n",
    "        #print(i)\n",
    "        xi = x[:,i]\n",
    "        mean = xi.mean()\n",
    "        #print(\"mean:{}\".format(mean))\n",
    "        std = xi.std()\n",
    "        #print(\"std:{}\".format(std))\n",
    "        ind_bool = (xi > mean + 3*std) | (xi < mean - 3*std)\n",
    "        #print(ind_bool.shape)\n",
    "        ind = np.arange(xi.shape[0])[ind_bool]\n",
    "        x = np.delete(x,ind,axis=0)\n",
    "        #print(x.shape)\n",
    "    return x"
   ]
  },
  {
   "cell_type": "code",
   "execution_count": 128,
   "metadata": {},
   "outputs": [],
   "source": [
    "x_trim = delete_outliers(x)"
   ]
  },
  {
   "cell_type": "code",
   "execution_count": 129,
   "metadata": {},
   "outputs": [
    {
     "data": {
      "image/png": "[encoded data removed]",
      "text/plain": [
       "<Figure size 1440x864 with 10 Axes>"
      ]
     },
     "metadata": {
      "needs_background": "light"
     },
     "output_type": "display_data"
    }
   ],
   "source": [
    "fig, axes= plt.subplots(2,5,figsize=[20,12])\n",
    "labels=data_train.columns[1:]\n",
    "for i in range(x_trim.shape[1]):\n",
    "    ax = axes.ravel()[i] \n",
    "    ax.boxplot(x_trim[:,i])\n",
    "    ax.set_title(labels[i])\n",
    "plt.show()"
   ]
  },
  {
   "cell_type": "code",
   "execution_count": 130,
   "metadata": {},
   "outputs": [
    {
     "data": {
      "text/html": [
       "<div>\n",
       "<style scoped>\n",
       "    .dataframe tbody tr th:only-of-type {\n",
       "        vertical-align: middle;\n",
       "    }\n",
       "\n",
       "    .dataframe tbody tr th {\n",
       "        vertical-align: top;\n",
       "    }\n",
       "\n",
       "    .dataframe thead th {\n",
       "        text-align: right;\n",
       "    }\n",
       "</style>\n",
       "<table border=\"1\" class=\"dataframe\">\n",
       "  <thead>\n",
       "    <tr style=\"text-align: right;\">\n",
       "      <th></th>\n",
       "      <th>count</th>\n",
       "      <th>mean</th>\n",
       "      <th>std</th>\n",
       "      <th>min</th>\n",
       "      <th>1%</th>\n",
       "      <th>10%</th>\n",
       "      <th>25%</th>\n",
       "      <th>50%</th>\n",
       "      <th>75%</th>\n",
       "      <th>99%</th>\n",
       "      <th>max</th>\n",
       "    </tr>\n",
       "  </thead>\n",
       "  <tbody>\n",
       "    <tr>\n",
       "      <td>SeriousDlqin2yrs</td>\n",
       "      <td>149391.0</td>\n",
       "      <td>0.066999</td>\n",
       "      <td>0.250021</td>\n",
       "      <td>0.0</td>\n",
       "      <td>0.0</td>\n",
       "      <td>0.000000</td>\n",
       "      <td>0.000000</td>\n",
       "      <td>0.000000</td>\n",
       "      <td>0.000000</td>\n",
       "      <td>1.000000</td>\n",
       "      <td>1.0</td>\n",
       "    </tr>\n",
       "    <tr>\n",
       "      <td>RevolvingUtilizationOfUnsecuredLines</td>\n",
       "      <td>149391.0</td>\n",
       "      <td>6.071087</td>\n",
       "      <td>250.263672</td>\n",
       "      <td>0.0</td>\n",
       "      <td>0.0</td>\n",
       "      <td>0.003199</td>\n",
       "      <td>0.030132</td>\n",
       "      <td>0.154235</td>\n",
       "      <td>0.556494</td>\n",
       "      <td>1.093922</td>\n",
       "      <td>50708.0</td>\n",
       "    </tr>\n",
       "    <tr>\n",
       "      <td>age</td>\n",
       "      <td>149391.0</td>\n",
       "      <td>52.306237</td>\n",
       "      <td>14.725962</td>\n",
       "      <td>0.0</td>\n",
       "      <td>24.0</td>\n",
       "      <td>33.000000</td>\n",
       "      <td>41.000000</td>\n",
       "      <td>52.000000</td>\n",
       "      <td>63.000000</td>\n",
       "      <td>87.000000</td>\n",
       "      <td>109.0</td>\n",
       "    </tr>\n",
       "    <tr>\n",
       "      <td>NumberOfTime30-59DaysPastDueNotWorse</td>\n",
       "      <td>149391.0</td>\n",
       "      <td>0.393886</td>\n",
       "      <td>3.852953</td>\n",
       "      <td>0.0</td>\n",
       "      <td>0.0</td>\n",
       "      <td>0.000000</td>\n",
       "      <td>0.000000</td>\n",
       "      <td>0.000000</td>\n",
       "      <td>0.000000</td>\n",
       "      <td>4.000000</td>\n",
       "      <td>98.0</td>\n",
       "    </tr>\n",
       "    <tr>\n",
       "      <td>DebtRatio</td>\n",
       "      <td>149391.0</td>\n",
       "      <td>354.436740</td>\n",
       "      <td>2041.843455</td>\n",
       "      <td>0.0</td>\n",
       "      <td>0.0</td>\n",
       "      <td>0.034991</td>\n",
       "      <td>0.177441</td>\n",
       "      <td>0.368234</td>\n",
       "      <td>0.875279</td>\n",
       "      <td>4985.100000</td>\n",
       "      <td>329664.0</td>\n",
       "    </tr>\n",
       "    <tr>\n",
       "      <td>MonthlyIncome</td>\n",
       "      <td>149391.0</td>\n",
       "      <td>5425.805615</td>\n",
       "      <td>13241.188115</td>\n",
       "      <td>0.0</td>\n",
       "      <td>0.0</td>\n",
       "      <td>0.180000</td>\n",
       "      <td>1800.000000</td>\n",
       "      <td>4417.000000</td>\n",
       "      <td>7416.000000</td>\n",
       "      <td>23250.000000</td>\n",
       "      <td>3008750.0</td>\n",
       "    </tr>\n",
       "    <tr>\n",
       "      <td>NumberOfOpenCreditLinesAndLoans</td>\n",
       "      <td>149391.0</td>\n",
       "      <td>8.480892</td>\n",
       "      <td>5.136515</td>\n",
       "      <td>0.0</td>\n",
       "      <td>0.0</td>\n",
       "      <td>3.000000</td>\n",
       "      <td>5.000000</td>\n",
       "      <td>8.000000</td>\n",
       "      <td>11.000000</td>\n",
       "      <td>24.000000</td>\n",
       "      <td>58.0</td>\n",
       "    </tr>\n",
       "    <tr>\n",
       "      <td>NumberOfTimes90DaysLate</td>\n",
       "      <td>149391.0</td>\n",
       "      <td>0.238120</td>\n",
       "      <td>3.826165</td>\n",
       "      <td>0.0</td>\n",
       "      <td>0.0</td>\n",
       "      <td>0.000000</td>\n",
       "      <td>0.000000</td>\n",
       "      <td>0.000000</td>\n",
       "      <td>0.000000</td>\n",
       "      <td>3.000000</td>\n",
       "      <td>98.0</td>\n",
       "    </tr>\n",
       "    <tr>\n",
       "      <td>NumberRealEstateLoansOrLines</td>\n",
       "      <td>149391.0</td>\n",
       "      <td>1.022391</td>\n",
       "      <td>1.130196</td>\n",
       "      <td>0.0</td>\n",
       "      <td>0.0</td>\n",
       "      <td>0.000000</td>\n",
       "      <td>0.000000</td>\n",
       "      <td>1.000000</td>\n",
       "      <td>2.000000</td>\n",
       "      <td>4.000000</td>\n",
       "      <td>54.0</td>\n",
       "    </tr>\n",
       "    <tr>\n",
       "      <td>NumberOfTime60-89DaysPastDueNotWorse</td>\n",
       "      <td>149391.0</td>\n",
       "      <td>0.212503</td>\n",
       "      <td>3.810523</td>\n",
       "      <td>0.0</td>\n",
       "      <td>0.0</td>\n",
       "      <td>0.000000</td>\n",
       "      <td>0.000000</td>\n",
       "      <td>0.000000</td>\n",
       "      <td>0.000000</td>\n",
       "      <td>2.000000</td>\n",
       "      <td>98.0</td>\n",
       "    </tr>\n",
       "    <tr>\n",
       "      <td>NumberOfDependents</td>\n",
       "      <td>149391.0</td>\n",
       "      <td>0.740393</td>\n",
       "      <td>1.108272</td>\n",
       "      <td>0.0</td>\n",
       "      <td>0.0</td>\n",
       "      <td>0.000000</td>\n",
       "      <td>0.000000</td>\n",
       "      <td>0.000000</td>\n",
       "      <td>1.000000</td>\n",
       "      <td>4.000000</td>\n",
       "      <td>20.0</td>\n",
       "    </tr>\n",
       "  </tbody>\n",
       "</table>\n",
       "</div>"
      ],
      "text/plain": [
       "                                         count         mean           std  \\\n",
       "SeriousDlqin2yrs                      149391.0     0.066999      0.250021   \n",
       "RevolvingUtilizationOfUnsecuredLines  149391.0     6.071087    250.263672   \n",
       "age                                   149391.0    52.306237     14.725962   \n",
       "NumberOfTime30-59DaysPastDueNotWorse  149391.0     0.393886      3.852953   \n",
       "DebtRatio                             149391.0   354.436740   2041.843455   \n",
       "MonthlyIncome                         149391.0  5425.805615  13241.188115   \n",
       "NumberOfOpenCreditLinesAndLoans       149391.0     8.480892      5.136515   \n",
       "NumberOfTimes90DaysLate               149391.0     0.238120      3.826165   \n",
       "NumberRealEstateLoansOrLines          149391.0     1.022391      1.130196   \n",
       "NumberOfTime60-89DaysPastDueNotWorse  149391.0     0.212503      3.810523   \n",
       "NumberOfDependents                    149391.0     0.740393      1.108272   \n",
       "\n",
       "                                      min    1%        10%          25%  \\\n",
       "SeriousDlqin2yrs                      0.0   0.0   0.000000     0.000000   \n",
       "RevolvingUtilizationOfUnsecuredLines  0.0   0.0   0.003199     0.030132   \n",
       "age                                   0.0  24.0  33.000000    41.000000   \n",
       "NumberOfTime30-59DaysPastDueNotWorse  0.0   0.0   0.000000     0.000000   \n",
       "DebtRatio                             0.0   0.0   0.034991     0.177441   \n",
       "MonthlyIncome                         0.0   0.0   0.180000  1800.000000   \n",
       "NumberOfOpenCreditLinesAndLoans       0.0   0.0   3.000000     5.000000   \n",
       "NumberOfTimes90DaysLate               0.0   0.0   0.000000     0.000000   \n",
       "NumberRealEstateLoansOrLines          0.0   0.0   0.000000     0.000000   \n",
       "NumberOfTime60-89DaysPastDueNotWorse  0.0   0.0   0.000000     0.000000   \n",
       "NumberOfDependents                    0.0   0.0   0.000000     0.000000   \n",
       "\n",
       "                                              50%          75%           99%  \\\n",
       "SeriousDlqin2yrs                         0.000000     0.000000      1.000000   \n",
       "RevolvingUtilizationOfUnsecuredLines     0.154235     0.556494      1.093922   \n",
       "age                                     52.000000    63.000000     87.000000   \n",
       "NumberOfTime30-59DaysPastDueNotWorse     0.000000     0.000000      4.000000   \n",
       "DebtRatio                                0.368234     0.875279   4985.100000   \n",
       "MonthlyIncome                         4417.000000  7416.000000  23250.000000   \n",
       "NumberOfOpenCreditLinesAndLoans          8.000000    11.000000     24.000000   \n",
       "NumberOfTimes90DaysLate                  0.000000     0.000000      3.000000   \n",
       "NumberRealEstateLoansOrLines             1.000000     2.000000      4.000000   \n",
       "NumberOfTime60-89DaysPastDueNotWorse     0.000000     0.000000      2.000000   \n",
       "NumberOfDependents                       0.000000     1.000000      4.000000   \n",
       "\n",
       "                                            max  \n",
       "SeriousDlqin2yrs                            1.0  \n",
       "RevolvingUtilizationOfUnsecuredLines    50708.0  \n",
       "age                                       109.0  \n",
       "NumberOfTime30-59DaysPastDueNotWorse       98.0  \n",
       "DebtRatio                              329664.0  \n",
       "MonthlyIncome                         3008750.0  \n",
       "NumberOfOpenCreditLinesAndLoans            58.0  \n",
       "NumberOfTimes90DaysLate                    98.0  \n",
       "NumberRealEstateLoansOrLines               54.0  \n",
       "NumberOfTime60-89DaysPastDueNotWorse       98.0  \n",
       "NumberOfDependents                         20.0  "
      ]
     },
     "execution_count": 130,
     "metadata": {},
     "output_type": "execute_result"
    }
   ],
   "source": [
    "data_train.describe([0.01,0.1,0.25,0.5,0.75,0.99]).T"
   ]
  },
  {
   "cell_type": "code",
   "execution_count": 131,
   "metadata": {},
   "outputs": [
    {
     "data": {
      "text/plain": [
       "1"
      ]
     },
     "execution_count": 131,
     "metadata": {},
     "output_type": "execute_result"
    }
   ],
   "source": [
    "# to delete anomalous data, e.g. age==0\n",
    "(data_train.loc[:,'age']==0).sum()"
   ]
  },
  {
   "cell_type": "code",
   "execution_count": 132,
   "metadata": {},
   "outputs": [],
   "source": [
    "data_train = data_train.loc[data_train.loc[:,'age']!=0,:]"
   ]
  },
  {
   "cell_type": "code",
   "execution_count": 133,
   "metadata": {},
   "outputs": [
    {
     "data": {
      "text/plain": [
       "(149390, 11)"
      ]
     },
     "execution_count": 133,
     "metadata": {},
     "output_type": "execute_result"
    }
   ],
   "source": [
    "data_train.shape"
   ]
  },
  {
   "cell_type": "code",
   "execution_count": 134,
   "metadata": {},
   "outputs": [
    {
     "data": {
      "text/plain": [
       "SeriousDlqin2yrs                        225\n",
       "RevolvingUtilizationOfUnsecuredLines    225\n",
       "age                                     225\n",
       "NumberOfTime30-59DaysPastDueNotWorse    225\n",
       "DebtRatio                               225\n",
       "MonthlyIncome                           225\n",
       "NumberOfOpenCreditLinesAndLoans         225\n",
       "NumberOfTimes90DaysLate                 225\n",
       "NumberRealEstateLoansOrLines            225\n",
       "NumberOfTime60-89DaysPastDueNotWorse    225\n",
       "NumberOfDependents                      225\n",
       "dtype: int64"
      ]
     },
     "execution_count": 134,
     "metadata": {},
     "output_type": "execute_result"
    }
   ],
   "source": [
    "data_train.loc[data_train.loc[:,\"NumberOfTimes90DaysLate\"]>90,:].count()"
   ]
  },
  {
   "cell_type": "code",
   "execution_count": 135,
   "metadata": {
    "scrolled": true
   },
   "outputs": [
    {
     "data": {
      "text/plain": [
       "0.0     141107\n",
       "1.0       5232\n",
       "2.0       1555\n",
       "3.0        667\n",
       "4.0        291\n",
       "98.0       220\n",
       "5.0        131\n",
       "6.0         80\n",
       "7.0         38\n",
       "8.0         21\n",
       "9.0         19\n",
       "10.0         8\n",
       "96.0         5\n",
       "11.0         5\n",
       "13.0         4\n",
       "14.0         2\n",
       "12.0         2\n",
       "15.0         2\n",
       "17.0         1\n",
       "Name: NumberOfTimes90DaysLate, dtype: int64"
      ]
     },
     "execution_count": 135,
     "metadata": {},
     "output_type": "execute_result"
    }
   ],
   "source": [
    "data_train.loc[:,\"NumberOfTimes90DaysLate\"].value_counts()"
   ]
  },
  {
   "cell_type": "code",
   "execution_count": 136,
   "metadata": {},
   "outputs": [],
   "source": [
    "data_train  = data_train.loc[data_train.loc[:,'NumberOfTimes90DaysLate']<90,:]"
   ]
  },
  {
   "cell_type": "code",
   "execution_count": 137,
   "metadata": {},
   "outputs": [],
   "source": [
    "data_train.index = range(data_train.shape[0])"
   ]
  },
  {
   "cell_type": "code",
   "execution_count": 138,
   "metadata": {},
   "outputs": [
    {
     "name": "stdout",
     "output_type": "stream",
     "text": [
      "<class 'pandas.core.frame.DataFrame'>\n",
      "RangeIndex: 149165 entries, 0 to 149164\n",
      "Data columns (total 11 columns):\n",
      "SeriousDlqin2yrs                        149165 non-null float64\n",
      "RevolvingUtilizationOfUnsecuredLines    149165 non-null float64\n",
      "age                                     149165 non-null float64\n",
      "NumberOfTime30-59DaysPastDueNotWorse    149165 non-null float64\n",
      "DebtRatio                               149165 non-null float64\n",
      "MonthlyIncome                           149165 non-null float64\n",
      "NumberOfOpenCreditLinesAndLoans         149165 non-null float64\n",
      "NumberOfTimes90DaysLate                 149165 non-null float64\n",
      "NumberRealEstateLoansOrLines            149165 non-null float64\n",
      "NumberOfTime60-89DaysPastDueNotWorse    149165 non-null float64\n",
      "NumberOfDependents                      149165 non-null float64\n",
      "dtypes: float64(11)\n",
      "memory usage: 12.5 MB\n"
     ]
    }
   ],
   "source": [
    "data_train.info()"
   ]
  },
  {
   "cell_type": "code",
   "execution_count": 139,
   "metadata": {},
   "outputs": [
    {
     "data": {
      "text/html": [
       "<div>\n",
       "<style scoped>\n",
       "    .dataframe tbody tr th:only-of-type {\n",
       "        vertical-align: middle;\n",
       "    }\n",
       "\n",
       "    .dataframe tbody tr th {\n",
       "        vertical-align: top;\n",
       "    }\n",
       "\n",
       "    .dataframe thead th {\n",
       "        text-align: right;\n",
       "    }\n",
       "</style>\n",
       "<table border=\"1\" class=\"dataframe\">\n",
       "  <thead>\n",
       "    <tr style=\"text-align: right;\">\n",
       "      <th></th>\n",
       "      <th>count</th>\n",
       "      <th>mean</th>\n",
       "      <th>std</th>\n",
       "      <th>min</th>\n",
       "      <th>1%</th>\n",
       "      <th>10%</th>\n",
       "      <th>25%</th>\n",
       "      <th>50%</th>\n",
       "      <th>75%</th>\n",
       "      <th>99%</th>\n",
       "      <th>max</th>\n",
       "    </tr>\n",
       "  </thead>\n",
       "  <tbody>\n",
       "    <tr>\n",
       "      <td>SeriousDlqin2yrs</td>\n",
       "      <td>149165.0</td>\n",
       "      <td>0.066188</td>\n",
       "      <td>0.248612</td>\n",
       "      <td>0.0</td>\n",
       "      <td>0.0</td>\n",
       "      <td>0.000000</td>\n",
       "      <td>0.000000</td>\n",
       "      <td>0.000000</td>\n",
       "      <td>0.000000</td>\n",
       "      <td>1.000000</td>\n",
       "      <td>1.0</td>\n",
       "    </tr>\n",
       "    <tr>\n",
       "      <td>RevolvingUtilizationOfUnsecuredLines</td>\n",
       "      <td>149165.0</td>\n",
       "      <td>6.078770</td>\n",
       "      <td>250.453111</td>\n",
       "      <td>0.0</td>\n",
       "      <td>0.0</td>\n",
       "      <td>0.003174</td>\n",
       "      <td>0.030033</td>\n",
       "      <td>0.153615</td>\n",
       "      <td>0.553698</td>\n",
       "      <td>1.094061</td>\n",
       "      <td>50708.0</td>\n",
       "    </tr>\n",
       "    <tr>\n",
       "      <td>age</td>\n",
       "      <td>149165.0</td>\n",
       "      <td>52.331076</td>\n",
       "      <td>14.714114</td>\n",
       "      <td>21.0</td>\n",
       "      <td>24.0</td>\n",
       "      <td>33.000000</td>\n",
       "      <td>41.000000</td>\n",
       "      <td>52.000000</td>\n",
       "      <td>63.000000</td>\n",
       "      <td>87.000000</td>\n",
       "      <td>109.0</td>\n",
       "    </tr>\n",
       "    <tr>\n",
       "      <td>NumberOfTime30-59DaysPastDueNotWorse</td>\n",
       "      <td>149165.0</td>\n",
       "      <td>0.246720</td>\n",
       "      <td>0.698935</td>\n",
       "      <td>0.0</td>\n",
       "      <td>0.0</td>\n",
       "      <td>0.000000</td>\n",
       "      <td>0.000000</td>\n",
       "      <td>0.000000</td>\n",
       "      <td>0.000000</td>\n",
       "      <td>3.000000</td>\n",
       "      <td>13.0</td>\n",
       "    </tr>\n",
       "    <tr>\n",
       "      <td>DebtRatio</td>\n",
       "      <td>149165.0</td>\n",
       "      <td>354.963542</td>\n",
       "      <td>2043.344496</td>\n",
       "      <td>0.0</td>\n",
       "      <td>0.0</td>\n",
       "      <td>0.036385</td>\n",
       "      <td>0.178211</td>\n",
       "      <td>0.368619</td>\n",
       "      <td>0.876994</td>\n",
       "      <td>4989.360000</td>\n",
       "      <td>329664.0</td>\n",
       "    </tr>\n",
       "    <tr>\n",
       "      <td>MonthlyIncome</td>\n",
       "      <td>149165.0</td>\n",
       "      <td>5430.010892</td>\n",
       "      <td>13250.334247</td>\n",
       "      <td>0.0</td>\n",
       "      <td>0.0</td>\n",
       "      <td>0.170000</td>\n",
       "      <td>1800.000000</td>\n",
       "      <td>4431.000000</td>\n",
       "      <td>7417.000000</td>\n",
       "      <td>23250.000000</td>\n",
       "      <td>3008750.0</td>\n",
       "    </tr>\n",
       "    <tr>\n",
       "      <td>NumberOfOpenCreditLinesAndLoans</td>\n",
       "      <td>149165.0</td>\n",
       "      <td>8.493688</td>\n",
       "      <td>5.129841</td>\n",
       "      <td>0.0</td>\n",
       "      <td>1.0</td>\n",
       "      <td>3.000000</td>\n",
       "      <td>5.000000</td>\n",
       "      <td>8.000000</td>\n",
       "      <td>11.000000</td>\n",
       "      <td>24.000000</td>\n",
       "      <td>58.0</td>\n",
       "    </tr>\n",
       "    <tr>\n",
       "      <td>NumberOfTimes90DaysLate</td>\n",
       "      <td>149165.0</td>\n",
       "      <td>0.090725</td>\n",
       "      <td>0.486354</td>\n",
       "      <td>0.0</td>\n",
       "      <td>0.0</td>\n",
       "      <td>0.000000</td>\n",
       "      <td>0.000000</td>\n",
       "      <td>0.000000</td>\n",
       "      <td>0.000000</td>\n",
       "      <td>2.000000</td>\n",
       "      <td>17.0</td>\n",
       "    </tr>\n",
       "    <tr>\n",
       "      <td>NumberRealEstateLoansOrLines</td>\n",
       "      <td>149165.0</td>\n",
       "      <td>1.023927</td>\n",
       "      <td>1.130350</td>\n",
       "      <td>0.0</td>\n",
       "      <td>0.0</td>\n",
       "      <td>0.000000</td>\n",
       "      <td>0.000000</td>\n",
       "      <td>1.000000</td>\n",
       "      <td>2.000000</td>\n",
       "      <td>4.000000</td>\n",
       "      <td>54.0</td>\n",
       "    </tr>\n",
       "    <tr>\n",
       "      <td>NumberOfTime60-89DaysPastDueNotWorse</td>\n",
       "      <td>149165.0</td>\n",
       "      <td>0.065069</td>\n",
       "      <td>0.330675</td>\n",
       "      <td>0.0</td>\n",
       "      <td>0.0</td>\n",
       "      <td>0.000000</td>\n",
       "      <td>0.000000</td>\n",
       "      <td>0.000000</td>\n",
       "      <td>0.000000</td>\n",
       "      <td>2.000000</td>\n",
       "      <td>11.0</td>\n",
       "    </tr>\n",
       "    <tr>\n",
       "      <td>NumberOfDependents</td>\n",
       "      <td>149165.0</td>\n",
       "      <td>0.740911</td>\n",
       "      <td>1.108534</td>\n",
       "      <td>0.0</td>\n",
       "      <td>0.0</td>\n",
       "      <td>0.000000</td>\n",
       "      <td>0.000000</td>\n",
       "      <td>0.000000</td>\n",
       "      <td>1.000000</td>\n",
       "      <td>4.000000</td>\n",
       "      <td>20.0</td>\n",
       "    </tr>\n",
       "  </tbody>\n",
       "</table>\n",
       "</div>"
      ],
      "text/plain": [
       "                                         count         mean           std  \\\n",
       "SeriousDlqin2yrs                      149165.0     0.066188      0.248612   \n",
       "RevolvingUtilizationOfUnsecuredLines  149165.0     6.078770    250.453111   \n",
       "age                                   149165.0    52.331076     14.714114   \n",
       "NumberOfTime30-59DaysPastDueNotWorse  149165.0     0.246720      0.698935   \n",
       "DebtRatio                             149165.0   354.963542   2043.344496   \n",
       "MonthlyIncome                         149165.0  5430.010892  13250.334247   \n",
       "NumberOfOpenCreditLinesAndLoans       149165.0     8.493688      5.129841   \n",
       "NumberOfTimes90DaysLate               149165.0     0.090725      0.486354   \n",
       "NumberRealEstateLoansOrLines          149165.0     1.023927      1.130350   \n",
       "NumberOfTime60-89DaysPastDueNotWorse  149165.0     0.065069      0.330675   \n",
       "NumberOfDependents                    149165.0     0.740911      1.108534   \n",
       "\n",
       "                                       min    1%        10%          25%  \\\n",
       "SeriousDlqin2yrs                       0.0   0.0   0.000000     0.000000   \n",
       "RevolvingUtilizationOfUnsecuredLines   0.0   0.0   0.003174     0.030033   \n",
       "age                                   21.0  24.0  33.000000    41.000000   \n",
       "NumberOfTime30-59DaysPastDueNotWorse   0.0   0.0   0.000000     0.000000   \n",
       "DebtRatio                              0.0   0.0   0.036385     0.178211   \n",
       "MonthlyIncome                          0.0   0.0   0.170000  1800.000000   \n",
       "NumberOfOpenCreditLinesAndLoans        0.0   1.0   3.000000     5.000000   \n",
       "NumberOfTimes90DaysLate                0.0   0.0   0.000000     0.000000   \n",
       "NumberRealEstateLoansOrLines           0.0   0.0   0.000000     0.000000   \n",
       "NumberOfTime60-89DaysPastDueNotWorse   0.0   0.0   0.000000     0.000000   \n",
       "NumberOfDependents                     0.0   0.0   0.000000     0.000000   \n",
       "\n",
       "                                              50%          75%           99%  \\\n",
       "SeriousDlqin2yrs                         0.000000     0.000000      1.000000   \n",
       "RevolvingUtilizationOfUnsecuredLines     0.153615     0.553698      1.094061   \n",
       "age                                     52.000000    63.000000     87.000000   \n",
       "NumberOfTime30-59DaysPastDueNotWorse     0.000000     0.000000      3.000000   \n",
       "DebtRatio                                0.368619     0.876994   4989.360000   \n",
       "MonthlyIncome                         4431.000000  7417.000000  23250.000000   \n",
       "NumberOfOpenCreditLinesAndLoans          8.000000    11.000000     24.000000   \n",
       "NumberOfTimes90DaysLate                  0.000000     0.000000      2.000000   \n",
       "NumberRealEstateLoansOrLines             1.000000     2.000000      4.000000   \n",
       "NumberOfTime60-89DaysPastDueNotWorse     0.000000     0.000000      2.000000   \n",
       "NumberOfDependents                       0.000000     1.000000      4.000000   \n",
       "\n",
       "                                            max  \n",
       "SeriousDlqin2yrs                            1.0  \n",
       "RevolvingUtilizationOfUnsecuredLines    50708.0  \n",
       "age                                       109.0  \n",
       "NumberOfTime30-59DaysPastDueNotWorse       13.0  \n",
       "DebtRatio                              329664.0  \n",
       "MonthlyIncome                         3008750.0  \n",
       "NumberOfOpenCreditLinesAndLoans            58.0  \n",
       "NumberOfTimes90DaysLate                    17.0  \n",
       "NumberRealEstateLoansOrLines               54.0  \n",
       "NumberOfTime60-89DaysPastDueNotWorse       11.0  \n",
       "NumberOfDependents                         20.0  "
      ]
     },
     "execution_count": 139,
     "metadata": {},
     "output_type": "execute_result"
    }
   ],
   "source": [
    "data_train.describe([0.01,0.1,0.25,0.5,0.75,0.99]).T"
   ]
  },
  {
   "cell_type": "code",
   "execution_count": 140,
   "metadata": {},
   "outputs": [
    {
     "data": {
      "text/plain": [
       "0.0    0.933812\n",
       "1.0    0.066188\n",
       "Name: SeriousDlqin2yrs, dtype: float64"
      ]
     },
     "execution_count": 140,
     "metadata": {},
     "output_type": "execute_result"
    }
   ],
   "source": [
    "#to explore the skewness\n",
    "#over sampling\n",
    "y = data_train.iloc[:,0]\n",
    "y.value_counts()/(y.value_counts().sum())"
   ]
  },
  {
   "cell_type": "code",
   "execution_count": 141,
   "metadata": {},
   "outputs": [],
   "source": [
    "from imblearn.over_sampling import SMOTE"
   ]
  },
  {
   "cell_type": "code",
   "execution_count": 142,
   "metadata": {},
   "outputs": [],
   "source": [
    "sm = SMOTE(random_state=42)\n",
    "x =  data_train.iloc[:,1:]\n",
    "x, y = sm.fit_sample(x,y)"
   ]
  },
  {
   "cell_type": "code",
   "execution_count": 143,
   "metadata": {},
   "outputs": [
    {
     "data": {
      "text/plain": [
       "(278584,)"
      ]
     },
     "execution_count": 143,
     "metadata": {},
     "output_type": "execute_result"
    }
   ],
   "source": [
    "y.shape"
   ]
  },
  {
   "cell_type": "code",
   "execution_count": 144,
   "metadata": {},
   "outputs": [
    {
     "data": {
      "text/plain": [
       "0.0    0.5\n",
       "1.0    0.5\n",
       "Name: SeriousDlqin2yrs, dtype: float64"
      ]
     },
     "execution_count": 144,
     "metadata": {},
     "output_type": "execute_result"
    }
   ],
   "source": [
    "y.value_counts()/(y.value_counts().sum())"
   ]
  },
  {
   "cell_type": "code",
   "execution_count": 145,
   "metadata": {},
   "outputs": [],
   "source": [
    "from sklearn.model_selection import train_test_split"
   ]
  },
  {
   "cell_type": "code",
   "execution_count": 146,
   "metadata": {},
   "outputs": [],
   "source": [
    "x_train, x_vali, y_train, y_vali = train_test_split(x,y,test_size=0.3)"
   ]
  },
  {
   "cell_type": "code",
   "execution_count": 147,
   "metadata": {},
   "outputs": [],
   "source": [
    "model_data = pd.concat([y_train,x_train],axis=1)\n",
    "model_data.index = range(x_train.shape[0])\n",
    "model_data.columns = data_train.columns"
   ]
  },
  {
   "cell_type": "code",
   "execution_count": 148,
   "metadata": {},
   "outputs": [
    {
     "data": {
      "text/html": [
       "<div>\n",
       "<style scoped>\n",
       "    .dataframe tbody tr th:only-of-type {\n",
       "        vertical-align: middle;\n",
       "    }\n",
       "\n",
       "    .dataframe tbody tr th {\n",
       "        vertical-align: top;\n",
       "    }\n",
       "\n",
       "    .dataframe thead th {\n",
       "        text-align: right;\n",
       "    }\n",
       "</style>\n",
       "<table border=\"1\" class=\"dataframe\">\n",
       "  <thead>\n",
       "    <tr style=\"text-align: right;\">\n",
       "      <th></th>\n",
       "      <th>SeriousDlqin2yrs</th>\n",
       "      <th>RevolvingUtilizationOfUnsecuredLines</th>\n",
       "      <th>age</th>\n",
       "      <th>NumberOfTime30-59DaysPastDueNotWorse</th>\n",
       "      <th>DebtRatio</th>\n",
       "      <th>MonthlyIncome</th>\n",
       "      <th>NumberOfOpenCreditLinesAndLoans</th>\n",
       "      <th>NumberOfTimes90DaysLate</th>\n",
       "      <th>NumberRealEstateLoansOrLines</th>\n",
       "      <th>NumberOfTime60-89DaysPastDueNotWorse</th>\n",
       "      <th>NumberOfDependents</th>\n",
       "    </tr>\n",
       "  </thead>\n",
       "  <tbody>\n",
       "    <tr>\n",
       "      <td>0</td>\n",
       "      <td>0.0</td>\n",
       "      <td>0.095781</td>\n",
       "      <td>47.000000</td>\n",
       "      <td>0.000000</td>\n",
       "      <td>0.089182</td>\n",
       "      <td>5000.000000</td>\n",
       "      <td>4.000000</td>\n",
       "      <td>0.000000</td>\n",
       "      <td>0.000000</td>\n",
       "      <td>0.000000</td>\n",
       "      <td>0.000000</td>\n",
       "    </tr>\n",
       "    <tr>\n",
       "      <td>1</td>\n",
       "      <td>1.0</td>\n",
       "      <td>0.718218</td>\n",
       "      <td>54.181856</td>\n",
       "      <td>0.590928</td>\n",
       "      <td>0.061286</td>\n",
       "      <td>4400.000000</td>\n",
       "      <td>2.000000</td>\n",
       "      <td>0.590928</td>\n",
       "      <td>0.000000</td>\n",
       "      <td>0.000000</td>\n",
       "      <td>0.590928</td>\n",
       "    </tr>\n",
       "    <tr>\n",
       "      <td>2</td>\n",
       "      <td>0.0</td>\n",
       "      <td>0.003281</td>\n",
       "      <td>58.000000</td>\n",
       "      <td>0.000000</td>\n",
       "      <td>409.000000</td>\n",
       "      <td>0.110000</td>\n",
       "      <td>8.000000</td>\n",
       "      <td>0.000000</td>\n",
       "      <td>0.000000</td>\n",
       "      <td>0.000000</td>\n",
       "      <td>0.000000</td>\n",
       "    </tr>\n",
       "    <tr>\n",
       "      <td>3</td>\n",
       "      <td>1.0</td>\n",
       "      <td>0.475698</td>\n",
       "      <td>59.914164</td>\n",
       "      <td>2.628590</td>\n",
       "      <td>0.126074</td>\n",
       "      <td>14473.056952</td>\n",
       "      <td>6.714262</td>\n",
       "      <td>0.657148</td>\n",
       "      <td>0.342852</td>\n",
       "      <td>1.314295</td>\n",
       "      <td>0.000000</td>\n",
       "    </tr>\n",
       "    <tr>\n",
       "      <td>4</td>\n",
       "      <td>1.0</td>\n",
       "      <td>0.904816</td>\n",
       "      <td>46.830251</td>\n",
       "      <td>0.830251</td>\n",
       "      <td>0.467891</td>\n",
       "      <td>11084.169749</td>\n",
       "      <td>14.490753</td>\n",
       "      <td>0.000000</td>\n",
       "      <td>2.000000</td>\n",
       "      <td>0.000000</td>\n",
       "      <td>2.169749</td>\n",
       "    </tr>\n",
       "  </tbody>\n",
       "</table>\n",
       "</div>"
      ],
      "text/plain": [
       "   SeriousDlqin2yrs  RevolvingUtilizationOfUnsecuredLines        age  \\\n",
       "0               0.0                              0.095781  47.000000   \n",
       "1               1.0                              0.718218  54.181856   \n",
       "2               0.0                              0.003281  58.000000   \n",
       "3               1.0                              0.475698  59.914164   \n",
       "4               1.0                              0.904816  46.830251   \n",
       "\n",
       "   NumberOfTime30-59DaysPastDueNotWorse   DebtRatio  MonthlyIncome  \\\n",
       "0                              0.000000    0.089182    5000.000000   \n",
       "1                              0.590928    0.061286    4400.000000   \n",
       "2                              0.000000  409.000000       0.110000   \n",
       "3                              2.628590    0.126074   14473.056952   \n",
       "4                              0.830251    0.467891   11084.169749   \n",
       "\n",
       "   NumberOfOpenCreditLinesAndLoans  NumberOfTimes90DaysLate  \\\n",
       "0                         4.000000                 0.000000   \n",
       "1                         2.000000                 0.590928   \n",
       "2                         8.000000                 0.000000   \n",
       "3                         6.714262                 0.657148   \n",
       "4                        14.490753                 0.000000   \n",
       "\n",
       "   NumberRealEstateLoansOrLines  NumberOfTime60-89DaysPastDueNotWorse  \\\n",
       "0                      0.000000                              0.000000   \n",
       "1                      0.000000                              0.000000   \n",
       "2                      0.000000                              0.000000   \n",
       "3                      0.342852                              1.314295   \n",
       "4                      2.000000                              0.000000   \n",
       "\n",
       "   NumberOfDependents  \n",
       "0            0.000000  \n",
       "1            0.590928  \n",
       "2            0.000000  \n",
       "3            0.000000  \n",
       "4            2.169749  "
      ]
     },
     "execution_count": 148,
     "metadata": {},
     "output_type": "execute_result"
    }
   ],
   "source": [
    "model_data.head()"
   ]
  },
  {
   "cell_type": "code",
   "execution_count": 149,
   "metadata": {},
   "outputs": [],
   "source": [
    "vali_data = pd.concat([y_vali,x_vali],axis=1)\n",
    "vali_data.index = range(x_vali.shape[0])\n",
    "vali_data.columns = data_train.columns"
   ]
  },
  {
   "cell_type": "code",
   "execution_count": 150,
   "metadata": {},
   "outputs": [],
   "source": [
    "model_data.to_csv(r\"E:\\machine learning\\logistic regression\\model_data.csv\")\n",
    "vali_data.to_csv(r\"E:\\machine learning\\logistic regression\\vali_data.csv\")"
   ]
  },
  {
   "cell_type": "code",
   "execution_count": 151,
   "metadata": {},
   "outputs": [],
   "source": [
    "# We can use information value to bin the data of each featue (column)\n",
    "# and select features.\n",
    "# Information value:\n",
    "# IV = \\Sigma_i^{N} (good rate - bad rate) * WOE_i\n",
    "# where N is the number of bins for the concerned feature\n",
    "# and WOE_i = ln(good rate/bad rate) is called weight of evidence."
   ]
  },
  {
   "cell_type": "code",
   "execution_count": 152,
   "metadata": {},
   "outputs": [],
   "source": [
    "#    IV       the feature's contribution to prediction\n",
    "# ---------------------------------------------------\n",
    "#   <0.3      no contribution, could be deleted\n",
    "# 0.03-0.09   small contribution\n",
    "# 0.1 -0.29   medium contribution \n",
    "# 0.3 -0.49   strong contribution\n",
    "#   >=0.5     extremely strong contribution, but may not be useful for prediction"
   ]
  },
  {
   "cell_type": "code",
   "execution_count": 153,
   "metadata": {},
   "outputs": [],
   "source": [
    "# We expect strong similarity of data in the same bin while strong differences \n",
    "# different bins for a good binning of data. "
   ]
  },
  {
   "cell_type": "code",
   "execution_count": 154,
   "metadata": {},
   "outputs": [],
   "source": [
    "# to bin the data of \"age\", pd.qcut()\n",
    "model_data[\"qcut\"], bin_edges = pd.qcut(model_data[\"age\"]\n",
    "                                       ,retbins=True\n",
    "                                       ,q=20)"
   ]
  },
  {
   "cell_type": "code",
   "execution_count": 155,
   "metadata": {},
   "outputs": [
    {
     "data": {
      "text/plain": [
       "0           (45.0, 47.0]\n",
       "1           (54.0, 56.0]\n",
       "2         (56.0, 58.712]\n",
       "3         (58.712, 61.0]\n",
       "4           (45.0, 47.0]\n",
       "               ...      \n",
       "195003    (34.0, 36.591]\n",
       "195004    (20.999, 28.0]\n",
       "195005      (52.0, 54.0]\n",
       "195006    (20.999, 28.0]\n",
       "195007      (45.0, 47.0]\n",
       "Name: qcut, Length: 195008, dtype: category\n",
       "Categories (20, interval[float64]): [(20.999, 28.0] < (28.0, 31.022] < (31.022, 34.0] < (34.0, 36.591] ... (61.0, 64.0] < (64.0, 68.0] < (68.0, 74.0] < (74.0, 109.0]]"
      ]
     },
     "execution_count": 155,
     "metadata": {},
     "output_type": "execute_result"
    }
   ],
   "source": [
    "model_data[\"qcut\"]"
   ]
  },
  {
   "cell_type": "code",
   "execution_count": 156,
   "metadata": {},
   "outputs": [
    {
     "data": {
      "text/plain": [
       "(45.0, 47.0]        11220\n",
       "(36.591, 39.0]      11096\n",
       "(31.022, 34.0]      10799\n",
       "(61.0, 64.0]        10712\n",
       "(58.712, 61.0]      10640\n",
       "(50.014, 52.0]      10596\n",
       "(20.999, 28.0]      10232\n",
       "(52.0, 54.0]        10068\n",
       "(43.0, 45.0]        10043\n",
       "(41.0, 43.0]         9785\n",
       "(48.503, 50.014]     9750\n",
       "(39.0, 41.0]         9410\n",
       "(74.0, 109.0]        9310\n",
       "(64.0, 68.0]         9275\n",
       "(28.0, 31.022]       9269\n",
       "(56.0, 58.712]       9242\n",
       "(54.0, 56.0]         9096\n",
       "(68.0, 74.0]         8815\n",
       "(34.0, 36.591]       8702\n",
       "(47.0, 48.503]       6948\n",
       "Name: qcut, dtype: int64"
      ]
     },
     "execution_count": 156,
     "metadata": {},
     "output_type": "execute_result"
    }
   ],
   "source": [
    "model_data[\"qcut\"].value_counts()"
   ]
  },
  {
   "cell_type": "code",
   "execution_count": 157,
   "metadata": {},
   "outputs": [
    {
     "data": {
      "text/plain": [
       "array([ 21.        ,  28.        ,  31.02216848,  34.        ,\n",
       "        36.59078203,  39.        ,  41.        ,  43.        ,\n",
       "        45.        ,  47.        ,  48.50282259,  50.01441581,\n",
       "        52.        ,  54.        ,  56.        ,  58.71205101,\n",
       "        61.        ,  64.        ,  68.        ,  74.        ,\n",
       "       109.        ])"
      ]
     },
     "execution_count": 157,
     "metadata": {},
     "output_type": "execute_result"
    }
   ],
   "source": [
    "bin_edges"
   ]
  },
  {
   "cell_type": "code",
   "execution_count": 158,
   "metadata": {},
   "outputs": [],
   "source": [
    "count_y0 = model_data[model_data[\"SeriousDlqin2yrs\"]==0].groupby(by=\"qcut\").count()[\"SeriousDlqin2yrs\"]\n",
    "count_y1 = model_data[model_data[\"SeriousDlqin2yrs\"]==1].groupby(by=\"qcut\").count()[\"SeriousDlqin2yrs\"]"
   ]
  },
  {
   "cell_type": "code",
   "execution_count": 159,
   "metadata": {},
   "outputs": [
    {
     "data": {
      "text/plain": [
       "[(21.0, 28.0, 4249, 5983),\n",
       " (28.0, 31.02216847571402, 3514, 5755),\n",
       " (31.02216847571402, 34.0, 4014, 6785),\n",
       " (34.0, 36.5907820347273, 2860, 5842),\n",
       " (36.5907820347273, 39.0, 5080, 6016),\n",
       " (39.0, 41.0, 3944, 5466),\n",
       " (41.0, 43.0, 3995, 5790),\n",
       " (43.0, 45.0, 4373, 5670),\n",
       " (45.0, 47.0, 4765, 6455),\n",
       " (47.0, 48.502822593088844, 2461, 4487),\n",
       " (48.502822593088844, 50.014415809419745, 4929, 4821),\n",
       " (50.014415809419745, 52.0, 4584, 6012),\n",
       " (52.0, 54.0, 4732, 5336),\n",
       " (54.0, 56.0, 4597, 4499),\n",
       " (56.0, 58.71205101299213, 4531, 4711),\n",
       " (58.71205101299213, 61.0, 6661, 3979),\n",
       " (61.0, 64.0, 7018, 3694),\n",
       " (64.0, 68.0, 6627, 2648),\n",
       " (68.0, 74.0, 6770, 2045),\n",
       " (74.0, 109.0, 7752, 1558)]"
      ]
     },
     "execution_count": 159,
     "metadata": {},
     "output_type": "execute_result"
    }
   ],
   "source": [
    "# a list of (lower bound, upper bound, num of y=0, num of y=1)\n",
    "num_bins = [*zip(bin_edges[:-1],bin_edges[1:],count_y0,count_y1)]\n",
    "num_bins "
   ]
  },
  {
   "cell_type": "code",
   "execution_count": 160,
   "metadata": {},
   "outputs": [],
   "source": [
    "# to make sure in all bins there are 0's and 1's\n",
    "while (0 in num_bins[0][2:]):\n",
    "    num_bins[0:2] = [(\n",
    "        num_bins[0][0],\n",
    "        num_bins[1][1],\n",
    "        num_bins[0][2] + num_bins[1][2],\n",
    "        num_bins[0][3] + num_bins[1][3]\n",
    "    )]\n",
    "i=1\n",
    "while i<len(num_bins):\n",
    "    if (0 in num_bins[i][2:]):\n",
    "        num_bins[i-1:i+1] = [(\n",
    "            num_bins[i-1][0],\n",
    "            num_bins[i][1],\n",
    "            num_bins[i-1][2] + num_bins[i][2],\n",
    "            num_bins[i-1][3] + num_bins[i][3]\n",
    "            )]\n",
    "    else:\n",
    "        i+=1"
   ]
  },
  {
   "cell_type": "code",
   "execution_count": 161,
   "metadata": {},
   "outputs": [],
   "source": [
    "# To calculate WOE and IV\n",
    "def get_woe(num_bins):\n",
    "    columns = [\"min\", \"max\", \"count_0\", \"count_1\"]\n",
    "    df = pd.DataFrame(num_bins, columns=columns)\n",
    "    \n",
    "    df[\"total\"] = df[\"count_0\"] + df[\"count_1\"]\n",
    "    df[\"percentage\"] = df[\"total\"]/df[\"total\"].sum()\n",
    "    df[\"bad_rate\"] = df[\"count_0\"]/df[\"total\"]\n",
    "    df[\"good%\"] = df[\"count_0\"]/df[\"count_0\"].sum()\n",
    "    df[\"bad%\"] = df[\"count_1\"]/df[\"count_1\"].sum()\n",
    "    df[\"woe\"] = np.log(df[\"good%\"]/df[\"bad%\"])\n",
    "    return df\n",
    "\n",
    "def get_iv(bins_df):\n",
    "    rate = bins_df[\"good%\"] - bins_df[\"bad%\"]\n",
    "    iv = np.sum(rate * bins_df[\"woe\"])\n",
    "    return iv"
   ]
  },
  {
   "cell_type": "code",
   "execution_count": 162,
   "metadata": {},
   "outputs": [
    {
     "data": {
      "image/png": "[encoded data removed]",
      "text/plain": [
       "<Figure size 432x288 with 1 Axes>"
      ]
     },
     "metadata": {
      "needs_background": "light"
     },
     "output_type": "display_data"
    }
   ],
   "source": [
    "# chi squared test to combine bins\n",
    "\n",
    "\n",
    "\n",
    "num_bins_ = num_bins.copy()\n",
    "IV = []\n",
    "binNum = []\n",
    "\n",
    "N = 2\n",
    "while len(num_bins_) > N:\n",
    "    pvs = []\n",
    "    for i in range(len(num_bins_)-1):\n",
    "        x1 = num_bins_[i][2:]\n",
    "        x2 = num_bins_[i+1][2:]\n",
    "        # 0 return the chi2 value, 1 return p-value\n",
    "        pv = scipy.stats.chi2_contingency([x1,x2])[1]\n",
    "        pvs.append(pv)\n",
    "\n",
    "    i = pvs.index(max(pvs))\n",
    "    num_bins_[i:i+2] = [(\n",
    "                     num_bins_[i][0],\n",
    "                     num_bins_[i+1][1],\n",
    "                     num_bins_[i][2] + num_bins_[i+1][2],\n",
    "                     num_bins_[i][3] + num_bins_[i+1][3])]\n",
    "    \n",
    "    bins_df = get_woe(num_bins_)\n",
    "    binNum.append(len(num_bins_))\n",
    "    IV.append(get_iv(bins_df))\n",
    "\n",
    "plt.figure()\n",
    "plt.plot(binNum, IV)\n",
    "plt.xticks(binNum)\n",
    "plt.xlabel(\"number of bins\")\n",
    "plt.ylabel(\"IV\")\n",
    "plt.show()"
   ]
  },
  {
   "cell_type": "code",
   "execution_count": 163,
   "metadata": {},
   "outputs": [],
   "source": [
    "def get_bin(num_bins_,n):\n",
    "    while len(num_bins_) > n:\n",
    "        pvs = []\n",
    "        for i in range(len(num_bins_)-1):\n",
    "            x1 = num_bins_[i][2:]\n",
    "            x2 = num_bins_[i+1][2:]\n",
    "            # 0 return the chi2 value, 1 return p-value\n",
    "            pv = scipy.stats.chi2_contingency([x1,x2])[1]\n",
    "            pvs.append(pv)\n",
    "\n",
    "        i = pvs.index(max(pvs))\n",
    "        num_bins_[i:i+2] = [(\n",
    "                     num_bins_[i][0],\n",
    "                     num_bins_[i+1][1],\n",
    "                     num_bins_[i][2] + num_bins_[i+1][2],\n",
    "                     num_bins_[i][3] + num_bins_[i+1][3])]\n",
    "    return num_bins_"
   ]
  },
  {
   "cell_type": "code",
   "execution_count": 164,
   "metadata": {},
   "outputs": [],
   "source": [
    "afterbins = get_bin(num_bins,6)"
   ]
  },
  {
   "cell_type": "code",
   "execution_count": 165,
   "metadata": {},
   "outputs": [
    {
     "data": {
      "text/plain": [
       "[(21.0, 36.5907820347273, 14637, 24365),\n",
       " (36.5907820347273, 48.502822593088844, 24618, 33884),\n",
       " (48.502822593088844, 58.71205101299213, 23373, 25379),\n",
       " (58.71205101299213, 64.0, 13679, 7673),\n",
       " (64.0, 74.0, 13397, 4693),\n",
       " (74.0, 109.0, 7752, 1558)]"
      ]
     },
     "execution_count": 165,
     "metadata": {},
     "output_type": "execute_result"
    }
   ],
   "source": [
    "afterbins"
   ]
  },
  {
   "cell_type": "code",
   "execution_count": 166,
   "metadata": {},
   "outputs": [],
   "source": [
    "bins_df = get_woe(afterbins)"
   ]
  },
  {
   "cell_type": "code",
   "execution_count": 167,
   "metadata": {},
   "outputs": [
    {
     "data": {
      "text/html": [
       "<div>\n",
       "<style scoped>\n",
       "    .dataframe tbody tr th:only-of-type {\n",
       "        vertical-align: middle;\n",
       "    }\n",
       "\n",
       "    .dataframe tbody tr th {\n",
       "        vertical-align: top;\n",
       "    }\n",
       "\n",
       "    .dataframe thead th {\n",
       "        text-align: right;\n",
       "    }\n",
       "</style>\n",
       "<table border=\"1\" class=\"dataframe\">\n",
       "  <thead>\n",
       "    <tr style=\"text-align: right;\">\n",
       "      <th></th>\n",
       "      <th>min</th>\n",
       "      <th>max</th>\n",
       "      <th>count_0</th>\n",
       "      <th>count_1</th>\n",
       "      <th>total</th>\n",
       "      <th>percentage</th>\n",
       "      <th>bad_rate</th>\n",
       "      <th>good%</th>\n",
       "      <th>bad%</th>\n",
       "      <th>woe</th>\n",
       "    </tr>\n",
       "  </thead>\n",
       "  <tbody>\n",
       "    <tr>\n",
       "      <td>0</td>\n",
       "      <td>21.000000</td>\n",
       "      <td>36.590782</td>\n",
       "      <td>14637</td>\n",
       "      <td>24365</td>\n",
       "      <td>39002</td>\n",
       "      <td>0.200002</td>\n",
       "      <td>0.375288</td>\n",
       "      <td>0.150191</td>\n",
       "      <td>0.249764</td>\n",
       "      <td>-0.508611</td>\n",
       "    </tr>\n",
       "    <tr>\n",
       "      <td>1</td>\n",
       "      <td>36.590782</td>\n",
       "      <td>48.502823</td>\n",
       "      <td>24618</td>\n",
       "      <td>33884</td>\n",
       "      <td>58502</td>\n",
       "      <td>0.299998</td>\n",
       "      <td>0.420806</td>\n",
       "      <td>0.252606</td>\n",
       "      <td>0.347343</td>\n",
       "      <td>-0.318480</td>\n",
       "    </tr>\n",
       "    <tr>\n",
       "      <td>2</td>\n",
       "      <td>48.502823</td>\n",
       "      <td>58.712051</td>\n",
       "      <td>23373</td>\n",
       "      <td>25379</td>\n",
       "      <td>48752</td>\n",
       "      <td>0.250000</td>\n",
       "      <td>0.479426</td>\n",
       "      <td>0.239831</td>\n",
       "      <td>0.260159</td>\n",
       "      <td>-0.081356</td>\n",
       "    </tr>\n",
       "    <tr>\n",
       "      <td>3</td>\n",
       "      <td>58.712051</td>\n",
       "      <td>64.000000</td>\n",
       "      <td>13679</td>\n",
       "      <td>7673</td>\n",
       "      <td>21352</td>\n",
       "      <td>0.109493</td>\n",
       "      <td>0.640643</td>\n",
       "      <td>0.140361</td>\n",
       "      <td>0.078655</td>\n",
       "      <td>0.579139</td>\n",
       "    </tr>\n",
       "    <tr>\n",
       "      <td>4</td>\n",
       "      <td>64.000000</td>\n",
       "      <td>74.000000</td>\n",
       "      <td>13397</td>\n",
       "      <td>4693</td>\n",
       "      <td>18090</td>\n",
       "      <td>0.092765</td>\n",
       "      <td>0.740575</td>\n",
       "      <td>0.137467</td>\n",
       "      <td>0.048108</td>\n",
       "      <td>1.049943</td>\n",
       "    </tr>\n",
       "    <tr>\n",
       "      <td>5</td>\n",
       "      <td>74.000000</td>\n",
       "      <td>109.000000</td>\n",
       "      <td>7752</td>\n",
       "      <td>1558</td>\n",
       "      <td>9310</td>\n",
       "      <td>0.047742</td>\n",
       "      <td>0.832653</td>\n",
       "      <td>0.079544</td>\n",
       "      <td>0.015971</td>\n",
       "      <td>1.605533</td>\n",
       "    </tr>\n",
       "  </tbody>\n",
       "</table>\n",
       "</div>"
      ],
      "text/plain": [
       "         min         max  count_0  count_1  total  percentage  bad_rate  \\\n",
       "0  21.000000   36.590782    14637    24365  39002    0.200002  0.375288   \n",
       "1  36.590782   48.502823    24618    33884  58502    0.299998  0.420806   \n",
       "2  48.502823   58.712051    23373    25379  48752    0.250000  0.479426   \n",
       "3  58.712051   64.000000    13679     7673  21352    0.109493  0.640643   \n",
       "4  64.000000   74.000000    13397     4693  18090    0.092765  0.740575   \n",
       "5  74.000000  109.000000     7752     1558   9310    0.047742  0.832653   \n",
       "\n",
       "      good%      bad%       woe  \n",
       "0  0.150191  0.249764 -0.508611  \n",
       "1  0.252606  0.347343 -0.318480  \n",
       "2  0.239831  0.260159 -0.081356  \n",
       "3  0.140361  0.078655  0.579139  \n",
       "4  0.137467  0.048108  1.049943  \n",
       "5  0.079544  0.015971  1.605533  "
      ]
     },
     "execution_count": 167,
     "metadata": {},
     "output_type": "execute_result"
    }
   ],
   "source": [
    "bins_df"
   ]
  },
  {
   "cell_type": "code",
   "execution_count": 168,
   "metadata": {},
   "outputs": [],
   "source": [
    "def graphForBestBin(DF, X, Y, n=5, q=20, graph=True):\n",
    "    '''\n",
    "    To find the best number of bins, based on chi2 test and IV\n",
    "    \n",
    "    input:\n",
    "    DF: DataFrame to input\n",
    "    X: features needed to be binned\n",
    "    Y: target feature\n",
    "    n: the number of bins to attain\n",
    "    q: the initial number of bins\n",
    "    graph: whether to plot a graph\n",
    "    '''\n",
    "    DF = DF[[X,Y]].copy()\n",
    "    \n",
    "    DF[\"qcut\"], bins = pd.qcut(DF[X], retbins=True, q=q, duplicates=\"drop\")\n",
    "    count_y0 = DF.loc[DF[Y]==0].groupby(by=\"qcut\").count()[Y]\n",
    "    count_y1 = DF.loc[DF[Y]==1].groupby(by=\"qcut\").count()[Y]\n",
    "    num_bins = [*zip(bins,bins[1:],count_y0,count_y1)]\n",
    "    \n",
    "    while (0 in num_bins[0][2:]):\n",
    "        num_bins[0:2] = [(\n",
    "                        num_bins[0][0],\n",
    "                        num_bins[1][1],\n",
    "                        num_bins[0][2] + num_bins[1][2],\n",
    "                        num_bins[0][3] + num_bins[1][3]\n",
    "                        )]\n",
    "    i=0\n",
    "    while i<len(num_bins):\n",
    "        if (0 in num_bins[i][2:]):\n",
    "            num_bins[i-1:i+1] = [(\n",
    "                               num_bins[i-1][0],\n",
    "                               num_bins[i][1],\n",
    "                               num_bins[i-1][2] + num_bins[i][2],\n",
    "                               num_bins[i-1][3] + num_bins[i][3]\n",
    "                               )]\n",
    "        else:\n",
    "            i+=1\n",
    "    \n",
    "    def get_woe(num_bins):\n",
    "        columns = [\"min\", \"max\", \"count_0\", \"count_1\"]\n",
    "        df = pd.DataFrame(num_bins, columns=columns)\n",
    "    \n",
    "        df[\"total\"] = df[\"count_0\"] + df[\"count_1\"]\n",
    "        df[\"percentage\"] = df[\"total\"]/df[\"total\"].sum()\n",
    "        df[\"bad_rate\"] = df[\"count_0\"]/df[\"total\"]\n",
    "        df[\"good%\"] = df[\"count_0\"]/df[\"count_0\"].sum()\n",
    "        df[\"bad%\"] = df[\"count_1\"]/df[\"count_1\"].sum()\n",
    "        df[\"woe\"] = np.log(df[\"good%\"]/df[\"bad%\"])\n",
    "        return df\n",
    "\n",
    "    def get_iv(bins_df):\n",
    "        rate = bins_df[\"good%\"] - bins_df[\"bad%\"]\n",
    "        iv = np.sum(rate * bins_df[\"woe\"])\n",
    "        return iv\n",
    "    \n",
    "    IV = []\n",
    "    binNum = []\n",
    "\n",
    "    while len(num_bins) > n:\n",
    "        pvs = []\n",
    "        for i in range(len(num_bins)-1):\n",
    "            x1 = num_bins[i][2:]\n",
    "            x2 = num_bins[i+1][2:]\n",
    "            # 0 return the chi2 value, 1 return p-value\n",
    "            pv = scipy.stats.chi2_contingency([x1,x2])[1]\n",
    "            pvs.append(pv)\n",
    "\n",
    "        i = pvs.index(max(pvs))\n",
    "        num_bins[i:i+2] = [(\n",
    "                     num_bins[i][0],\n",
    "                     num_bins[i+1][1],\n",
    "                     num_bins[i][2] + num_bins[i+1][2],\n",
    "                     num_bins[i][3] + num_bins[i+1][3])]\n",
    "    \n",
    "        bins_df = get_woe(num_bins)\n",
    "        binNum.append(len(num_bins))\n",
    "        IV.append(get_iv(bins_df))\n",
    "    \n",
    "    if graph:\n",
    "        plt.figure()\n",
    "        plt.plot(binNum, IV)\n",
    "        plt.xticks(binNum)\n",
    "        plt.xlabel(\"number of bins\")\n",
    "        plt.ylabel(\"IV\")\n",
    "        plt.title(X)\n",
    "        plt.show()\n",
    "        \n",
    "    return bins_df"
   ]
  },
  {
   "cell_type": "code",
   "execution_count": 169,
   "metadata": {},
   "outputs": [
    {
     "data": {
      "text/plain": [
       "Index(['SeriousDlqin2yrs', 'RevolvingUtilizationOfUnsecuredLines', 'age',\n",
       "       'NumberOfTime30-59DaysPastDueNotWorse', 'DebtRatio', 'MonthlyIncome',\n",
       "       'NumberOfOpenCreditLinesAndLoans', 'NumberOfTimes90DaysLate',\n",
       "       'NumberRealEstateLoansOrLines', 'NumberOfTime60-89DaysPastDueNotWorse',\n",
       "       'NumberOfDependents', 'qcut'],\n",
       "      dtype='object')"
      ]
     },
     "execution_count": 169,
     "metadata": {},
     "output_type": "execute_result"
    }
   ],
   "source": [
    "model_data.columns"
   ]
  },
  {
   "cell_type": "code",
   "execution_count": 170,
   "metadata": {},
   "outputs": [
    {
     "data": {
      "image/png": "[encoded data removed]",
      "text/plain": [
       "<Figure size 432x288 with 1 Axes>"
      ]
     },
     "metadata": {
      "needs_background": "light"
     },
     "output_type": "display_data"
    },
    {
     "data": {
      "image/png": "[encoded data removed]",
      "text/plain": [
       "<Figure size 432x288 with 1 Axes>"
      ]
     },
     "metadata": {
      "needs_background": "light"
     },
     "output_type": "display_data"
    },
    {
     "data": {
      "image/png": "[encoded data removed]",
      "text/plain": [
       "<Figure size 432x288 with 1 Axes>"
      ]
     },
     "metadata": {
      "needs_background": "light"
     },
     "output_type": "display_data"
    },
    {
     "data": {
      "image/png": "[encoded data removed]",
      "text/plain": [
       "<Figure size 432x288 with 1 Axes>"
      ]
     },
     "metadata": {
      "needs_background": "light"
     },
     "output_type": "display_data"
    },
    {
     "data": {
      "image/png": "[encoded data removed]",
      "text/plain": [
       "<Figure size 432x288 with 1 Axes>"
      ]
     },
     "metadata": {
      "needs_background": "light"
     },
     "output_type": "display_data"
    },
    {
     "data": {
      "image/png": "[encoded data removed]",
      "text/plain": [
       "<Figure size 432x288 with 1 Axes>"
      ]
     },
     "metadata": {
      "needs_background": "light"
     },
     "output_type": "display_data"
    },
    {
     "data": {
      "image/png": "[encoded data removed]",
      "text/plain": [
       "<Figure size 432x288 with 1 Axes>"
      ]
     },
     "metadata": {
      "needs_background": "light"
     },
     "output_type": "display_data"
    },
    {
     "data": {
      "image/png": "[encoded data removed]",
      "text/plain": [
       "<Figure size 432x288 with 1 Axes>"
      ]
     },
     "metadata": {
      "needs_background": "light"
     },
     "output_type": "display_data"
    },
    {
     "data": {
      "image/png": "[encoded data removed]",
      "text/plain": [
       "<Figure size 432x288 with 1 Axes>"
      ]
     },
     "metadata": {
      "needs_background": "light"
     },
     "output_type": "display_data"
    },
    {
     "data": {
      "image/png": "[encoded data removed]",
      "text/plain": [
       "<Figure size 432x288 with 1 Axes>"
      ]
     },
     "metadata": {
      "needs_background": "light"
     },
     "output_type": "display_data"
    }
   ],
   "source": [
    "for i in model_data.columns[1:-1]:\n",
    "    graphForBestBin(model_data,i,'SeriousDlqin2yrs',n=2,q=20,graph=True)"
   ]
  },
  {
   "cell_type": "code",
   "execution_count": 171,
   "metadata": {},
   "outputs": [],
   "source": [
    "auto_col_bins = {'RevolvingUtilizationOfUnsecuredLines':5,\n",
    "                 'age':6,\n",
    "                 'DebtRatio':4,\n",
    "                 'MonthlyIncome':5,\n",
    "                 'NumberOfOpenCreditLinesAndLoans':5,\n",
    "                }\n",
    "\n",
    "hand_bins = {'NumberOfTime30-59DaysPastDueNotWorse':[0,1,2,13],\n",
    "             'NumberOfTimes90DaysLate':[0,1,2,17],\n",
    "             'NumberRealEstateLoansOrLines':[0,1,2,4,54], \n",
    "             'NumberOfTime60-89DaysPastDueNotWorse':[0,1,2,8],\n",
    "             'NumberOfDependents':[0,1,2,3],\n",
    "            }\n",
    "hand_bins = {k:[-np.inf,*v[:-1],np.inf] for k,v in hand_bins.items()}"
   ]
  },
  {
   "cell_type": "code",
   "execution_count": 172,
   "metadata": {},
   "outputs": [
    {
     "data": {
      "text/plain": [
       "{'NumberOfTime30-59DaysPastDueNotWorse': [-inf, 0, 1, 2, inf],\n",
       " 'NumberOfTimes90DaysLate': [-inf, 0, 1, 2, inf],\n",
       " 'NumberRealEstateLoansOrLines': [-inf, 0, 1, 2, 4, inf],\n",
       " 'NumberOfTime60-89DaysPastDueNotWorse': [-inf, 0, 1, 2, inf],\n",
       " 'NumberOfDependents': [-inf, 0, 1, 2, inf]}"
      ]
     },
     "execution_count": 172,
     "metadata": {},
     "output_type": "execute_result"
    }
   ],
   "source": [
    "hand_bins"
   ]
  },
  {
   "cell_type": "code",
   "execution_count": 173,
   "metadata": {},
   "outputs": [
    {
     "data": {
      "text/plain": [
       "{'RevolvingUtilizationOfUnsecuredLines': [-inf,\n",
       "  0.06025780000000001,\n",
       "  0.1531262845000001,\n",
       "  0.46477011721574296,\n",
       "  0.9999998999999999,\n",
       "  inf],\n",
       " 'age': [-inf,\n",
       "  36.5907820347273,\n",
       "  48.502822593088844,\n",
       "  58.71205101299213,\n",
       "  64.0,\n",
       "  74.0,\n",
       "  inf],\n",
       " 'DebtRatio': [-inf,\n",
       "  0.017232778661931465,\n",
       "  0.400658374,\n",
       "  1.4505288814695498,\n",
       "  inf],\n",
       " 'MonthlyIncome': [-inf,\n",
       "  0.1,\n",
       "  7.384729629142394,\n",
       "  5584.919523689137,\n",
       "  7729.23194440286,\n",
       "  inf],\n",
       " 'NumberOfOpenCreditLinesAndLoans': [-inf,\n",
       "  5.986556118002902,\n",
       "  6.0,\n",
       "  8.891582228528417,\n",
       "  9.094212984329198,\n",
       "  inf],\n",
       " 'NumberOfTime30-59DaysPastDueNotWorse': [-inf, 0, 1, 2, inf],\n",
       " 'NumberOfTimes90DaysLate': [-inf, 0, 1, 2, inf],\n",
       " 'NumberRealEstateLoansOrLines': [-inf, 0, 1, 2, 4, inf],\n",
       " 'NumberOfTime60-89DaysPastDueNotWorse': [-inf, 0, 1, 2, inf],\n",
       " 'NumberOfDependents': [-inf, 0, 1, 2, inf]}"
      ]
     },
     "execution_count": 173,
     "metadata": {},
     "output_type": "execute_result"
    }
   ],
   "source": [
    "bins_of_col={}\n",
    "\n",
    "for col in auto_col_bins:\n",
    "    bins_df = graphForBestBin(model_data, col\n",
    "                             ,'SeriousDlqin2yrs'\n",
    "                             ,n=auto_col_bins[col]\n",
    "                             ,q=20\n",
    "                             ,graph=False)\n",
    "    bins_list = sorted(set(bins_df[\"min\"]).union(bins_df[\"max\"]))\n",
    "    bins_list[0] = -np.inf\n",
    "    bins_list[-1] = np.inf\n",
    "    bins_of_col[col] = bins_list\n",
    "\n",
    "bins_of_col.update(hand_bins)\n",
    "bins_of_col"
   ]
  },
  {
   "cell_type": "code",
   "execution_count": 174,
   "metadata": {},
   "outputs": [
    {
     "data": {
      "text/plain": [
       "Float64Index([0.0, 1.0], dtype='float64', name='SeriousDlqin2yrs')"
      ]
     },
     "execution_count": 174,
     "metadata": {},
     "output_type": "execute_result"
    }
   ],
   "source": [
    "data = model_data[['age','SeriousDlqin2yrs']].copy()\n",
    "\n",
    "data['cut'] = pd.cut(data['age'],[-np.inf,\n",
    "  36.631007277341425,\n",
    "  48.492232080825936,\n",
    "  58.75545684532448,\n",
    "  64.0,\n",
    "  74.0,\n",
    "  np.inf])\n",
    "\n",
    "data.groupby('cut')['SeriousDlqin2yrs'].value_counts().unstack().columns"
   ]
  },
  {
   "cell_type": "code",
   "execution_count": 175,
   "metadata": {},
   "outputs": [],
   "source": [
    "def get_WOE(df, col, y, bins):\n",
    "    df = df[[col,y]].copy()\n",
    "    df['cut'] = pd.cut(df[col],bins)\n",
    "    bins_df = df.groupby('cut')[y].value_counts().unstack()\n",
    "    woe = bins_df['woe'] = np.log((bins_df[0.0]/bins_df[0.0].sum()) / (bins_df[1.0]/bins_df[1.0].sum()))\n",
    "    return woe"
   ]
  },
  {
   "cell_type": "code",
   "execution_count": 176,
   "metadata": {},
   "outputs": [],
   "source": [
    "woe_all={}\n",
    "for col in bins_of_col:\n",
    "    woe_all[col] = get_WOE(model_data,col,'SeriousDlqin2yrs',bins_of_col[col])"
   ]
  },
  {
   "cell_type": "code",
   "execution_count": 177,
   "metadata": {},
   "outputs": [
    {
     "data": {
      "text/plain": [
       "{'RevolvingUtilizationOfUnsecuredLines': cut\n",
       " (-inf, 0.0603]     2.429877\n",
       " (0.0603, 0.153]    1.309057\n",
       " (0.153, 0.465]     0.170152\n",
       " (0.465, 1.0]      -0.946032\n",
       " (1.0, inf]        -2.073600\n",
       " dtype: float64, 'age': cut\n",
       " (-inf, 36.591]     -0.508611\n",
       " (36.591, 48.503]   -0.318480\n",
       " (48.503, 58.712]   -0.081356\n",
       " (58.712, 64.0]      0.579139\n",
       " (64.0, 74.0]        1.049943\n",
       " (74.0, inf]         1.605533\n",
       " dtype: float64, 'DebtRatio': cut\n",
       " (-inf, 0.0172]     1.513294\n",
       " (0.0172, 0.401]    0.037751\n",
       " (0.401, 1.451]    -0.390952\n",
       " (1.451, inf]       0.174848\n",
       " dtype: float64, 'MonthlyIncome': cut\n",
       " (-inf, 0.1]            1.355419\n",
       " (0.1, 7.385]           0.036590\n",
       " (7.385, 5584.92]      -0.294030\n",
       " (5584.92, 7729.232]    0.076437\n",
       " (7729.232, inf]        0.359316\n",
       " dtype: float64, 'NumberOfOpenCreditLinesAndLoans': cut\n",
       " (-inf, 5.987]    -0.278882\n",
       " (5.987, 6.0]      1.814619\n",
       " (6.0, 8.892]     -0.205465\n",
       " (8.892, 9.094]    1.185416\n",
       " (9.094, inf]      0.020003\n",
       " dtype: float64, 'NumberOfTime30-59DaysPastDueNotWorse': cut\n",
       " (-inf, 0.0]    1.091205\n",
       " (0.0, 1.0]    -1.382604\n",
       " (1.0, 2.0]    -2.045188\n",
       " (2.0, inf]    -2.283048\n",
       " dtype: float64, 'NumberOfTimes90DaysLate': cut\n",
       " (-inf, 0.0]    0.691682\n",
       " (0.0, 1.0]    -2.569503\n",
       " (1.0, 2.0]    -3.032594\n",
       " (2.0, inf]    -3.150231\n",
       " dtype: float64, 'NumberRealEstateLoansOrLines': cut\n",
       " (-inf, 0.0]    0.208249\n",
       " (0.0, 1.0]    -0.001204\n",
       " (1.0, 2.0]    -0.118841\n",
       " (2.0, 4.0]    -0.433605\n",
       " (4.0, inf]    -0.808204\n",
       " dtype: float64, 'NumberOfTime60-89DaysPastDueNotWorse': cut\n",
       " (-inf, 0.0]    0.537173\n",
       " (0.0, 1.0]    -2.487708\n",
       " (1.0, 2.0]    -2.957062\n",
       " (2.0, inf]    -2.825211\n",
       " dtype: float64, 'NumberOfDependents': cut\n",
       " (-inf, 0.0]    0.626527\n",
       " (0.0, 1.0]    -0.591887\n",
       " (1.0, 2.0]    -0.525239\n",
       " (2.0, inf]    -0.487382\n",
       " dtype: float64}"
      ]
     },
     "execution_count": 177,
     "metadata": {},
     "output_type": "execute_result"
    }
   ],
   "source": [
    "woe_all"
   ]
  },
  {
   "cell_type": "code",
   "execution_count": 178,
   "metadata": {},
   "outputs": [
    {
     "data": {
      "text/plain": [
       "0        -0.318480\n",
       "1        -0.081356\n",
       "2        -0.081356\n",
       "3         0.579139\n",
       "4        -0.318480\n",
       "            ...   \n",
       "195003   -0.508611\n",
       "195004   -0.508611\n",
       "195005   -0.081356\n",
       "195006   -0.508611\n",
       "195007   -0.318480\n",
       "Name: age, Length: 195008, dtype: category\n",
       "Categories (6, float64): [-0.508611 < -0.318480 < -0.081356 < 0.579139 < 1.049943 < 1.605533]"
      ]
     },
     "execution_count": 178,
     "metadata": {},
     "output_type": "execute_result"
    }
   ],
   "source": [
    "pd.cut(model_data['age'],bins_of_col['age']).map(woe_all['age'])"
   ]
  },
  {
   "cell_type": "code",
   "execution_count": 179,
   "metadata": {},
   "outputs": [
    {
     "data": {
      "text/html": [
       "<div>\n",
       "<style scoped>\n",
       "    .dataframe tbody tr th:only-of-type {\n",
       "        vertical-align: middle;\n",
       "    }\n",
       "\n",
       "    .dataframe tbody tr th {\n",
       "        vertical-align: top;\n",
       "    }\n",
       "\n",
       "    .dataframe thead th {\n",
       "        text-align: right;\n",
       "    }\n",
       "</style>\n",
       "<table border=\"1\" class=\"dataframe\">\n",
       "  <thead>\n",
       "    <tr style=\"text-align: right;\">\n",
       "      <th></th>\n",
       "      <th>RevolvingUtilizationOfUnsecuredLines</th>\n",
       "      <th>age</th>\n",
       "      <th>DebtRatio</th>\n",
       "      <th>MonthlyIncome</th>\n",
       "      <th>NumberOfOpenCreditLinesAndLoans</th>\n",
       "      <th>NumberOfTime30-59DaysPastDueNotWorse</th>\n",
       "      <th>NumberOfTimes90DaysLate</th>\n",
       "      <th>NumberRealEstateLoansOrLines</th>\n",
       "      <th>NumberOfTime60-89DaysPastDueNotWorse</th>\n",
       "      <th>NumberOfDependents</th>\n",
       "    </tr>\n",
       "  </thead>\n",
       "  <tbody>\n",
       "    <tr>\n",
       "      <td>0</td>\n",
       "      <td>1.309057</td>\n",
       "      <td>-0.318480</td>\n",
       "      <td>0.037751</td>\n",
       "      <td>-0.294030</td>\n",
       "      <td>-0.278882</td>\n",
       "      <td>1.091205</td>\n",
       "      <td>0.691682</td>\n",
       "      <td>0.208249</td>\n",
       "      <td>0.537173</td>\n",
       "      <td>0.626527</td>\n",
       "    </tr>\n",
       "    <tr>\n",
       "      <td>1</td>\n",
       "      <td>-0.946032</td>\n",
       "      <td>-0.081356</td>\n",
       "      <td>0.037751</td>\n",
       "      <td>-0.294030</td>\n",
       "      <td>-0.278882</td>\n",
       "      <td>-1.382604</td>\n",
       "      <td>-2.569503</td>\n",
       "      <td>0.208249</td>\n",
       "      <td>0.537173</td>\n",
       "      <td>-0.591887</td>\n",
       "    </tr>\n",
       "    <tr>\n",
       "      <td>2</td>\n",
       "      <td>2.429877</td>\n",
       "      <td>-0.081356</td>\n",
       "      <td>0.174848</td>\n",
       "      <td>0.036590</td>\n",
       "      <td>-0.205465</td>\n",
       "      <td>1.091205</td>\n",
       "      <td>0.691682</td>\n",
       "      <td>0.208249</td>\n",
       "      <td>0.537173</td>\n",
       "      <td>0.626527</td>\n",
       "    </tr>\n",
       "    <tr>\n",
       "      <td>3</td>\n",
       "      <td>-0.946032</td>\n",
       "      <td>0.579139</td>\n",
       "      <td>0.037751</td>\n",
       "      <td>0.359316</td>\n",
       "      <td>-0.205465</td>\n",
       "      <td>-2.283048</td>\n",
       "      <td>-2.569503</td>\n",
       "      <td>-0.001204</td>\n",
       "      <td>-2.957062</td>\n",
       "      <td>0.626527</td>\n",
       "    </tr>\n",
       "    <tr>\n",
       "      <td>4</td>\n",
       "      <td>-0.946032</td>\n",
       "      <td>-0.318480</td>\n",
       "      <td>-0.390952</td>\n",
       "      <td>0.359316</td>\n",
       "      <td>0.020003</td>\n",
       "      <td>-1.382604</td>\n",
       "      <td>0.691682</td>\n",
       "      <td>-0.118841</td>\n",
       "      <td>0.537173</td>\n",
       "      <td>-0.487382</td>\n",
       "    </tr>\n",
       "    <tr>\n",
       "      <td>...</td>\n",
       "      <td>...</td>\n",
       "      <td>...</td>\n",
       "      <td>...</td>\n",
       "      <td>...</td>\n",
       "      <td>...</td>\n",
       "      <td>...</td>\n",
       "      <td>...</td>\n",
       "      <td>...</td>\n",
       "      <td>...</td>\n",
       "      <td>...</td>\n",
       "    </tr>\n",
       "    <tr>\n",
       "      <td>195003</td>\n",
       "      <td>-0.946032</td>\n",
       "      <td>-0.508611</td>\n",
       "      <td>0.037751</td>\n",
       "      <td>0.076437</td>\n",
       "      <td>-0.278882</td>\n",
       "      <td>1.091205</td>\n",
       "      <td>0.691682</td>\n",
       "      <td>0.208249</td>\n",
       "      <td>0.537173</td>\n",
       "      <td>-0.591887</td>\n",
       "    </tr>\n",
       "    <tr>\n",
       "      <td>195004</td>\n",
       "      <td>-0.946032</td>\n",
       "      <td>-0.508611</td>\n",
       "      <td>0.037751</td>\n",
       "      <td>-0.294030</td>\n",
       "      <td>-0.278882</td>\n",
       "      <td>1.091205</td>\n",
       "      <td>-2.569503</td>\n",
       "      <td>0.208249</td>\n",
       "      <td>-2.487708</td>\n",
       "      <td>0.626527</td>\n",
       "    </tr>\n",
       "    <tr>\n",
       "      <td>195005</td>\n",
       "      <td>-0.946032</td>\n",
       "      <td>-0.081356</td>\n",
       "      <td>0.037751</td>\n",
       "      <td>-0.294030</td>\n",
       "      <td>-0.278882</td>\n",
       "      <td>-1.382604</td>\n",
       "      <td>0.691682</td>\n",
       "      <td>-0.001204</td>\n",
       "      <td>0.537173</td>\n",
       "      <td>-0.591887</td>\n",
       "    </tr>\n",
       "    <tr>\n",
       "      <td>195006</td>\n",
       "      <td>0.170152</td>\n",
       "      <td>-0.508611</td>\n",
       "      <td>-0.390952</td>\n",
       "      <td>-0.294030</td>\n",
       "      <td>-0.278882</td>\n",
       "      <td>1.091205</td>\n",
       "      <td>0.691682</td>\n",
       "      <td>-0.001204</td>\n",
       "      <td>0.537173</td>\n",
       "      <td>0.626527</td>\n",
       "    </tr>\n",
       "    <tr>\n",
       "      <td>195007</td>\n",
       "      <td>1.309057</td>\n",
       "      <td>-0.318480</td>\n",
       "      <td>0.037751</td>\n",
       "      <td>0.359316</td>\n",
       "      <td>0.020003</td>\n",
       "      <td>1.091205</td>\n",
       "      <td>0.691682</td>\n",
       "      <td>-0.001204</td>\n",
       "      <td>0.537173</td>\n",
       "      <td>-0.487382</td>\n",
       "    </tr>\n",
       "  </tbody>\n",
       "</table>\n",
       "<p>195008 rows × 10 columns</p>\n",
       "</div>"
      ],
      "text/plain": [
       "       RevolvingUtilizationOfUnsecuredLines       age DebtRatio MonthlyIncome  \\\n",
       "0                                  1.309057 -0.318480  0.037751     -0.294030   \n",
       "1                                 -0.946032 -0.081356  0.037751     -0.294030   \n",
       "2                                  2.429877 -0.081356  0.174848      0.036590   \n",
       "3                                 -0.946032  0.579139  0.037751      0.359316   \n",
       "4                                 -0.946032 -0.318480 -0.390952      0.359316   \n",
       "...                                     ...       ...       ...           ...   \n",
       "195003                            -0.946032 -0.508611  0.037751      0.076437   \n",
       "195004                            -0.946032 -0.508611  0.037751     -0.294030   \n",
       "195005                            -0.946032 -0.081356  0.037751     -0.294030   \n",
       "195006                             0.170152 -0.508611 -0.390952     -0.294030   \n",
       "195007                             1.309057 -0.318480  0.037751      0.359316   \n",
       "\n",
       "       NumberOfOpenCreditLinesAndLoans NumberOfTime30-59DaysPastDueNotWorse  \\\n",
       "0                            -0.278882                             1.091205   \n",
       "1                            -0.278882                            -1.382604   \n",
       "2                            -0.205465                             1.091205   \n",
       "3                            -0.205465                            -2.283048   \n",
       "4                             0.020003                            -1.382604   \n",
       "...                                ...                                  ...   \n",
       "195003                       -0.278882                             1.091205   \n",
       "195004                       -0.278882                             1.091205   \n",
       "195005                       -0.278882                            -1.382604   \n",
       "195006                       -0.278882                             1.091205   \n",
       "195007                        0.020003                             1.091205   \n",
       "\n",
       "       NumberOfTimes90DaysLate NumberRealEstateLoansOrLines  \\\n",
       "0                     0.691682                     0.208249   \n",
       "1                    -2.569503                     0.208249   \n",
       "2                     0.691682                     0.208249   \n",
       "3                    -2.569503                    -0.001204   \n",
       "4                     0.691682                    -0.118841   \n",
       "...                        ...                          ...   \n",
       "195003                0.691682                     0.208249   \n",
       "195004               -2.569503                     0.208249   \n",
       "195005                0.691682                    -0.001204   \n",
       "195006                0.691682                    -0.001204   \n",
       "195007                0.691682                    -0.001204   \n",
       "\n",
       "       NumberOfTime60-89DaysPastDueNotWorse NumberOfDependents  \n",
       "0                                  0.537173           0.626527  \n",
       "1                                  0.537173          -0.591887  \n",
       "2                                  0.537173           0.626527  \n",
       "3                                 -2.957062           0.626527  \n",
       "4                                  0.537173          -0.487382  \n",
       "...                                     ...                ...  \n",
       "195003                             0.537173          -0.591887  \n",
       "195004                            -2.487708           0.626527  \n",
       "195005                             0.537173          -0.591887  \n",
       "195006                             0.537173           0.626527  \n",
       "195007                             0.537173          -0.487382  \n",
       "\n",
       "[195008 rows x 10 columns]"
      ]
     },
     "execution_count": 179,
     "metadata": {},
     "output_type": "execute_result"
    }
   ],
   "source": [
    "model_woe = pd.DataFrame(index=model_data.index)\n",
    "for col in bins_of_col:\n",
    "    model_woe[col] = pd.cut(model_data[col],bins_of_col[col]).map(woe_all[col])\n",
    "\n",
    "model_woe"
   ]
  },
  {
   "cell_type": "code",
   "execution_count": 180,
   "metadata": {},
   "outputs": [
    {
     "data": {
      "text/html": [
       "<div>\n",
       "<style scoped>\n",
       "    .dataframe tbody tr th:only-of-type {\n",
       "        vertical-align: middle;\n",
       "    }\n",
       "\n",
       "    .dataframe tbody tr th {\n",
       "        vertical-align: top;\n",
       "    }\n",
       "\n",
       "    .dataframe thead th {\n",
       "        text-align: right;\n",
       "    }\n",
       "</style>\n",
       "<table border=\"1\" class=\"dataframe\">\n",
       "  <thead>\n",
       "    <tr style=\"text-align: right;\">\n",
       "      <th></th>\n",
       "      <th>RevolvingUtilizationOfUnsecuredLines</th>\n",
       "      <th>age</th>\n",
       "      <th>DebtRatio</th>\n",
       "      <th>MonthlyIncome</th>\n",
       "      <th>NumberOfOpenCreditLinesAndLoans</th>\n",
       "      <th>NumberOfTime30-59DaysPastDueNotWorse</th>\n",
       "      <th>NumberOfTimes90DaysLate</th>\n",
       "      <th>NumberRealEstateLoansOrLines</th>\n",
       "      <th>NumberOfTime60-89DaysPastDueNotWorse</th>\n",
       "      <th>NumberOfDependents</th>\n",
       "      <th>SeriousDlqin2yrs</th>\n",
       "    </tr>\n",
       "  </thead>\n",
       "  <tbody>\n",
       "    <tr>\n",
       "      <td>0</td>\n",
       "      <td>1.309057</td>\n",
       "      <td>-0.318480</td>\n",
       "      <td>0.037751</td>\n",
       "      <td>-0.294030</td>\n",
       "      <td>-0.278882</td>\n",
       "      <td>1.091205</td>\n",
       "      <td>0.691682</td>\n",
       "      <td>0.208249</td>\n",
       "      <td>0.537173</td>\n",
       "      <td>0.626527</td>\n",
       "      <td>0.0</td>\n",
       "    </tr>\n",
       "    <tr>\n",
       "      <td>1</td>\n",
       "      <td>-0.946032</td>\n",
       "      <td>-0.081356</td>\n",
       "      <td>0.037751</td>\n",
       "      <td>-0.294030</td>\n",
       "      <td>-0.278882</td>\n",
       "      <td>-1.382604</td>\n",
       "      <td>-2.569503</td>\n",
       "      <td>0.208249</td>\n",
       "      <td>0.537173</td>\n",
       "      <td>-0.591887</td>\n",
       "      <td>1.0</td>\n",
       "    </tr>\n",
       "    <tr>\n",
       "      <td>2</td>\n",
       "      <td>2.429877</td>\n",
       "      <td>-0.081356</td>\n",
       "      <td>0.174848</td>\n",
       "      <td>0.036590</td>\n",
       "      <td>-0.205465</td>\n",
       "      <td>1.091205</td>\n",
       "      <td>0.691682</td>\n",
       "      <td>0.208249</td>\n",
       "      <td>0.537173</td>\n",
       "      <td>0.626527</td>\n",
       "      <td>0.0</td>\n",
       "    </tr>\n",
       "    <tr>\n",
       "      <td>3</td>\n",
       "      <td>-0.946032</td>\n",
       "      <td>0.579139</td>\n",
       "      <td>0.037751</td>\n",
       "      <td>0.359316</td>\n",
       "      <td>-0.205465</td>\n",
       "      <td>-2.283048</td>\n",
       "      <td>-2.569503</td>\n",
       "      <td>-0.001204</td>\n",
       "      <td>-2.957062</td>\n",
       "      <td>0.626527</td>\n",
       "      <td>1.0</td>\n",
       "    </tr>\n",
       "    <tr>\n",
       "      <td>4</td>\n",
       "      <td>-0.946032</td>\n",
       "      <td>-0.318480</td>\n",
       "      <td>-0.390952</td>\n",
       "      <td>0.359316</td>\n",
       "      <td>0.020003</td>\n",
       "      <td>-1.382604</td>\n",
       "      <td>0.691682</td>\n",
       "      <td>-0.118841</td>\n",
       "      <td>0.537173</td>\n",
       "      <td>-0.487382</td>\n",
       "      <td>1.0</td>\n",
       "    </tr>\n",
       "  </tbody>\n",
       "</table>\n",
       "</div>"
      ],
      "text/plain": [
       "  RevolvingUtilizationOfUnsecuredLines       age DebtRatio MonthlyIncome  \\\n",
       "0                             1.309057 -0.318480  0.037751     -0.294030   \n",
       "1                            -0.946032 -0.081356  0.037751     -0.294030   \n",
       "2                             2.429877 -0.081356  0.174848      0.036590   \n",
       "3                            -0.946032  0.579139  0.037751      0.359316   \n",
       "4                            -0.946032 -0.318480 -0.390952      0.359316   \n",
       "\n",
       "  NumberOfOpenCreditLinesAndLoans NumberOfTime30-59DaysPastDueNotWorse  \\\n",
       "0                       -0.278882                             1.091205   \n",
       "1                       -0.278882                            -1.382604   \n",
       "2                       -0.205465                             1.091205   \n",
       "3                       -0.205465                            -2.283048   \n",
       "4                        0.020003                            -1.382604   \n",
       "\n",
       "  NumberOfTimes90DaysLate NumberRealEstateLoansOrLines  \\\n",
       "0                0.691682                     0.208249   \n",
       "1               -2.569503                     0.208249   \n",
       "2                0.691682                     0.208249   \n",
       "3               -2.569503                    -0.001204   \n",
       "4                0.691682                    -0.118841   \n",
       "\n",
       "  NumberOfTime60-89DaysPastDueNotWorse NumberOfDependents  SeriousDlqin2yrs  \n",
       "0                             0.537173           0.626527               0.0  \n",
       "1                             0.537173          -0.591887               1.0  \n",
       "2                             0.537173           0.626527               0.0  \n",
       "3                            -2.957062           0.626527               1.0  \n",
       "4                             0.537173          -0.487382               1.0  "
      ]
     },
     "execution_count": 180,
     "metadata": {},
     "output_type": "execute_result"
    }
   ],
   "source": [
    "model_woe['SeriousDlqin2yrs'] = model_data['SeriousDlqin2yrs']\n",
    "model_woe.head()"
   ]
  },
  {
   "cell_type": "code",
   "execution_count": 181,
   "metadata": {},
   "outputs": [
    {
     "data": {
      "text/html": [
       "<div>\n",
       "<style scoped>\n",
       "    .dataframe tbody tr th:only-of-type {\n",
       "        vertical-align: middle;\n",
       "    }\n",
       "\n",
       "    .dataframe tbody tr th {\n",
       "        vertical-align: top;\n",
       "    }\n",
       "\n",
       "    .dataframe thead th {\n",
       "        text-align: right;\n",
       "    }\n",
       "</style>\n",
       "<table border=\"1\" class=\"dataframe\">\n",
       "  <thead>\n",
       "    <tr style=\"text-align: right;\">\n",
       "      <th></th>\n",
       "      <th>RevolvingUtilizationOfUnsecuredLines</th>\n",
       "      <th>age</th>\n",
       "      <th>DebtRatio</th>\n",
       "      <th>MonthlyIncome</th>\n",
       "      <th>NumberOfOpenCreditLinesAndLoans</th>\n",
       "      <th>NumberOfTime30-59DaysPastDueNotWorse</th>\n",
       "      <th>NumberOfTimes90DaysLate</th>\n",
       "      <th>NumberRealEstateLoansOrLines</th>\n",
       "      <th>NumberOfTime60-89DaysPastDueNotWorse</th>\n",
       "      <th>NumberOfDependents</th>\n",
       "      <th>SeriousDlqin2yrs</th>\n",
       "    </tr>\n",
       "  </thead>\n",
       "  <tbody>\n",
       "    <tr>\n",
       "      <td>0</td>\n",
       "      <td>-0.946032</td>\n",
       "      <td>-0.508611</td>\n",
       "      <td>0.037751</td>\n",
       "      <td>0.076437</td>\n",
       "      <td>-0.278882</td>\n",
       "      <td>1.091205</td>\n",
       "      <td>0.691682</td>\n",
       "      <td>0.208249</td>\n",
       "      <td>0.537173</td>\n",
       "      <td>0.626527</td>\n",
       "      <td>0.0</td>\n",
       "    </tr>\n",
       "    <tr>\n",
       "      <td>1</td>\n",
       "      <td>1.309057</td>\n",
       "      <td>-0.081356</td>\n",
       "      <td>0.037751</td>\n",
       "      <td>-0.294030</td>\n",
       "      <td>-0.205465</td>\n",
       "      <td>-1.382604</td>\n",
       "      <td>0.691682</td>\n",
       "      <td>-0.001204</td>\n",
       "      <td>0.537173</td>\n",
       "      <td>-0.591887</td>\n",
       "      <td>1.0</td>\n",
       "    </tr>\n",
       "    <tr>\n",
       "      <td>2</td>\n",
       "      <td>-2.073600</td>\n",
       "      <td>-0.081356</td>\n",
       "      <td>-0.390952</td>\n",
       "      <td>-0.294030</td>\n",
       "      <td>-0.205465</td>\n",
       "      <td>-1.382604</td>\n",
       "      <td>-2.569503</td>\n",
       "      <td>-0.001204</td>\n",
       "      <td>-2.487708</td>\n",
       "      <td>-0.591887</td>\n",
       "      <td>0.0</td>\n",
       "    </tr>\n",
       "    <tr>\n",
       "      <td>3</td>\n",
       "      <td>2.429877</td>\n",
       "      <td>-0.318480</td>\n",
       "      <td>0.037751</td>\n",
       "      <td>-0.294030</td>\n",
       "      <td>-0.278882</td>\n",
       "      <td>1.091205</td>\n",
       "      <td>0.691682</td>\n",
       "      <td>0.208249</td>\n",
       "      <td>0.537173</td>\n",
       "      <td>-0.487382</td>\n",
       "      <td>0.0</td>\n",
       "    </tr>\n",
       "    <tr>\n",
       "      <td>4</td>\n",
       "      <td>-0.946032</td>\n",
       "      <td>-0.508611</td>\n",
       "      <td>0.037751</td>\n",
       "      <td>-0.294030</td>\n",
       "      <td>-0.278882</td>\n",
       "      <td>1.091205</td>\n",
       "      <td>-2.569503</td>\n",
       "      <td>0.208249</td>\n",
       "      <td>0.537173</td>\n",
       "      <td>0.626527</td>\n",
       "      <td>1.0</td>\n",
       "    </tr>\n",
       "  </tbody>\n",
       "</table>\n",
       "</div>"
      ],
      "text/plain": [
       "  RevolvingUtilizationOfUnsecuredLines       age DebtRatio MonthlyIncome  \\\n",
       "0                            -0.946032 -0.508611  0.037751      0.076437   \n",
       "1                             1.309057 -0.081356  0.037751     -0.294030   \n",
       "2                            -2.073600 -0.081356 -0.390952     -0.294030   \n",
       "3                             2.429877 -0.318480  0.037751     -0.294030   \n",
       "4                            -0.946032 -0.508611  0.037751     -0.294030   \n",
       "\n",
       "  NumberOfOpenCreditLinesAndLoans NumberOfTime30-59DaysPastDueNotWorse  \\\n",
       "0                       -0.278882                             1.091205   \n",
       "1                       -0.205465                            -1.382604   \n",
       "2                       -0.205465                            -1.382604   \n",
       "3                       -0.278882                             1.091205   \n",
       "4                       -0.278882                             1.091205   \n",
       "\n",
       "  NumberOfTimes90DaysLate NumberRealEstateLoansOrLines  \\\n",
       "0                0.691682                     0.208249   \n",
       "1                0.691682                    -0.001204   \n",
       "2               -2.569503                    -0.001204   \n",
       "3                0.691682                     0.208249   \n",
       "4               -2.569503                     0.208249   \n",
       "\n",
       "  NumberOfTime60-89DaysPastDueNotWorse NumberOfDependents  SeriousDlqin2yrs  \n",
       "0                             0.537173           0.626527               0.0  \n",
       "1                             0.537173          -0.591887               1.0  \n",
       "2                            -2.487708          -0.591887               0.0  \n",
       "3                             0.537173          -0.487382               0.0  \n",
       "4                             0.537173           0.626527               1.0  "
      ]
     },
     "execution_count": 181,
     "metadata": {},
     "output_type": "execute_result"
    }
   ],
   "source": [
    "# to process validation set the same way as model set\n",
    "vali_woe = pd.DataFrame(index=vali_data.index)\n",
    "\n",
    "for col in bins_of_col:\n",
    "    vali_woe[col] = pd.cut(vali_data[col],bins_of_col[col]).map(woe_all[col])\n",
    "vali_woe['SeriousDlqin2yrs'] = vali_data['SeriousDlqin2yrs']\n",
    "vali_woe.head()"
   ]
  },
  {
   "cell_type": "code",
   "execution_count": 182,
   "metadata": {},
   "outputs": [],
   "source": [
    "vali_x = vali_woe.iloc[:,:-1]\n",
    "vali_y = vali_woe.iloc[:,-1]\n",
    "\n",
    "x = model_woe.iloc[:,:-1]\n",
    "y = model_woe.iloc[:,-1]"
   ]
  },
  {
   "cell_type": "code",
   "execution_count": 186,
   "metadata": {},
   "outputs": [
    {
     "data": {
      "text/plain": [
       "0.8656671771800517"
      ]
     },
     "execution_count": 186,
     "metadata": {},
     "output_type": "execute_result"
    }
   ],
   "source": [
    "lr = LR().fit(x,y)\n",
    "lr.score(vali_x,vali_y)"
   ]
  },
  {
   "cell_type": "code",
   "execution_count": null,
   "metadata": {},
   "outputs": [],
   "source": [
    "#one can adjust C or max_iter to achieve better score but not much"
   ]
  },
  {
   "cell_type": "code",
   "execution_count": 185,
   "metadata": {},
   "outputs": [
    {
     "data": {
      "text/plain": [
       "<matplotlib.axes._subplots.AxesSubplot at 0x1fb00788bc8>"
      ]
     },
     "execution_count": 185,
     "metadata": {},
     "output_type": "execute_result"
    },
    {
     "data": {
      "image/png": "[encoded data removed]",
      "text/plain": [
       "<Figure size 432x432 with 1 Axes>"
      ]
     },
     "metadata": {
      "needs_background": "light"
     },
     "output_type": "display_data"
    }
   ],
   "source": [
    "# ROC curve\n",
    "import scikitplot as skplt\n",
    "\n",
    "vali_proba_df = pd.DataFrame(lr.predict_proba(vali_x))\n",
    "\n",
    "skplt.metrics.plot_roc(vali_y,vali_proba_df, \n",
    "                     plot_micro=False, figsize=(6,6),\n",
    "                     plot_macro=False)"
   ]
  },
  {
   "cell_type": "code",
   "execution_count": 187,
   "metadata": {},
   "outputs": [],
   "source": [
    "# credit score = A -  B * log(odds)\n",
    "\n",
    "#odds - odds of failing to pay the balance \n",
    "# assume that credit score = 600 when odds = 1/60\n",
    "# and credit score = 620 when odds = 1/30\n",
    "\n",
    "B = 20/np.log(2)\n",
    "A = 600 + B*np.log(1/60)"
   ]
  },
  {
   "cell_type": "code",
   "execution_count": 188,
   "metadata": {},
   "outputs": [
    {
     "data": {
      "text/plain": [
       "(28.85390081777927, 481.8621880878296)"
      ]
     },
     "execution_count": 188,
     "metadata": {},
     "output_type": "execute_result"
    }
   ],
   "source": [
    "B, A"
   ]
  },
  {
   "cell_type": "code",
   "execution_count": 189,
   "metadata": {},
   "outputs": [
    {
     "data": {
      "text/plain": [
       "array([481.36898624])"
      ]
     },
     "execution_count": 189,
     "metadata": {},
     "output_type": "execute_result"
    }
   ],
   "source": [
    "base_score = A - B*lr.intercept_\n",
    "base_score"
   ]
  },
  {
   "cell_type": "code",
   "execution_count": 191,
   "metadata": {},
   "outputs": [
    {
     "data": {
      "text/plain": [
       "array([0.01709307])"
      ]
     },
     "execution_count": 191,
     "metadata": {},
     "output_type": "execute_result"
    }
   ],
   "source": [
    "lr.intercept_"
   ]
  },
  {
   "cell_type": "code",
   "execution_count": 190,
   "metadata": {},
   "outputs": [
    {
     "data": {
      "text/plain": [
       "{'RevolvingUtilizationOfUnsecuredLines': cut\n",
       " (-inf, 0.0603]     2.429877\n",
       " (0.0603, 0.153]    1.309057\n",
       " (0.153, 0.465]     0.170152\n",
       " (0.465, 1.0]      -0.946032\n",
       " (1.0, inf]        -2.073600\n",
       " dtype: float64, 'age': cut\n",
       " (-inf, 36.591]     -0.508611\n",
       " (36.591, 48.503]   -0.318480\n",
       " (48.503, 58.712]   -0.081356\n",
       " (58.712, 64.0]      0.579139\n",
       " (64.0, 74.0]        1.049943\n",
       " (74.0, inf]         1.605533\n",
       " dtype: float64, 'DebtRatio': cut\n",
       " (-inf, 0.0172]     1.513294\n",
       " (0.0172, 0.401]    0.037751\n",
       " (0.401, 1.451]    -0.390952\n",
       " (1.451, inf]       0.174848\n",
       " dtype: float64, 'MonthlyIncome': cut\n",
       " (-inf, 0.1]            1.355419\n",
       " (0.1, 7.385]           0.036590\n",
       " (7.385, 5584.92]      -0.294030\n",
       " (5584.92, 7729.232]    0.076437\n",
       " (7729.232, inf]        0.359316\n",
       " dtype: float64, 'NumberOfOpenCreditLinesAndLoans': cut\n",
       " (-inf, 5.987]    -0.278882\n",
       " (5.987, 6.0]      1.814619\n",
       " (6.0, 8.892]     -0.205465\n",
       " (8.892, 9.094]    1.185416\n",
       " (9.094, inf]      0.020003\n",
       " dtype: float64, 'NumberOfTime30-59DaysPastDueNotWorse': cut\n",
       " (-inf, 0.0]    1.091205\n",
       " (0.0, 1.0]    -1.382604\n",
       " (1.0, 2.0]    -2.045188\n",
       " (2.0, inf]    -2.283048\n",
       " dtype: float64, 'NumberOfTimes90DaysLate': cut\n",
       " (-inf, 0.0]    0.691682\n",
       " (0.0, 1.0]    -2.569503\n",
       " (1.0, 2.0]    -3.032594\n",
       " (2.0, inf]    -3.150231\n",
       " dtype: float64, 'NumberRealEstateLoansOrLines': cut\n",
       " (-inf, 0.0]    0.208249\n",
       " (0.0, 1.0]    -0.001204\n",
       " (1.0, 2.0]    -0.118841\n",
       " (2.0, 4.0]    -0.433605\n",
       " (4.0, inf]    -0.808204\n",
       " dtype: float64, 'NumberOfTime60-89DaysPastDueNotWorse': cut\n",
       " (-inf, 0.0]    0.537173\n",
       " (0.0, 1.0]    -2.487708\n",
       " (1.0, 2.0]    -2.957062\n",
       " (2.0, inf]    -2.825211\n",
       " dtype: float64, 'NumberOfDependents': cut\n",
       " (-inf, 0.0]    0.626527\n",
       " (0.0, 1.0]    -0.591887\n",
       " (1.0, 2.0]    -0.525239\n",
       " (2.0, inf]    -0.487382\n",
       " dtype: float64}"
      ]
     },
     "execution_count": 190,
     "metadata": {},
     "output_type": "execute_result"
    }
   ],
   "source": [
    "woe_all"
   ]
  },
  {
   "cell_type": "code",
   "execution_count": 195,
   "metadata": {},
   "outputs": [
    {
     "data": {
      "text/plain": [
       "pandas.core.series.Series"
      ]
     },
     "execution_count": 195,
     "metadata": {},
     "output_type": "execute_result"
    }
   ],
   "source": [
    "score_age = -B*woe_all['age']*lr.coef_[0][1]\n",
    "score_age"
   ]
  },
  {
   "cell_type": "code",
   "execution_count": 198,
   "metadata": {},
   "outputs": [],
   "source": [
    "file = r\"E:\\machine learning\\logistic regression\\credit score.csv\"\n",
    "\n",
    "with open(file,\"w\") as fdata:\n",
    "    fdata.write(\"base_score,{}\\n\".format(base_score))\n",
    "for i,col in enumerate(x.columns):\n",
    "    score = woe_all[col]*(-B*lr.coef_[0][i])\n",
    "    score.name = \"score\"\n",
    "    score.index.name = col\n",
    "    score.to_csv(file,header=True,mode=\"a\")"
   ]
  },
  {
   "cell_type": "code",
   "execution_count": null,
   "metadata": {},
   "outputs": [],
   "source": []
  }
 ],
 "metadata": {
  "kernelspec": {
   "display_name": "Python 3",
   "language": "python",
   "name": "python3"
  },
  "language_info": {
   "codemirror_mode": {
    "name": "ipython",
    "version": 3
   },
   "file_extension": ".py",
   "mimetype": "text/x-python",
   "name": "python",
   "nbconvert_exporter": "python",
   "pygments_lexer": "ipython3",
   "version": "3.7.4"
  }
 },
 "nbformat": 4,
 "nbformat_minor": 2
}
